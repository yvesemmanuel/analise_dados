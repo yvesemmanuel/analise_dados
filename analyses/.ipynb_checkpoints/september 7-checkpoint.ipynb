{
 "cells": [
  {
   "cell_type": "markdown",
   "id": "5ee6e731",
   "metadata": {},
   "source": [
    "# Analysis of Recife Vaccination Data"
   ]
  },
  {
   "cell_type": "code",
   "execution_count": 1,
   "id": "26518b03",
   "metadata": {},
   "outputs": [],
   "source": [
    "import pandas as pd"
   ]
  },
  {
   "cell_type": "code",
   "execution_count": 2,
   "id": "67e05c5f",
   "metadata": {},
   "outputs": [],
   "source": [
    "raw_data = pd.read_csv(\"vacinados.csv\", sep = \";\", encoding = \"ISO-8859-1\")"
   ]
  },
  {
   "cell_type": "code",
   "execution_count": 3,
   "id": "38ea8124",
   "metadata": {},
   "outputs": [
    {
     "data": {
      "text/html": [
       "<div>\n",
       "<style scoped>\n",
       "    .dataframe tbody tr th:only-of-type {\n",
       "        vertical-align: middle;\n",
       "    }\n",
       "\n",
       "    .dataframe tbody tr th {\n",
       "        vertical-align: top;\n",
       "    }\n",
       "\n",
       "    .dataframe thead th {\n",
       "        text-align: right;\n",
       "    }\n",
       "</style>\n",
       "<table border=\"1\" class=\"dataframe\">\n",
       "  <thead>\n",
       "    <tr style=\"text-align: right;\">\n",
       "      <th></th>\n",
       "      <th>cpf</th>\n",
       "      <th>nome</th>\n",
       "      <th>sexo</th>\n",
       "      <th>grupo</th>\n",
       "      <th>vacina</th>\n",
       "      <th>lote</th>\n",
       "      <th>dose</th>\n",
       "      <th>data_vacinacao</th>\n",
       "      <th>local_vacinacao</th>\n",
       "    </tr>\n",
       "  </thead>\n",
       "  <tbody>\n",
       "    <tr>\n",
       "      <th>0</th>\n",
       "      <td>***.574.544-**</td>\n",
       "      <td>AABAN VASCONCELOS ZYZZYAG</td>\n",
       "      <td>MASCULINO</td>\n",
       "      <td>TRABALHADORES INDUSTRIAIS E BANCÃRIOS</td>\n",
       "      <td>2 - CHADOX1NCOV-19 - OXFORD/ASTRAZENECA (FIOCRUZ)</td>\n",
       "      <td>216VCD206Z</td>\n",
       "      <td>1</td>\n",
       "      <td>26/07/2021</td>\n",
       "      <td>DRIVE THRU PARQUE DE EXPOSIÃÃO</td>\n",
       "    </tr>\n",
       "    <tr>\n",
       "      <th>1</th>\n",
       "      <td>***.886.964-**</td>\n",
       "      <td>AAMANDA MARIA FREIRE DA SILVA</td>\n",
       "      <td>FEMININO</td>\n",
       "      <td>TRABALHADORES DA SAÃDE</td>\n",
       "      <td>1 - CORONAVAC - SINOVAC (BUTANTAN)</td>\n",
       "      <td>210016</td>\n",
       "      <td>1</td>\n",
       "      <td>11/02/2021</td>\n",
       "      <td>CENTRO DE VACINAÃÃO COMPAZ MIGUEL ARRAES</td>\n",
       "    </tr>\n",
       "    <tr>\n",
       "      <th>2</th>\n",
       "      <td>***.886.964-**</td>\n",
       "      <td>AAMANDA MARIA FREIRE DA SILVA</td>\n",
       "      <td>FEMININO</td>\n",
       "      <td>TRABALHADORES DA SAÃDE</td>\n",
       "      <td>1 - CORONAVAC - SINOVAC (BUTANTAN)</td>\n",
       "      <td>210043</td>\n",
       "      <td>2</td>\n",
       "      <td>04/03/2021</td>\n",
       "      <td>CENTRO DE VACINAÃÃO PARQUE DE EXPOSIÃÃO</td>\n",
       "    </tr>\n",
       "    <tr>\n",
       "      <th>3</th>\n",
       "      <td>***.405.524-**</td>\n",
       "      <td>AANA MAYARA DA SILVA DE OLIVEIRA</td>\n",
       "      <td>FEMININO</td>\n",
       "      <td>PÃBLICO EM GERAL (18 a 59 anos)</td>\n",
       "      <td>3 - COMIRNATY (PFIZER)</td>\n",
       "      <td>FD7209</td>\n",
       "      <td>1</td>\n",
       "      <td>21/08/2021</td>\n",
       "      <td>CENTRO DE VACINAÃÃO PORTO DIGITAL</td>\n",
       "    </tr>\n",
       "    <tr>\n",
       "      <th>4</th>\n",
       "      <td>***.695.200-**</td>\n",
       "      <td>AANTONIO DE MELO LIMA</td>\n",
       "      <td>MASCULINO</td>\n",
       "      <td>IDOSOS</td>\n",
       "      <td>1 - CORONAVAC - SINOVAC (BUTANTAN)</td>\n",
       "      <td>202009014</td>\n",
       "      <td>1</td>\n",
       "      <td>10/03/2021</td>\n",
       "      <td>CENTRO DE VACINAÃÃO  COMPAZ ARIANO SUASSUNA</td>\n",
       "    </tr>\n",
       "  </tbody>\n",
       "</table>\n",
       "</div>"
      ],
      "text/plain": [
       "              cpf                              nome       sexo  \\\n",
       "0  ***.574.544-**         AABAN VASCONCELOS ZYZZYAG  MASCULINO   \n",
       "1  ***.886.964-**     AAMANDA MARIA FREIRE DA SILVA   FEMININO   \n",
       "2  ***.886.964-**     AAMANDA MARIA FREIRE DA SILVA   FEMININO   \n",
       "3  ***.405.524-**  AANA MAYARA DA SILVA DE OLIVEIRA   FEMININO   \n",
       "4  ***.695.200-**             AANTONIO DE MELO LIMA  MASCULINO   \n",
       "\n",
       "                                    grupo  \\\n",
       "0  TRABALHADORES INDUSTRIAIS E BANCÃRIOS   \n",
       "1                 TRABALHADORES DA SAÃDE   \n",
       "2                 TRABALHADORES DA SAÃDE   \n",
       "3        PÃBLICO EM GERAL (18 a 59 anos)   \n",
       "4                                  IDOSOS   \n",
       "\n",
       "                                              vacina        lote  dose  \\\n",
       "0  2 - CHADOX1NCOV-19 - OXFORD/ASTRAZENECA (FIOCRUZ)  216VCD206Z     1   \n",
       "1                 1 - CORONAVAC - SINOVAC (BUTANTAN)      210016     1   \n",
       "2                 1 - CORONAVAC - SINOVAC (BUTANTAN)      210043     2   \n",
       "3                             3 - COMIRNATY (PFIZER)      FD7209     1   \n",
       "4                 1 - CORONAVAC - SINOVAC (BUTANTAN)   202009014     1   \n",
       "\n",
       "  data_vacinacao                                local_vacinacao  \n",
       "0     26/07/2021               DRIVE THRU PARQUE DE EXPOSIÃÃO  \n",
       "1     11/02/2021     CENTRO DE VACINAÃÃO COMPAZ MIGUEL ARRAES  \n",
       "2     04/03/2021    CENTRO DE VACINAÃÃO PARQUE DE EXPOSIÃÃO  \n",
       "3     21/08/2021            CENTRO DE VACINAÃÃO PORTO DIGITAL  \n",
       "4     10/03/2021  CENTRO DE VACINAÃÃO  COMPAZ ARIANO SUASSUNA  "
      ]
     },
     "execution_count": 3,
     "metadata": {},
     "output_type": "execute_result"
    }
   ],
   "source": [
    "raw_data.head()"
   ]
  },
  {
   "cell_type": "markdown",
   "id": "e92001c0",
   "metadata": {},
   "source": [
    "## I noticed a new class named \"sexo\"."
   ]
  },
  {
   "cell_type": "markdown",
   "id": "204399e0",
   "metadata": {},
   "source": [
    "# data handling"
   ]
  },
  {
   "cell_type": "markdown",
   "id": "6a723a6c",
   "metadata": {},
   "source": [
    "### filtering data:"
   ]
  },
  {
   "cell_type": "code",
   "execution_count": 4,
   "id": "cb609cc3",
   "metadata": {},
   "outputs": [
    {
     "data": {
      "text/plain": [
       "Index(['cpf', 'nome', 'sexo', 'grupo', 'vacina', 'lote', 'dose',\n",
       "       'data_vacinacao', 'local_vacinacao'],\n",
       "      dtype='object')"
      ]
     },
     "execution_count": 4,
     "metadata": {},
     "output_type": "execute_result"
    }
   ],
   "source": [
    "raw_data.columns"
   ]
  },
  {
   "cell_type": "code",
   "execution_count": 5,
   "id": "f787d4a5",
   "metadata": {},
   "outputs": [
    {
     "data": {
      "text/html": [
       "<div>\n",
       "<style scoped>\n",
       "    .dataframe tbody tr th:only-of-type {\n",
       "        vertical-align: middle;\n",
       "    }\n",
       "\n",
       "    .dataframe tbody tr th {\n",
       "        vertical-align: top;\n",
       "    }\n",
       "\n",
       "    .dataframe thead th {\n",
       "        text-align: right;\n",
       "    }\n",
       "</style>\n",
       "<table border=\"1\" class=\"dataframe\">\n",
       "  <thead>\n",
       "    <tr style=\"text-align: right;\">\n",
       "      <th></th>\n",
       "      <th>cpf</th>\n",
       "      <th>grupo</th>\n",
       "      <th>vacina</th>\n",
       "      <th>dose</th>\n",
       "      <th>data_vacinacao</th>\n",
       "      <th>sexo</th>\n",
       "    </tr>\n",
       "  </thead>\n",
       "  <tbody>\n",
       "    <tr>\n",
       "      <th>0</th>\n",
       "      <td>***.574.544-**</td>\n",
       "      <td>TRABALHADORES INDUSTRIAIS E BANCÃRIOS</td>\n",
       "      <td>2 - CHADOX1NCOV-19 - OXFORD/ASTRAZENECA (FIOCRUZ)</td>\n",
       "      <td>1</td>\n",
       "      <td>26/07/2021</td>\n",
       "      <td>MASCULINO</td>\n",
       "    </tr>\n",
       "    <tr>\n",
       "      <th>1</th>\n",
       "      <td>***.886.964-**</td>\n",
       "      <td>TRABALHADORES DA SAÃDE</td>\n",
       "      <td>1 - CORONAVAC - SINOVAC (BUTANTAN)</td>\n",
       "      <td>1</td>\n",
       "      <td>11/02/2021</td>\n",
       "      <td>FEMININO</td>\n",
       "    </tr>\n",
       "    <tr>\n",
       "      <th>2</th>\n",
       "      <td>***.886.964-**</td>\n",
       "      <td>TRABALHADORES DA SAÃDE</td>\n",
       "      <td>1 - CORONAVAC - SINOVAC (BUTANTAN)</td>\n",
       "      <td>2</td>\n",
       "      <td>04/03/2021</td>\n",
       "      <td>FEMININO</td>\n",
       "    </tr>\n",
       "    <tr>\n",
       "      <th>3</th>\n",
       "      <td>***.405.524-**</td>\n",
       "      <td>PÃBLICO EM GERAL (18 a 59 anos)</td>\n",
       "      <td>3 - COMIRNATY (PFIZER)</td>\n",
       "      <td>1</td>\n",
       "      <td>21/08/2021</td>\n",
       "      <td>FEMININO</td>\n",
       "    </tr>\n",
       "    <tr>\n",
       "      <th>4</th>\n",
       "      <td>***.695.200-**</td>\n",
       "      <td>IDOSOS</td>\n",
       "      <td>1 - CORONAVAC - SINOVAC (BUTANTAN)</td>\n",
       "      <td>1</td>\n",
       "      <td>10/03/2021</td>\n",
       "      <td>MASCULINO</td>\n",
       "    </tr>\n",
       "  </tbody>\n",
       "</table>\n",
       "</div>"
      ],
      "text/plain": [
       "              cpf                                   grupo  \\\n",
       "0  ***.574.544-**  TRABALHADORES INDUSTRIAIS E BANCÃRIOS   \n",
       "1  ***.886.964-**                 TRABALHADORES DA SAÃDE   \n",
       "2  ***.886.964-**                 TRABALHADORES DA SAÃDE   \n",
       "3  ***.405.524-**        PÃBLICO EM GERAL (18 a 59 anos)   \n",
       "4  ***.695.200-**                                  IDOSOS   \n",
       "\n",
       "                                              vacina  dose data_vacinacao  \\\n",
       "0  2 - CHADOX1NCOV-19 - OXFORD/ASTRAZENECA (FIOCRUZ)     1     26/07/2021   \n",
       "1                 1 - CORONAVAC - SINOVAC (BUTANTAN)     1     11/02/2021   \n",
       "2                 1 - CORONAVAC - SINOVAC (BUTANTAN)     2     04/03/2021   \n",
       "3                             3 - COMIRNATY (PFIZER)     1     21/08/2021   \n",
       "4                 1 - CORONAVAC - SINOVAC (BUTANTAN)     1     10/03/2021   \n",
       "\n",
       "        sexo  \n",
       "0  MASCULINO  \n",
       "1   FEMININO  \n",
       "2   FEMININO  \n",
       "3   FEMININO  \n",
       "4  MASCULINO  "
      ]
     },
     "execution_count": 5,
     "metadata": {},
     "output_type": "execute_result"
    }
   ],
   "source": [
    "data = raw_data.loc[:, [\"cpf\", \"grupo\", \"vacina\", \"dose\", \"data_vacinacao\", \"sexo\"]]\n",
    "data.head()"
   ]
  },
  {
   "cell_type": "markdown",
   "id": "408af1fb",
   "metadata": {},
   "source": [
    "### renaming vaccines:"
   ]
  },
  {
   "cell_type": "code",
   "execution_count": 6,
   "id": "d57f64e0",
   "metadata": {},
   "outputs": [
    {
     "data": {
      "text/plain": [
       "array(['2 - CHADOX1NCOV-19 - OXFORD/ASTRAZENECA (FIOCRUZ)',\n",
       "       '1 - CORONAVAC - SINOVAC (BUTANTAN)', '3 - COMIRNATY (PFIZER)',\n",
       "       '4 - JANSSEN COVID-19 VACCINE (JOHNSON & JOHNSON)',\n",
       "       '1- CORONAVAC - SINOVAC (BUTANTAN)'], dtype=object)"
      ]
     },
     "execution_count": 6,
     "metadata": {},
     "output_type": "execute_result"
    }
   ],
   "source": [
    "data[\"vacina\"].unique()"
   ]
  },
  {
   "cell_type": "code",
   "execution_count": 7,
   "id": "661e6275",
   "metadata": {},
   "outputs": [],
   "source": [
    "data[\"vacina\"] = data[\"vacina\"].replace([\"1- CORONAVAC - SINOVAC (BUTANTAN)\", \"1 - CORONAVAC - SINOVAC (BUTANTAN)\"], \"CORONAVAC\")"
   ]
  },
  {
   "cell_type": "code",
   "execution_count": 8,
   "id": "cd23fb46",
   "metadata": {},
   "outputs": [],
   "source": [
    "data[\"vacina\"] = data[\"vacina\"].replace([\"2 - CHADOX1NCOV-19 - OXFORD/ASTRAZENECA (FIOCRUZ)\",\n",
    "                                         \"3 - COMIRNATY (PFIZER)\", \"4 - JANSSEN COVID-19 VACCINE (JOHNSON & JOHNSON)\"],\n",
    "                                       \n",
    "                                       [\"CHADOX1NCOV-19\", \"COMIRNATY\", \"JANSSEN\"])"
   ]
  },
  {
   "cell_type": "code",
   "execution_count": 9,
   "id": "01d38347",
   "metadata": {},
   "outputs": [
    {
     "data": {
      "text/plain": [
       "array(['CHADOX1NCOV-19', 'CORONAVAC', 'COMIRNATY', 'JANSSEN'],\n",
       "      dtype=object)"
      ]
     },
     "execution_count": 9,
     "metadata": {},
     "output_type": "execute_result"
    }
   ],
   "source": [
    "data[\"vacina\"].unique()"
   ]
  },
  {
   "cell_type": "markdown",
   "id": "f0e67cc2",
   "metadata": {},
   "source": [
    "### renaming groups:"
   ]
  },
  {
   "cell_type": "code",
   "execution_count": 10,
   "id": "e1c0aea3",
   "metadata": {},
   "outputs": [
    {
     "data": {
      "text/plain": [
       "array(['TRABALHADORES INDUSTRIAIS E BANCÃ\\x81RIOS',\n",
       "       'TRABALHADORES DA SAÃ\\x9aDE',\n",
       "       'PÃ\\x9aBLICO EM GERAL (18 a 59 anos)', 'IDOSOS',\n",
       "       'TRABALHADORES DA EDUCAÃ\\x87Ã\\x83O', 'PESSOAS COM COMORBIDADES',\n",
       "       'OUTRAS PRIORIDADES', 'CAMINHONEIROS',\n",
       "       ' PÃ\\x9aBLICO EM GERAL - MENOR DE 18 ANOS',\n",
       "       'TRABALHADORES DE TRANSPORTE COLETIVO RODOVIÃ\\x81RIO',\n",
       "       'TRABALHADORES DE TRANSPORTE AÃ\\x89REO',\n",
       "       'TRABALHADORES DA LIMPEZA URBANA',\n",
       "       'PESSOAS EM SITUAÃ\\x87Ã\\x83O DE RUA', 'GESTANTES E PUÃ\\x89RPERAS',\n",
       "       'TRABALHADORES DE TRANSPORTE METROVIÃ\\x81RIO E FERROVIÃ\\x81RIO',\n",
       "       'TRABALHADORES PORTUÃ\\x81RIOS',\n",
       "       'TRABALHADORES DA ASSISTÃ\\x8aNCIA SOCIAL',\n",
       "       'GESTANTES E PUÃ\\x89RPERAS NÃ\\x83O RESIDENTES EM RECIFE',\n",
       "       'PESSOAS COM DEFICIÃ\\x8aNCIA - 12 A 17 ANOS',\n",
       "       'PESSOAS COM VIAGEM PARA EXTERIOR (ESTUDO/PESQUISA/TRABALHO/TRATAMENTO DE SAÃ\\x9aDE)',\n",
       "       'GESTANTES E PUÃ\\x89RPERAS - 12 A 17 ANOS',\n",
       "       'PESSOAS COM COMORBIDADES - 12 A 17 ANOS',\n",
       "       'TRABALHADORES DE TRANSPORTE AQUAVIÃ\\x81RIO'], dtype=object)"
      ]
     },
     "execution_count": 10,
     "metadata": {},
     "output_type": "execute_result"
    }
   ],
   "source": [
    "data[\"grupo\"].unique()"
   ]
  },
  {
   "cell_type": "code",
   "execution_count": 11,
   "id": "cf1b1210",
   "metadata": {},
   "outputs": [],
   "source": [
    "data[\"grupo\"] = data[\"grupo\"].replace([\"TRABALHADORES INDUSTRIAIS E BANCÃ\\x81RIOS\", \"TRABALHADORES DA SAÃ\\x9aDE\",\n",
    "                                       \"PÃ\\x9aBLICO EM GERAL (18 a 59 anos)\", \"IDOSOS\",\n",
    "                                       \"TRABALHADORES DA EDUCAÃ\\x87Ã\\x83O\", \"PESSOAS COM COMORBIDADES\",\n",
    "                                       \"OUTRAS PRIORIDADES\", \"CAMINHONEIROS\",\n",
    "                                       \" PÃ\\x9aBLICO EM GERAL - MENOR DE 18 ANOS\",\n",
    "                                       \"TRABALHADORES DE TRANSPORTE COLETIVO RODOVIÃ\\x81RIO\",\n",
    "                                       \"TRABALHADORES DE TRANSPORTE AÃ\\x89REO\",\n",
    "                                       \"TRABALHADORES DA LIMPEZA URBANA\",\n",
    "                                       \"PESSOAS EM SITUAÃ\\x87Ã\\x83O DE RUA\", \"GESTANTES E PUÃ\\x89RPERAS\",\n",
    "                                       \"TRABALHADORES DE TRANSPORTE METROVIÃ\\x81RIO E FERROVIÃ\\x81RIO\",\n",
    "                                       \"TRABALHADORES PORTUÃ\\x81RIOS\", \"TRABALHADORES DA ASSISTÃ\\x8aNCIA SOCIAL\",\n",
    "                                       \"GESTANTES E PUÃ\\x89RPERAS NÃ\\x83O RESIDENTES EM RECIFE\",\n",
    "                                       \"PESSOAS COM DEFICIÃ\\x8aNCIA - 12 A 17 ANOS\",\n",
    "                                       \"PESSOAS COM VIAGEM PARA EXTERIOR (ESTUDO/PESQUISA/TRABALHO/TRATAMENTO DE SAÃ\\x9aDE)\",\n",
    "                                       \"GESTANTES E PUÃ\\x89RPERAS - 12 A 17 ANOS\", \"PESSOAS COM COMORBIDADES - 12 A 17 ANOS\",\n",
    "                                       \"TRABALHADORES DE TRANSPORTE AQUAVIÃ\\x81RIO\"],\n",
    "                                      \n",
    "                                      [\"TRABALHADORES INDUSTRIAIS E BANCARIOS\", \"TRABALHADORES DA SAUDE\",\n",
    "                                       \"PUBLICO EM GERAL (18 a 59 anos)\", \"IDOSOS\",\n",
    "                                       \"TRABALHADORES DA EDUCACAO\", \"PESSOAS COM COMORBIDADES\",\n",
    "                                       \"OUTRAS PRIORIDADES\", \"CAMINHONEIROS\",\n",
    "                                       \" PUBLICO EM GERAL - MENOR DE 18 ANOS\",\n",
    "                                       \"TRABALHADORES DE TRANSPORTE COLETIVO RODOVIARIA\",\n",
    "                                       \"TRABALHADORES DE TRANSPORTE AREO\",\n",
    "                                       \"TRABALHADORES DA LIMPEZA URBANA\",\n",
    "                                       \"PESSOAS EM SITUACAO DE RUA\", \"GESTANTES E PUERPERAS\",\n",
    "                                       \"TRABALHADORES DE TRANSPORTE METROVIARIO E FERROVIARIO\",\n",
    "                                       \"TRABALHADORES PORTUARIOS\", \"TRABALHADORES DA ASSISTENCIA SOCIAL\",\n",
    "                                       \"GESTANTES E PUERPERAS NAO RESIDENTES EM RECIFE\",\n",
    "                                       \"PESSOAS COM DEFICIENCIA - 12 A 17 ANOS\",\n",
    "                                       \"PESSOAS COM VIAGEM PARA EXTERIOR (ESTUDO/PESQUISA/TRABALHO/TRATAMENTO DE SAUDE)\",\n",
    "                                       \"GESTANTES E PUERPERAS - 12 A 17 ANOS\", \"PESSOAS COM COMORBIDADES - 12 A 17 ANOS\",\n",
    "                                       \"TRABALHADORES DE TRANSPORTE AQUAVIARIO\"]\n",
    "                                     )\n"
   ]
  },
  {
   "cell_type": "code",
   "execution_count": 12,
   "id": "27d1a806",
   "metadata": {},
   "outputs": [
    {
     "data": {
      "text/plain": [
       "array(['TRABALHADORES INDUSTRIAIS E BANCARIOS', 'TRABALHADORES DA SAUDE',\n",
       "       'PUBLICO EM GERAL (18 a 59 anos)', 'IDOSOS',\n",
       "       'TRABALHADORES DA EDUCACAO', 'PESSOAS COM COMORBIDADES',\n",
       "       'OUTRAS PRIORIDADES', 'CAMINHONEIROS',\n",
       "       ' PUBLICO EM GERAL - MENOR DE 18 ANOS',\n",
       "       'TRABALHADORES DE TRANSPORTE COLETIVO RODOVIARIA',\n",
       "       'TRABALHADORES DE TRANSPORTE AREO',\n",
       "       'TRABALHADORES DA LIMPEZA URBANA', 'PESSOAS EM SITUACAO DE RUA',\n",
       "       'GESTANTES E PUERPERAS',\n",
       "       'TRABALHADORES DE TRANSPORTE METROVIARIO E FERROVIARIO',\n",
       "       'TRABALHADORES PORTUARIOS', 'TRABALHADORES DA ASSISTENCIA SOCIAL',\n",
       "       'GESTANTES E PUERPERAS NAO RESIDENTES EM RECIFE',\n",
       "       'PESSOAS COM DEFICIENCIA - 12 A 17 ANOS',\n",
       "       'PESSOAS COM VIAGEM PARA EXTERIOR (ESTUDO/PESQUISA/TRABALHO/TRATAMENTO DE SAUDE)',\n",
       "       'GESTANTES E PUERPERAS - 12 A 17 ANOS',\n",
       "       'PESSOAS COM COMORBIDADES - 12 A 17 ANOS',\n",
       "       'TRABALHADORES DE TRANSPORTE AQUAVIARIO'], dtype=object)"
      ]
     },
     "execution_count": 12,
     "metadata": {},
     "output_type": "execute_result"
    }
   ],
   "source": [
    "data[\"grupo\"].unique()"
   ]
  },
  {
   "cell_type": "code",
   "execution_count": 14,
   "id": "c0f8767a",
   "metadata": {},
   "outputs": [
    {
     "data": {
      "text/html": [
       "<div>\n",
       "<style scoped>\n",
       "    .dataframe tbody tr th:only-of-type {\n",
       "        vertical-align: middle;\n",
       "    }\n",
       "\n",
       "    .dataframe tbody tr th {\n",
       "        vertical-align: top;\n",
       "    }\n",
       "\n",
       "    .dataframe thead th {\n",
       "        text-align: right;\n",
       "    }\n",
       "</style>\n",
       "<table border=\"1\" class=\"dataframe\">\n",
       "  <thead>\n",
       "    <tr style=\"text-align: right;\">\n",
       "      <th></th>\n",
       "      <th>cpf</th>\n",
       "      <th>grupo</th>\n",
       "      <th>vacina</th>\n",
       "      <th>dose</th>\n",
       "      <th>data_vacinacao</th>\n",
       "      <th>sexo</th>\n",
       "    </tr>\n",
       "  </thead>\n",
       "  <tbody>\n",
       "    <tr>\n",
       "      <th>0</th>\n",
       "      <td>***.574.544-**</td>\n",
       "      <td>TRABALHADORES INDUSTRIAIS E BANCARIOS</td>\n",
       "      <td>CHADOX1NCOV-19</td>\n",
       "      <td>1</td>\n",
       "      <td>26/07/2021</td>\n",
       "      <td>MASCULINO</td>\n",
       "    </tr>\n",
       "    <tr>\n",
       "      <th>1</th>\n",
       "      <td>***.886.964-**</td>\n",
       "      <td>TRABALHADORES DA SAUDE</td>\n",
       "      <td>CORONAVAC</td>\n",
       "      <td>1</td>\n",
       "      <td>11/02/2021</td>\n",
       "      <td>FEMININO</td>\n",
       "    </tr>\n",
       "    <tr>\n",
       "      <th>2</th>\n",
       "      <td>***.886.964-**</td>\n",
       "      <td>TRABALHADORES DA SAUDE</td>\n",
       "      <td>CORONAVAC</td>\n",
       "      <td>2</td>\n",
       "      <td>04/03/2021</td>\n",
       "      <td>FEMININO</td>\n",
       "    </tr>\n",
       "    <tr>\n",
       "      <th>3</th>\n",
       "      <td>***.405.524-**</td>\n",
       "      <td>PUBLICO EM GERAL (18 a 59 anos)</td>\n",
       "      <td>COMIRNATY</td>\n",
       "      <td>1</td>\n",
       "      <td>21/08/2021</td>\n",
       "      <td>FEMININO</td>\n",
       "    </tr>\n",
       "    <tr>\n",
       "      <th>4</th>\n",
       "      <td>***.695.200-**</td>\n",
       "      <td>IDOSOS</td>\n",
       "      <td>CORONAVAC</td>\n",
       "      <td>1</td>\n",
       "      <td>10/03/2021</td>\n",
       "      <td>MASCULINO</td>\n",
       "    </tr>\n",
       "    <tr>\n",
       "      <th>5</th>\n",
       "      <td>***.695.200-**</td>\n",
       "      <td>IDOSOS</td>\n",
       "      <td>CORONAVAC</td>\n",
       "      <td>2</td>\n",
       "      <td>31/03/2021</td>\n",
       "      <td>MASCULINO</td>\n",
       "    </tr>\n",
       "    <tr>\n",
       "      <th>6</th>\n",
       "      <td>***.091.004-**</td>\n",
       "      <td>PUBLICO EM GERAL (18 a 59 anos)</td>\n",
       "      <td>CHADOX1NCOV-19</td>\n",
       "      <td>1</td>\n",
       "      <td>30/07/2021</td>\n",
       "      <td>MASCULINO</td>\n",
       "    </tr>\n",
       "    <tr>\n",
       "      <th>7</th>\n",
       "      <td>***.284.114-**</td>\n",
       "      <td>PUBLICO EM GERAL (18 a 59 anos)</td>\n",
       "      <td>CHADOX1NCOV-19</td>\n",
       "      <td>1</td>\n",
       "      <td>15/06/2021</td>\n",
       "      <td>MASCULINO</td>\n",
       "    </tr>\n",
       "    <tr>\n",
       "      <th>8</th>\n",
       "      <td>***.599.494-**</td>\n",
       "      <td>PUBLICO EM GERAL (18 a 59 anos)</td>\n",
       "      <td>CHADOX1NCOV-19</td>\n",
       "      <td>1</td>\n",
       "      <td>01/06/2021</td>\n",
       "      <td>MASCULINO</td>\n",
       "    </tr>\n",
       "    <tr>\n",
       "      <th>9</th>\n",
       "      <td>***.599.494-**</td>\n",
       "      <td>PUBLICO EM GERAL (18 a 59 anos)</td>\n",
       "      <td>CHADOX1NCOV-19</td>\n",
       "      <td>2</td>\n",
       "      <td>01/08/2021</td>\n",
       "      <td>MASCULINO</td>\n",
       "    </tr>\n",
       "  </tbody>\n",
       "</table>\n",
       "</div>"
      ],
      "text/plain": [
       "              cpf                                  grupo          vacina  \\\n",
       "0  ***.574.544-**  TRABALHADORES INDUSTRIAIS E BANCARIOS  CHADOX1NCOV-19   \n",
       "1  ***.886.964-**                 TRABALHADORES DA SAUDE       CORONAVAC   \n",
       "2  ***.886.964-**                 TRABALHADORES DA SAUDE       CORONAVAC   \n",
       "3  ***.405.524-**        PUBLICO EM GERAL (18 a 59 anos)       COMIRNATY   \n",
       "4  ***.695.200-**                                 IDOSOS       CORONAVAC   \n",
       "5  ***.695.200-**                                 IDOSOS       CORONAVAC   \n",
       "6  ***.091.004-**        PUBLICO EM GERAL (18 a 59 anos)  CHADOX1NCOV-19   \n",
       "7  ***.284.114-**        PUBLICO EM GERAL (18 a 59 anos)  CHADOX1NCOV-19   \n",
       "8  ***.599.494-**        PUBLICO EM GERAL (18 a 59 anos)  CHADOX1NCOV-19   \n",
       "9  ***.599.494-**        PUBLICO EM GERAL (18 a 59 anos)  CHADOX1NCOV-19   \n",
       "\n",
       "   dose data_vacinacao       sexo  \n",
       "0     1     26/07/2021  MASCULINO  \n",
       "1     1     11/02/2021   FEMININO  \n",
       "2     2     04/03/2021   FEMININO  \n",
       "3     1     21/08/2021   FEMININO  \n",
       "4     1     10/03/2021  MASCULINO  \n",
       "5     2     31/03/2021  MASCULINO  \n",
       "6     1     30/07/2021  MASCULINO  \n",
       "7     1     15/06/2021  MASCULINO  \n",
       "8     1     01/06/2021  MASCULINO  \n",
       "9     2     01/08/2021  MASCULINO  "
      ]
     },
     "execution_count": 14,
     "metadata": {},
     "output_type": "execute_result"
    }
   ],
   "source": [
    "data.head(10)"
   ]
  },
  {
   "cell_type": "markdown",
   "id": "47704440",
   "metadata": {},
   "source": [
    "# query analysis"
   ]
  },
  {
   "cell_type": "code",
   "execution_count": null,
   "id": "7e9b4e87",
   "metadata": {},
   "outputs": [],
   "source": []
  }
 ],
 "metadata": {
  "kernelspec": {
   "display_name": "Python 3 (ipykernel)",
   "language": "python",
   "name": "python3"
  },
  "language_info": {
   "codemirror_mode": {
    "name": "ipython",
    "version": 3
   },
   "file_extension": ".py",
   "mimetype": "text/x-python",
   "name": "python",
   "nbconvert_exporter": "python",
   "pygments_lexer": "ipython3",
   "version": "3.8.10"
  }
 },
 "nbformat": 4,
 "nbformat_minor": 5
}
