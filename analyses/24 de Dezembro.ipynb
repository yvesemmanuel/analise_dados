{
 "cells": [
  {
   "cell_type": "markdown",
   "id": "5e2d7286",
   "metadata": {},
   "source": [
    "# Análise da Vacinação no Recife"
   ]
  },
  {
   "cell_type": "code",
   "execution_count": 1,
   "id": "195bf66d",
   "metadata": {},
   "outputs": [],
   "source": [
    "import pandas as pd"
   ]
  },
  {
   "cell_type": "code",
   "execution_count": 2,
   "id": "bcaa35ff",
   "metadata": {},
   "outputs": [],
   "source": [
    "raw_data = pd.read_csv('vacinados - 24 de dezembro.csv', sep= ';', encoding = 'utf-8')"
   ]
  },
  {
   "cell_type": "code",
   "execution_count": 3,
   "id": "706250ea",
   "metadata": {
    "scrolled": true
   },
   "outputs": [
    {
     "data": {
      "text/html": [
       "<div>\n",
       "<style scoped>\n",
       "    .dataframe tbody tr th:only-of-type {\n",
       "        vertical-align: middle;\n",
       "    }\n",
       "\n",
       "    .dataframe tbody tr th {\n",
       "        vertical-align: top;\n",
       "    }\n",
       "\n",
       "    .dataframe thead th {\n",
       "        text-align: right;\n",
       "    }\n",
       "</style>\n",
       "<table border=\"1\" class=\"dataframe\">\n",
       "  <thead>\n",
       "    <tr style=\"text-align: right;\">\n",
       "      <th></th>\n",
       "      <th>cpf</th>\n",
       "      <th>nome</th>\n",
       "      <th>sexo</th>\n",
       "      <th>grupo</th>\n",
       "      <th>vacina</th>\n",
       "      <th>lote</th>\n",
       "      <th>dose</th>\n",
       "      <th>data_vacinacao</th>\n",
       "      <th>local_vacinacao</th>\n",
       "    </tr>\n",
       "  </thead>\n",
       "  <tbody>\n",
       "    <tr>\n",
       "      <th>0</th>\n",
       "      <td>***.574.544-**</td>\n",
       "      <td>AABAN VASCONCELOS ZYZZYAG</td>\n",
       "      <td>MASCULINO</td>\n",
       "      <td>TRABALHADORES INDUSTRIAIS E BANCÁRIOS</td>\n",
       "      <td>2 - CHADOX1NCOV-19 - OXFORD/ASTRAZENECA (FIOCRUZ)</td>\n",
       "      <td>216VCD206Z</td>\n",
       "      <td>1.0</td>\n",
       "      <td>2021-07-26</td>\n",
       "      <td>DRIVE THRU PARQUE DE EXPOSIÇÃO</td>\n",
       "    </tr>\n",
       "    <tr>\n",
       "      <th>1</th>\n",
       "      <td>***.574.544-**</td>\n",
       "      <td>AABAN VASCONCELOS ZYZZYAG</td>\n",
       "      <td>MASCULINO</td>\n",
       "      <td>TRABALHADORES INDUSTRIAIS E BANCÁRIOS</td>\n",
       "      <td>2 - CHADOX1NCOV-19 - OXFORD/ASTRAZENECA (FIOCRUZ)</td>\n",
       "      <td>219VCD270W</td>\n",
       "      <td>2.0</td>\n",
       "      <td>2021-10-19</td>\n",
       "      <td>DRIVE THRU PARQUE DE EXPOSIÇÃO</td>\n",
       "    </tr>\n",
       "    <tr>\n",
       "      <th>2</th>\n",
       "      <td>***.886.964-**</td>\n",
       "      <td>AAMANDA MARIA FREIRE DA SILVA</td>\n",
       "      <td>FEMININO</td>\n",
       "      <td>TRABALHADORES DA SAÚDE</td>\n",
       "      <td>3 - COMIRNATY (PFIZER)</td>\n",
       "      <td>32010BD</td>\n",
       "      <td>3.0</td>\n",
       "      <td>2021-10-07</td>\n",
       "      <td>CENTRO DE VACINAÇÃO UNINASSAU</td>\n",
       "    </tr>\n",
       "    <tr>\n",
       "      <th>3</th>\n",
       "      <td>***.886.964-**</td>\n",
       "      <td>AAMANDA MARIA FREIRE DA SILVA</td>\n",
       "      <td>FEMININO</td>\n",
       "      <td>TRABALHADORES DA SAÚDE</td>\n",
       "      <td>1 - CORONAVAC - SINOVAC (BUTANTAN)</td>\n",
       "      <td>210016</td>\n",
       "      <td>1.0</td>\n",
       "      <td>2021-02-11</td>\n",
       "      <td>CENTRO DE VACINAÇÃO COMPAZ MIGUEL ARRAES</td>\n",
       "    </tr>\n",
       "    <tr>\n",
       "      <th>4</th>\n",
       "      <td>***.886.964-**</td>\n",
       "      <td>AAMANDA MARIA FREIRE DA SILVA</td>\n",
       "      <td>FEMININO</td>\n",
       "      <td>TRABALHADORES DA SAÚDE</td>\n",
       "      <td>1 - CORONAVAC - SINOVAC (BUTANTAN)</td>\n",
       "      <td>210043</td>\n",
       "      <td>2.0</td>\n",
       "      <td>2021-03-04</td>\n",
       "      <td>CENTRO DE VACINAÇÃO PARQUE DE EXPOSIÇÃO</td>\n",
       "    </tr>\n",
       "  </tbody>\n",
       "</table>\n",
       "</div>"
      ],
      "text/plain": [
       "              cpf                           nome       sexo  \\\n",
       "0  ***.574.544-**      AABAN VASCONCELOS ZYZZYAG  MASCULINO   \n",
       "1  ***.574.544-**      AABAN VASCONCELOS ZYZZYAG  MASCULINO   \n",
       "2  ***.886.964-**  AAMANDA MARIA FREIRE DA SILVA   FEMININO   \n",
       "3  ***.886.964-**  AAMANDA MARIA FREIRE DA SILVA   FEMININO   \n",
       "4  ***.886.964-**  AAMANDA MARIA FREIRE DA SILVA   FEMININO   \n",
       "\n",
       "                                   grupo  \\\n",
       "0  TRABALHADORES INDUSTRIAIS E BANCÁRIOS   \n",
       "1  TRABALHADORES INDUSTRIAIS E BANCÁRIOS   \n",
       "2                 TRABALHADORES DA SAÚDE   \n",
       "3                 TRABALHADORES DA SAÚDE   \n",
       "4                 TRABALHADORES DA SAÚDE   \n",
       "\n",
       "                                              vacina         lote  dose  \\\n",
       "0  2 - CHADOX1NCOV-19 - OXFORD/ASTRAZENECA (FIOCRUZ)   216VCD206Z   1.0   \n",
       "1  2 - CHADOX1NCOV-19 - OXFORD/ASTRAZENECA (FIOCRUZ)  219VCD270W    2.0   \n",
       "2                             3 - COMIRNATY (PFIZER)      32010BD   3.0   \n",
       "3                 1 - CORONAVAC - SINOVAC (BUTANTAN)       210016   1.0   \n",
       "4                 1 - CORONAVAC - SINOVAC (BUTANTAN)       210043   2.0   \n",
       "\n",
       "  data_vacinacao                           local_vacinacao  \n",
       "0     2021-07-26            DRIVE THRU PARQUE DE EXPOSIÇÃO  \n",
       "1     2021-10-19            DRIVE THRU PARQUE DE EXPOSIÇÃO  \n",
       "2     2021-10-07             CENTRO DE VACINAÇÃO UNINASSAU  \n",
       "3     2021-02-11  CENTRO DE VACINAÇÃO COMPAZ MIGUEL ARRAES  \n",
       "4     2021-03-04   CENTRO DE VACINAÇÃO PARQUE DE EXPOSIÇÃO  "
      ]
     },
     "execution_count": 3,
     "metadata": {},
     "output_type": "execute_result"
    }
   ],
   "source": [
    "raw_data.head()"
   ]
  },
  {
   "cell_type": "markdown",
   "id": "301785f3",
   "metadata": {},
   "source": [
    "# Tratamento de Dados"
   ]
  },
  {
   "cell_type": "markdown",
   "id": "992d0814",
   "metadata": {},
   "source": [
    "### Filtrando as colunas que serão usadas:"
   ]
  },
  {
   "cell_type": "code",
   "execution_count": 4,
   "id": "2ff56365",
   "metadata": {},
   "outputs": [
    {
     "data": {
      "text/plain": [
       "Index(['cpf', 'nome', 'sexo', 'grupo', 'vacina', 'lote', 'dose',\n",
       "       'data_vacinacao', 'local_vacinacao'],\n",
       "      dtype='object')"
      ]
     },
     "execution_count": 4,
     "metadata": {},
     "output_type": "execute_result"
    }
   ],
   "source": [
    "raw_data.columns"
   ]
  },
  {
   "cell_type": "code",
   "execution_count": 5,
   "id": "1e4717e7",
   "metadata": {},
   "outputs": [
    {
     "data": {
      "text/html": [
       "<div>\n",
       "<style scoped>\n",
       "    .dataframe tbody tr th:only-of-type {\n",
       "        vertical-align: middle;\n",
       "    }\n",
       "\n",
       "    .dataframe tbody tr th {\n",
       "        vertical-align: top;\n",
       "    }\n",
       "\n",
       "    .dataframe thead th {\n",
       "        text-align: right;\n",
       "    }\n",
       "</style>\n",
       "<table border=\"1\" class=\"dataframe\">\n",
       "  <thead>\n",
       "    <tr style=\"text-align: right;\">\n",
       "      <th></th>\n",
       "      <th>cpf</th>\n",
       "      <th>grupo</th>\n",
       "      <th>vacina</th>\n",
       "      <th>dose</th>\n",
       "      <th>data_vacinacao</th>\n",
       "    </tr>\n",
       "  </thead>\n",
       "  <tbody>\n",
       "    <tr>\n",
       "      <th>0</th>\n",
       "      <td>***.574.544-**</td>\n",
       "      <td>TRABALHADORES INDUSTRIAIS E BANCÁRIOS</td>\n",
       "      <td>2 - CHADOX1NCOV-19 - OXFORD/ASTRAZENECA (FIOCRUZ)</td>\n",
       "      <td>1.0</td>\n",
       "      <td>2021-07-26</td>\n",
       "    </tr>\n",
       "    <tr>\n",
       "      <th>1</th>\n",
       "      <td>***.574.544-**</td>\n",
       "      <td>TRABALHADORES INDUSTRIAIS E BANCÁRIOS</td>\n",
       "      <td>2 - CHADOX1NCOV-19 - OXFORD/ASTRAZENECA (FIOCRUZ)</td>\n",
       "      <td>2.0</td>\n",
       "      <td>2021-10-19</td>\n",
       "    </tr>\n",
       "    <tr>\n",
       "      <th>2</th>\n",
       "      <td>***.886.964-**</td>\n",
       "      <td>TRABALHADORES DA SAÚDE</td>\n",
       "      <td>3 - COMIRNATY (PFIZER)</td>\n",
       "      <td>3.0</td>\n",
       "      <td>2021-10-07</td>\n",
       "    </tr>\n",
       "    <tr>\n",
       "      <th>3</th>\n",
       "      <td>***.886.964-**</td>\n",
       "      <td>TRABALHADORES DA SAÚDE</td>\n",
       "      <td>1 - CORONAVAC - SINOVAC (BUTANTAN)</td>\n",
       "      <td>1.0</td>\n",
       "      <td>2021-02-11</td>\n",
       "    </tr>\n",
       "    <tr>\n",
       "      <th>4</th>\n",
       "      <td>***.886.964-**</td>\n",
       "      <td>TRABALHADORES DA SAÚDE</td>\n",
       "      <td>1 - CORONAVAC - SINOVAC (BUTANTAN)</td>\n",
       "      <td>2.0</td>\n",
       "      <td>2021-03-04</td>\n",
       "    </tr>\n",
       "  </tbody>\n",
       "</table>\n",
       "</div>"
      ],
      "text/plain": [
       "              cpf                                  grupo  \\\n",
       "0  ***.574.544-**  TRABALHADORES INDUSTRIAIS E BANCÁRIOS   \n",
       "1  ***.574.544-**  TRABALHADORES INDUSTRIAIS E BANCÁRIOS   \n",
       "2  ***.886.964-**                 TRABALHADORES DA SAÚDE   \n",
       "3  ***.886.964-**                 TRABALHADORES DA SAÚDE   \n",
       "4  ***.886.964-**                 TRABALHADORES DA SAÚDE   \n",
       "\n",
       "                                              vacina  dose data_vacinacao  \n",
       "0  2 - CHADOX1NCOV-19 - OXFORD/ASTRAZENECA (FIOCRUZ)   1.0     2021-07-26  \n",
       "1  2 - CHADOX1NCOV-19 - OXFORD/ASTRAZENECA (FIOCRUZ)   2.0     2021-10-19  \n",
       "2                             3 - COMIRNATY (PFIZER)   3.0     2021-10-07  \n",
       "3                 1 - CORONAVAC - SINOVAC (BUTANTAN)   1.0     2021-02-11  \n",
       "4                 1 - CORONAVAC - SINOVAC (BUTANTAN)   2.0     2021-03-04  "
      ]
     },
     "execution_count": 5,
     "metadata": {},
     "output_type": "execute_result"
    }
   ],
   "source": [
    "data = raw_data.loc[:, ['cpf', 'grupo', 'vacina', 'dose', 'data_vacinacao']]\n",
    "data.head(5)"
   ]
  },
  {
   "cell_type": "markdown",
   "id": "1004be7a",
   "metadata": {},
   "source": [
    "### Renomeando as vacinas para tornar mais fácil o uso:"
   ]
  },
  {
   "cell_type": "code",
   "execution_count": 6,
   "id": "d12111cf",
   "metadata": {},
   "outputs": [
    {
     "data": {
      "text/plain": [
       "array(['2 - CHADOX1NCOV-19 - OXFORD/ASTRAZENECA (FIOCRUZ)',\n",
       "       '3 - COMIRNATY (PFIZER)', '1 - CORONAVAC - SINOVAC (BUTANTAN)',\n",
       "       '4 - JANSSEN COVID-19 VACCINE (JOHNSON & JOHNSON)', nan],\n",
       "      dtype=object)"
      ]
     },
     "execution_count": 6,
     "metadata": {},
     "output_type": "execute_result"
    }
   ],
   "source": [
    "data['vacina'].unique()"
   ]
  },
  {
   "cell_type": "code",
   "execution_count": 7,
   "id": "bfc2c163",
   "metadata": {},
   "outputs": [],
   "source": [
    "data['vacina'] = data['vacina'].replace(['1 - CORONAVAC - SINOVAC (BUTANTAN)',\n",
    "                                         '1- CORONAVAC - SINOVAC (BUTANTAN)'],\n",
    "                                        \n",
    "                                        'CORONAVAC')"
   ]
  },
  {
   "cell_type": "code",
   "execution_count": 8,
   "id": "5fe0362e",
   "metadata": {},
   "outputs": [],
   "source": [
    "data['vacina'] = data['vacina'].replace(['2 - CHADOX1NCOV-19 - OXFORD/ASTRAZENECA (FIOCRUZ)',\n",
    "                                         ' CHADOX1NCOV-19 - OXFORD/ASTRAZENECA (FIOCRUZ)'],\n",
    "                                        \n",
    "                                        'CHADOX1NCOV-19')"
   ]
  },
  {
   "cell_type": "code",
   "execution_count": 9,
   "id": "608973e0",
   "metadata": {},
   "outputs": [],
   "source": [
    "data['vacina'] = data['vacina'].replace(['3 - COMIRNATY (PFIZER)'], 'COMIRNATY')"
   ]
  },
  {
   "cell_type": "code",
   "execution_count": 10,
   "id": "a26e5fc4",
   "metadata": {},
   "outputs": [],
   "source": [
    "data['vacina'] = data['vacina'].replace(['4 - JANSSEN COVID-19 VACCINE (JOHNSON & JOHNSON)'], 'JANSSEN')"
   ]
  },
  {
   "cell_type": "code",
   "execution_count": 11,
   "id": "363d3bb4",
   "metadata": {},
   "outputs": [
    {
     "data": {
      "text/plain": [
       "array(['CHADOX1NCOV-19', 'COMIRNATY', 'CORONAVAC', 'JANSSEN', nan],\n",
       "      dtype=object)"
      ]
     },
     "execution_count": 11,
     "metadata": {},
     "output_type": "execute_result"
    }
   ],
   "source": [
    "data['vacina'].unique()"
   ]
  },
  {
   "cell_type": "markdown",
   "id": "77bf5581",
   "metadata": {},
   "source": [
    "### Existem aplicações de vacinas onde os dados foram perdidos (vacinas dos tipo *NaN*)."
   ]
  },
  {
   "cell_type": "code",
   "execution_count": 12,
   "id": "0e73ab69",
   "metadata": {},
   "outputs": [],
   "source": [
    "# dropping all missing values\n",
    "data.dropna(inplace= True)"
   ]
  },
  {
   "cell_type": "code",
   "execution_count": 13,
   "id": "c03bead4",
   "metadata": {},
   "outputs": [
    {
     "data": {
      "text/plain": [
       "array(['CHADOX1NCOV-19', 'COMIRNATY', 'CORONAVAC', 'JANSSEN'],\n",
       "      dtype=object)"
      ]
     },
     "execution_count": 13,
     "metadata": {},
     "output_type": "execute_result"
    }
   ],
   "source": [
    "data['vacina'].unique()"
   ]
  },
  {
   "cell_type": "markdown",
   "id": "2dee4305",
   "metadata": {},
   "source": [
    "### Renomeando os grupos para tornar mais fácil o uso:"
   ]
  },
  {
   "cell_type": "code",
   "execution_count": 14,
   "id": "ba58c84c",
   "metadata": {},
   "outputs": [
    {
     "data": {
      "text/plain": [
       "array(['TRABALHADORES INDUSTRIAIS E BANCÁRIOS', 'TRABALHADORES DA SAÚDE',\n",
       "       ' PÚBLICO EM GERAL - MENOR DE 18 ANOS',\n",
       "       'PÚBLICO EM GERAL (18 a 59 anos)', 'IDOSOS',\n",
       "       'TRABALHADORES DA EDUCAÇÃO', 'PESSOAS COM COMORBIDADES',\n",
       "       'PÚBLICO EM GERAL - MENOR DE 18 ANOS', 'OUTRAS PRIORIDADES',\n",
       "       'CAMINHONEIROS', 'SESAU - BUSCA ATIVA',\n",
       "       'TRABALHADORES DE TRANSPORTE COLETIVO RODOVIÁRIO',\n",
       "       'TRABALHADORES DE TRANSPORTE AÉREO', 'TRABALHADORES PORTUÁRIOS',\n",
       "       'TRABALHADORES DA LIMPEZA URBANA', 'PESSOAS EM SITUAÇÃO DE RUA',\n",
       "       'GESTANTES E PUÉRPERAS',\n",
       "       'TRABALHADORES DE TRANSPORTE METROVIÁRIO E FERROVIÁRIO',\n",
       "       'TRABALHADORES DA ASSISTÊNCIA SOCIAL',\n",
       "       'PESSOAS COM DEFICIÊNCIA - 12 A 17 ANOS',\n",
       "       'GESTANTES E PUÉRPERAS NÃO RESIDENTES EM RECIFE',\n",
       "       'PESSOAS COM VIAGEM PARA EXTERIOR (ESTUDO/PESQUISA/TRABALHO/TRATAMENTO DE SAÚDE)',\n",
       "       'GESTANTES E PUÉRPERAS - 12 A 17 ANOS',\n",
       "       'PESSOAS COM COMORBIDADES - 12 A 17 ANOS',\n",
       "       'TRABALHADORES DE TRANSPORTE AQUAVIÁRIO'], dtype=object)"
      ]
     },
     "execution_count": 14,
     "metadata": {},
     "output_type": "execute_result"
    }
   ],
   "source": [
    "data['grupo'].unique()"
   ]
  },
  {
   "cell_type": "code",
   "execution_count": 15,
   "id": "27c754a5",
   "metadata": {},
   "outputs": [],
   "source": [
    "data['grupo'] = data['grupo'].replace(' PÚBLICO EM GERAL - MENOR DE 18 ANOS',\n",
    "                                      'PÚBLICO EM GERAL - MENOR DE 18 ANOS')"
   ]
  },
  {
   "cell_type": "code",
   "execution_count": 16,
   "id": "860ceacf",
   "metadata": {},
   "outputs": [],
   "source": [
    "data['grupo'] = data['grupo'].replace(['PESSOAS COM COMORBIDADES', 'PESSOAS COM COMORBIDADES - 12 A 17 ANOS'],\n",
    "                                      \n",
    "                                      'COMORBIDADES')"
   ]
  },
  {
   "cell_type": "code",
   "execution_count": 17,
   "id": "437b6b0c",
   "metadata": {},
   "outputs": [
    {
     "data": {
      "text/plain": [
       "array(['TRABALHADORES INDUSTRIAIS E BANCÁRIOS', 'TRABALHADORES DA SAÚDE',\n",
       "       'PÚBLICO EM GERAL - MENOR DE 18 ANOS',\n",
       "       'PÚBLICO EM GERAL (18 a 59 anos)', 'IDOSOS',\n",
       "       'TRABALHADORES DA EDUCAÇÃO', 'COMORBIDADES', 'OUTRAS PRIORIDADES',\n",
       "       'CAMINHONEIROS', 'SESAU - BUSCA ATIVA',\n",
       "       'TRABALHADORES DE TRANSPORTE COLETIVO RODOVIÁRIO',\n",
       "       'TRABALHADORES DE TRANSPORTE AÉREO', 'TRABALHADORES PORTUÁRIOS',\n",
       "       'TRABALHADORES DA LIMPEZA URBANA', 'PESSOAS EM SITUAÇÃO DE RUA',\n",
       "       'GESTANTES E PUÉRPERAS',\n",
       "       'TRABALHADORES DE TRANSPORTE METROVIÁRIO E FERROVIÁRIO',\n",
       "       'TRABALHADORES DA ASSISTÊNCIA SOCIAL',\n",
       "       'PESSOAS COM DEFICIÊNCIA - 12 A 17 ANOS',\n",
       "       'GESTANTES E PUÉRPERAS NÃO RESIDENTES EM RECIFE',\n",
       "       'PESSOAS COM VIAGEM PARA EXTERIOR (ESTUDO/PESQUISA/TRABALHO/TRATAMENTO DE SAÚDE)',\n",
       "       'GESTANTES E PUÉRPERAS - 12 A 17 ANOS',\n",
       "       'TRABALHADORES DE TRANSPORTE AQUAVIÁRIO'], dtype=object)"
      ]
     },
     "execution_count": 17,
     "metadata": {},
     "output_type": "execute_result"
    }
   ],
   "source": [
    "data['grupo'].unique()"
   ]
  },
  {
   "cell_type": "code",
   "execution_count": 18,
   "id": "bbfeea6f",
   "metadata": {},
   "outputs": [
    {
     "data": {
      "text/html": [
       "<div>\n",
       "<style scoped>\n",
       "    .dataframe tbody tr th:only-of-type {\n",
       "        vertical-align: middle;\n",
       "    }\n",
       "\n",
       "    .dataframe tbody tr th {\n",
       "        vertical-align: top;\n",
       "    }\n",
       "\n",
       "    .dataframe thead th {\n",
       "        text-align: right;\n",
       "    }\n",
       "</style>\n",
       "<table border=\"1\" class=\"dataframe\">\n",
       "  <thead>\n",
       "    <tr style=\"text-align: right;\">\n",
       "      <th></th>\n",
       "      <th>cpf</th>\n",
       "      <th>grupo</th>\n",
       "      <th>vacina</th>\n",
       "      <th>dose</th>\n",
       "      <th>data_vacinacao</th>\n",
       "    </tr>\n",
       "  </thead>\n",
       "  <tbody>\n",
       "    <tr>\n",
       "      <th>0</th>\n",
       "      <td>***.574.544-**</td>\n",
       "      <td>TRABALHADORES INDUSTRIAIS E BANCÁRIOS</td>\n",
       "      <td>CHADOX1NCOV-19</td>\n",
       "      <td>1.0</td>\n",
       "      <td>2021-07-26</td>\n",
       "    </tr>\n",
       "    <tr>\n",
       "      <th>1</th>\n",
       "      <td>***.574.544-**</td>\n",
       "      <td>TRABALHADORES INDUSTRIAIS E BANCÁRIOS</td>\n",
       "      <td>CHADOX1NCOV-19</td>\n",
       "      <td>2.0</td>\n",
       "      <td>2021-10-19</td>\n",
       "    </tr>\n",
       "    <tr>\n",
       "      <th>2</th>\n",
       "      <td>***.886.964-**</td>\n",
       "      <td>TRABALHADORES DA SAÚDE</td>\n",
       "      <td>COMIRNATY</td>\n",
       "      <td>3.0</td>\n",
       "      <td>2021-10-07</td>\n",
       "    </tr>\n",
       "    <tr>\n",
       "      <th>3</th>\n",
       "      <td>***.886.964-**</td>\n",
       "      <td>TRABALHADORES DA SAÚDE</td>\n",
       "      <td>CORONAVAC</td>\n",
       "      <td>1.0</td>\n",
       "      <td>2021-02-11</td>\n",
       "    </tr>\n",
       "    <tr>\n",
       "      <th>4</th>\n",
       "      <td>***.886.964-**</td>\n",
       "      <td>TRABALHADORES DA SAÚDE</td>\n",
       "      <td>CORONAVAC</td>\n",
       "      <td>2.0</td>\n",
       "      <td>2021-03-04</td>\n",
       "    </tr>\n",
       "  </tbody>\n",
       "</table>\n",
       "</div>"
      ],
      "text/plain": [
       "              cpf                                  grupo          vacina  \\\n",
       "0  ***.574.544-**  TRABALHADORES INDUSTRIAIS E BANCÁRIOS  CHADOX1NCOV-19   \n",
       "1  ***.574.544-**  TRABALHADORES INDUSTRIAIS E BANCÁRIOS  CHADOX1NCOV-19   \n",
       "2  ***.886.964-**                 TRABALHADORES DA SAÚDE       COMIRNATY   \n",
       "3  ***.886.964-**                 TRABALHADORES DA SAÚDE       CORONAVAC   \n",
       "4  ***.886.964-**                 TRABALHADORES DA SAÚDE       CORONAVAC   \n",
       "\n",
       "   dose data_vacinacao  \n",
       "0   1.0     2021-07-26  \n",
       "1   2.0     2021-10-19  \n",
       "2   3.0     2021-10-07  \n",
       "3   1.0     2021-02-11  \n",
       "4   2.0     2021-03-04  "
      ]
     },
     "execution_count": 18,
     "metadata": {},
     "output_type": "execute_result"
    }
   ],
   "source": [
    "data.head()"
   ]
  },
  {
   "cell_type": "markdown",
   "id": "0e0aff79",
   "metadata": {},
   "source": [
    "# Estatística Descritiva da Vacinação"
   ]
  },
  {
   "cell_type": "code",
   "execution_count": 19,
   "id": "aaf2e5fd",
   "metadata": {},
   "outputs": [],
   "source": [
    "import matplotlib.pyplot as plt\n",
    "import seaborn as sns"
   ]
  },
  {
   "cell_type": "markdown",
   "id": "c012ba90",
   "metadata": {},
   "source": [
    "### Histograma com a proporção das doses aplicadas:"
   ]
  },
  {
   "cell_type": "code",
   "execution_count": 20,
   "id": "3a6893eb",
   "metadata": {},
   "outputs": [
    {
     "data": {
      "text/html": [
       "<div>\n",
       "<style scoped>\n",
       "    .dataframe tbody tr th:only-of-type {\n",
       "        vertical-align: middle;\n",
       "    }\n",
       "\n",
       "    .dataframe tbody tr th {\n",
       "        vertical-align: top;\n",
       "    }\n",
       "\n",
       "    .dataframe thead th {\n",
       "        text-align: right;\n",
       "    }\n",
       "</style>\n",
       "<table border=\"1\" class=\"dataframe\">\n",
       "  <thead>\n",
       "    <tr style=\"text-align: right;\">\n",
       "      <th></th>\n",
       "      <th>dose</th>\n",
       "      <th>proporção</th>\n",
       "    </tr>\n",
       "  </thead>\n",
       "  <tbody>\n",
       "    <tr>\n",
       "      <th>0</th>\n",
       "      <td>1.0</td>\n",
       "      <td>0.481352</td>\n",
       "    </tr>\n",
       "    <tr>\n",
       "      <th>1</th>\n",
       "      <td>2.0</td>\n",
       "      <td>0.417228</td>\n",
       "    </tr>\n",
       "    <tr>\n",
       "      <th>2</th>\n",
       "      <td>3.0</td>\n",
       "      <td>0.101420</td>\n",
       "    </tr>\n",
       "  </tbody>\n",
       "</table>\n",
       "</div>"
      ],
      "text/plain": [
       "   dose  proporção\n",
       "0   1.0   0.481352\n",
       "1   2.0   0.417228\n",
       "2   3.0   0.101420"
      ]
     },
     "execution_count": 20,
     "metadata": {},
     "output_type": "execute_result"
    }
   ],
   "source": [
    "doses_proportion = data['dose'].value_counts(normalize= True).reset_index()\n",
    "doses_proportion.columns = ['dose', 'proporção']\n",
    "doses_proportion"
   ]
  },
  {
   "cell_type": "code",
   "execution_count": 21,
   "id": "0a7e3bbc",
   "metadata": {},
   "outputs": [
    {
     "data": {
      "image/png": "[encoded data removed]",
      "text/plain": [
       "<Figure size 1008x504 with 1 Axes>"
      ]
     },
     "metadata": {
      "needs_background": "light"
     },
     "output_type": "display_data"
    }
   ],
   "source": [
    "# figure config\n",
    "fig, ax = plt.subplots(figsize= (14, 7))\n",
    "sns.set_style('darkgrid')\n",
    "sns.set_palette(sns.color_palette('husl', 2))\n",
    "\n",
    "sns.barplot(x= 'dose', y= 'proporção', data= doses_proportion, ax= ax)\n",
    "\n",
    "plt.title('Proporção do Número de Doses', fontsize= 20)\n",
    "plt.xlabel('Dose', fontsize= 15)\n",
    "plt.ylabel('Proporção', fontsize= 15)\n",
    "\n",
    "# percentages at the top of histograms\n",
    "for index, row in doses_proportion.iterrows():\n",
    "    ax.text(index, row['proporção'], \"{:.2%}\".format(row['proporção']), color= 'black', ha= \"center\", fontsize= 16)\n",
    "\n",
    "plt.show()"
   ]
  },
  {
   "cell_type": "markdown",
   "id": "7b0044bd",
   "metadata": {},
   "source": [
    "### Possível interpretação: tomando como contraste a análise do dia 19 de Maio, podemos ver que a quantidade de segundas doses aumentou, o que contribuiu para a diminuição da taxa de mortes no país. Além disso, foi adotado o uso de uma dose extra para determinadas vacinas."
   ]
  },
  {
   "cell_type": "code",
   "execution_count": 22,
   "id": "c6811e63",
   "metadata": {},
   "outputs": [
    {
     "data": {
      "text/html": [
       "<div>\n",
       "<style scoped>\n",
       "    .dataframe tbody tr th:only-of-type {\n",
       "        vertical-align: middle;\n",
       "    }\n",
       "\n",
       "    .dataframe tbody tr th {\n",
       "        vertical-align: top;\n",
       "    }\n",
       "\n",
       "    .dataframe thead th {\n",
       "        text-align: right;\n",
       "    }\n",
       "</style>\n",
       "<table border=\"1\" class=\"dataframe\">\n",
       "  <thead>\n",
       "    <tr style=\"text-align: right;\">\n",
       "      <th></th>\n",
       "      <th>dose</th>\n",
       "      <th>frequência</th>\n",
       "    </tr>\n",
       "  </thead>\n",
       "  <tbody>\n",
       "    <tr>\n",
       "      <th>0</th>\n",
       "      <td>1.0</td>\n",
       "      <td>1429281</td>\n",
       "    </tr>\n",
       "    <tr>\n",
       "      <th>1</th>\n",
       "      <td>2.0</td>\n",
       "      <td>1238878</td>\n",
       "    </tr>\n",
       "    <tr>\n",
       "      <th>2</th>\n",
       "      <td>3.0</td>\n",
       "      <td>301148</td>\n",
       "    </tr>\n",
       "  </tbody>\n",
       "</table>\n",
       "</div>"
      ],
      "text/plain": [
       "   dose  frequência\n",
       "0   1.0     1429281\n",
       "1   2.0     1238878\n",
       "2   3.0      301148"
      ]
     },
     "execution_count": 22,
     "metadata": {},
     "output_type": "execute_result"
    }
   ],
   "source": [
    "doses_frequency = data[\"dose\"].value_counts().reset_index()\n",
    "doses_frequency.columns = [\"dose\", \"frequência\"]\n",
    "doses_frequency.head()"
   ]
  },
  {
   "cell_type": "code",
   "execution_count": 23,
   "id": "71130fc6",
   "metadata": {},
   "outputs": [
    {
     "data": {
      "image/png": "[encoded data removed]",
      "text/plain": [
       "<Figure size 720x504 with 1 Axes>"
      ]
     },
     "metadata": {},
     "output_type": "display_data"
    }
   ],
   "source": [
    "fig, axis = plt.subplots(figsize = (10, 7))\n",
    "sns.set_style(\"darkgrid\")\n",
    "sns.set_palette(sns.color_palette(\"pastel\", 2))\n",
    "\n",
    "sns.barplot(x = \"dose\", y = \"frequência\", data = doses_frequency, ax = axis)\n",
    "\n",
    "plt.title(\"Frequência de Doses Aplicadas\", fontsize = 20)\n",
    "plt.xlabel(\"Dose\", fontsize = 15)\n",
    "plt.ylabel(\"Frequência\", fontsize = 15)\n",
    "\n",
    "for index, row in doses_frequency.iterrows():\n",
    "    axis.text(index, row[\"frequência\"], \"{}\".format(row[\"frequência\"]), color = \"black\", ha = \"center\", fontsize = 15)\n",
    "\n",
    "plt.show()"
   ]
  },
  {
   "cell_type": "markdown",
   "id": "fcfdb000",
   "metadata": {},
   "source": [
    "### Valores absolutos das doses aplicadas até hoje (24/12/2021)."
   ]
  },
  {
   "cell_type": "markdown",
   "id": "524dc476",
   "metadata": {},
   "source": [
    "### Histograma com a proporção das vacinas usadas:"
   ]
  },
  {
   "cell_type": "code",
   "execution_count": 24,
   "id": "15640690",
   "metadata": {},
   "outputs": [
    {
     "data": {
      "text/html": [
       "<div>\n",
       "<style scoped>\n",
       "    .dataframe tbody tr th:only-of-type {\n",
       "        vertical-align: middle;\n",
       "    }\n",
       "\n",
       "    .dataframe tbody tr th {\n",
       "        vertical-align: top;\n",
       "    }\n",
       "\n",
       "    .dataframe thead th {\n",
       "        text-align: right;\n",
       "    }\n",
       "</style>\n",
       "<table border=\"1\" class=\"dataframe\">\n",
       "  <thead>\n",
       "    <tr style=\"text-align: right;\">\n",
       "      <th></th>\n",
       "      <th>vacina</th>\n",
       "      <th>proporção</th>\n",
       "    </tr>\n",
       "  </thead>\n",
       "  <tbody>\n",
       "    <tr>\n",
       "      <th>0</th>\n",
       "      <td>COMIRNATY</td>\n",
       "      <td>0.373231</td>\n",
       "    </tr>\n",
       "    <tr>\n",
       "      <th>1</th>\n",
       "      <td>CHADOX1NCOV-19</td>\n",
       "      <td>0.346484</td>\n",
       "    </tr>\n",
       "    <tr>\n",
       "      <th>2</th>\n",
       "      <td>CORONAVAC</td>\n",
       "      <td>0.255734</td>\n",
       "    </tr>\n",
       "    <tr>\n",
       "      <th>3</th>\n",
       "      <td>JANSSEN</td>\n",
       "      <td>0.024551</td>\n",
       "    </tr>\n",
       "  </tbody>\n",
       "</table>\n",
       "</div>"
      ],
      "text/plain": [
       "           vacina  proporção\n",
       "0       COMIRNATY   0.373231\n",
       "1  CHADOX1NCOV-19   0.346484\n",
       "2       CORONAVAC   0.255734\n",
       "3         JANSSEN   0.024551"
      ]
     },
     "execution_count": 24,
     "metadata": {},
     "output_type": "execute_result"
    }
   ],
   "source": [
    "vaccines_proportion = data['vacina'].value_counts(normalize= True).reset_index()\n",
    "vaccines_proportion.columns = ['vacina', 'proporção']\n",
    "vaccines_proportion"
   ]
  },
  {
   "cell_type": "code",
   "execution_count": 25,
   "id": "221b9875",
   "metadata": {},
   "outputs": [
    {
     "data": {
      "image/png": "[encoded data removed]",
      "text/plain": [
       "<Figure size 936x504 with 1 Axes>"
      ]
     },
     "metadata": {},
     "output_type": "display_data"
    }
   ],
   "source": [
    "fig, ax = plt.subplots(figsize=(13, 7)) \n",
    "sns.set_style('darkgrid')\n",
    "sns.set_palette(sns.color_palette('pastel', 3))\n",
    "\n",
    "sns.barplot(x= 'vacina', y= 'proporção', data= vaccines_proportion, ax= ax)\n",
    "\n",
    "plt.title('Proporção do Número de Vacinas Aplicadas', fontsize= 20)\n",
    "plt.xlabel('Vacina', fontsize= 15)\n",
    "plt.ylabel('Proporção', fontsize= 15)\n",
    "\n",
    "for index, row in vaccines_proportion.iterrows():\n",
    "    ax.text(index, row['proporção'], \"{:.1%}\".format(row['proporção']), color= 'black', ha= \"center\", fontsize= 16)\n",
    "\n",
    "plt.show()"
   ]
  },
  {
   "cell_type": "code",
   "execution_count": 26,
   "id": "d0e239d7",
   "metadata": {},
   "outputs": [
    {
     "data": {
      "text/plain": [
       "1108238"
      ]
     },
     "execution_count": 26,
     "metadata": {},
     "output_type": "execute_result"
    }
   ],
   "source": [
    "data[\"vacina\"].value_counts()[\"COMIRNATY\"]"
   ]
  },
  {
   "cell_type": "markdown",
   "id": "1e9dd210",
   "metadata": {},
   "source": [
    "## Possível interpretação: visando aumentar a taxa de vacinação do país, o Governo investiu na compra de vacinas, em especial na Comirnaty/Pfizer."
   ]
  },
  {
   "cell_type": "markdown",
   "id": "8b60b838",
   "metadata": {},
   "source": [
    "### Histograma com a proporção dos grupos vacinados:"
   ]
  },
  {
   "cell_type": "code",
   "execution_count": 27,
   "id": "b6f9ba55",
   "metadata": {},
   "outputs": [
    {
     "data": {
      "text/html": [
       "<div>\n",
       "<style scoped>\n",
       "    .dataframe tbody tr th:only-of-type {\n",
       "        vertical-align: middle;\n",
       "    }\n",
       "\n",
       "    .dataframe tbody tr th {\n",
       "        vertical-align: top;\n",
       "    }\n",
       "\n",
       "    .dataframe thead th {\n",
       "        text-align: right;\n",
       "    }\n",
       "</style>\n",
       "<table border=\"1\" class=\"dataframe\">\n",
       "  <thead>\n",
       "    <tr style=\"text-align: right;\">\n",
       "      <th></th>\n",
       "      <th>grupo</th>\n",
       "      <th>proporção</th>\n",
       "    </tr>\n",
       "  </thead>\n",
       "  <tbody>\n",
       "    <tr>\n",
       "      <th>0</th>\n",
       "      <td>PÚBLICO EM GERAL (18 a 59 anos)</td>\n",
       "      <td>0.460329</td>\n",
       "    </tr>\n",
       "    <tr>\n",
       "      <th>1</th>\n",
       "      <td>IDOSOS</td>\n",
       "      <td>0.252156</td>\n",
       "    </tr>\n",
       "    <tr>\n",
       "      <th>2</th>\n",
       "      <td>TRABALHADORES DA SAÚDE</td>\n",
       "      <td>0.097311</td>\n",
       "    </tr>\n",
       "    <tr>\n",
       "      <th>3</th>\n",
       "      <td>PÚBLICO EM GERAL - MENOR DE 18 ANOS</td>\n",
       "      <td>0.063848</td>\n",
       "    </tr>\n",
       "  </tbody>\n",
       "</table>\n",
       "</div>"
      ],
      "text/plain": [
       "                                 grupo  proporção\n",
       "0      PÚBLICO EM GERAL (18 a 59 anos)   0.460329\n",
       "1                               IDOSOS   0.252156\n",
       "2               TRABALHADORES DA SAÚDE   0.097311\n",
       "3  PÚBLICO EM GERAL - MENOR DE 18 ANOS   0.063848"
      ]
     },
     "execution_count": 27,
     "metadata": {},
     "output_type": "execute_result"
    }
   ],
   "source": [
    "groups_proportion = data['grupo'].value_counts(normalize= True).reset_index()\n",
    "groups_proportion.columns = ['grupo', 'proporção']\n",
    "\n",
    "# groups absolutes are not equally spread, so lets check out the top 4\n",
    "groups_proportion = groups_proportion.nlargest(4, 'proporção')\n",
    "\n",
    "groups_proportion"
   ]
  },
  {
   "cell_type": "code",
   "execution_count": 28,
   "id": "85c16ad0",
   "metadata": {},
   "outputs": [
    {
     "data": {
      "image/png": "[encoded data removed]",
      "text/plain": [
       "<Figure size 936x504 with 1 Axes>"
      ]
     },
     "metadata": {},
     "output_type": "display_data"
    }
   ],
   "source": [
    "fig, ax = plt.subplots(figsize=(13, 7)) \n",
    "sns.set_style('darkgrid')\n",
    "sns.set_palette(sns.color_palette('hsv', 7))\n",
    "\n",
    "sns.barplot(x= 'grupo', y= 'proporção', data= groups_proportion, ax= ax)\n",
    "\n",
    "plt.title('Proporção dos Grupos Vacinados', fontsize= 20)\n",
    "plt.xlabel('Grupo', fontsize= 15)\n",
    "plt.ylabel('Proporção', fontsize= 15)\n",
    "\n",
    "for index, row in groups_proportion.iterrows():\n",
    "    ax.text(index, row['proporção'], \"{:.1%}\".format(row['proporção']), color= 'black', ha= \"center\", fontsize= 16)\n",
    "\n",
    "plt.show()"
   ]
  },
  {
   "cell_type": "markdown",
   "id": "e2754b5d",
   "metadata": {},
   "source": [
    "## Possível interpretação: após finalmente o Governo adquirir um plano de vacinação mais extenso, foi possível que o público em geral, maioria no país, entrasse na fila de vacinação."
   ]
  },
  {
   "cell_type": "markdown",
   "id": "ae0a26c6",
   "metadata": {},
   "source": [
    "# *Análise por Agrupamento*"
   ]
  },
  {
   "cell_type": "markdown",
   "id": "f3e47ae0",
   "metadata": {},
   "source": [
    "### Vacina mais usada em cada grupo:"
   ]
  },
  {
   "cell_type": "code",
   "execution_count": 29,
   "id": "3722999f",
   "metadata": {},
   "outputs": [
    {
     "data": {
      "text/plain": [
       "grupo\n",
       "CAMINHONEIROS                                                                      CHADOX1NCOV-19\n",
       "COMORBIDADES                                                                            COMIRNATY\n",
       "GESTANTES E PUÉRPERAS                                                                   COMIRNATY\n",
       "GESTANTES E PUÉRPERAS - 12 A 17 ANOS                                                    COMIRNATY\n",
       "GESTANTES E PUÉRPERAS NÃO RESIDENTES EM RECIFE                                          COMIRNATY\n",
       "IDOSOS                                                                                  CORONAVAC\n",
       "OUTRAS PRIORIDADES                                                                      COMIRNATY\n",
       "PESSOAS COM DEFICIÊNCIA - 12 A 17 ANOS                                                  COMIRNATY\n",
       "PESSOAS COM VIAGEM PARA EXTERIOR (ESTUDO/PESQUISA/TRABALHO/TRATAMENTO DE SAÚDE)           JANSSEN\n",
       "PESSOAS EM SITUAÇÃO DE RUA                                                                JANSSEN\n",
       "PÚBLICO EM GERAL (18 a 59 anos)                                                    CHADOX1NCOV-19\n",
       "PÚBLICO EM GERAL - MENOR DE 18 ANOS                                                     COMIRNATY\n",
       "SESAU - BUSCA ATIVA                                                                     COMIRNATY\n",
       "TRABALHADORES DA ASSISTÊNCIA SOCIAL                                                CHADOX1NCOV-19\n",
       "TRABALHADORES DA EDUCAÇÃO                                                          CHADOX1NCOV-19\n",
       "TRABALHADORES DA LIMPEZA URBANA                                                    CHADOX1NCOV-19\n",
       "TRABALHADORES DA SAÚDE                                                                  CORONAVAC\n",
       "TRABALHADORES DE TRANSPORTE AQUAVIÁRIO                                             CHADOX1NCOV-19\n",
       "TRABALHADORES DE TRANSPORTE AÉREO                                                  CHADOX1NCOV-19\n",
       "TRABALHADORES DE TRANSPORTE COLETIVO RODOVIÁRIO                                    CHADOX1NCOV-19\n",
       "TRABALHADORES DE TRANSPORTE METROVIÁRIO E FERROVIÁRIO                              CHADOX1NCOV-19\n",
       "TRABALHADORES INDUSTRIAIS E BANCÁRIOS                                              CHADOX1NCOV-19\n",
       "TRABALHADORES PORTUÁRIOS                                                           CHADOX1NCOV-19\n",
       "dtype: object"
      ]
     },
     "execution_count": 29,
     "metadata": {},
     "output_type": "execute_result"
    }
   ],
   "source": [
    "data.groupby('grupo').apply(lambda df: df['vacina'].value_counts().idxmax())"
   ]
  },
  {
   "cell_type": "markdown",
   "id": "a038ba27",
   "metadata": {},
   "source": [
    "### Média de doses tomadas em cada grupo:"
   ]
  },
  {
   "cell_type": "code",
   "execution_count": 30,
   "id": "99d48964",
   "metadata": {},
   "outputs": [
    {
     "data": {
      "text/plain": [
       "grupo\n",
       "CAMINHONEIROS                                                                      1.477648\n",
       "COMORBIDADES                                                                       1.673573\n",
       "GESTANTES E PUÉRPERAS                                                              1.465257\n",
       "GESTANTES E PUÉRPERAS - 12 A 17 ANOS                                               1.351449\n",
       "GESTANTES E PUÉRPERAS NÃO RESIDENTES EM RECIFE                                     1.323024\n",
       "IDOSOS                                                                             1.856156\n",
       "OUTRAS PRIORIDADES                                                                 1.546093\n",
       "PESSOAS COM DEFICIÊNCIA - 12 A 17 ANOS                                             1.444252\n",
       "PESSOAS COM VIAGEM PARA EXTERIOR (ESTUDO/PESQUISA/TRABALHO/TRATAMENTO DE SAÚDE)    1.428999\n",
       "PESSOAS EM SITUAÇÃO DE RUA                                                         1.271744\n",
       "PÚBLICO EM GERAL (18 a 59 anos)                                                    1.485847\n",
       "PÚBLICO EM GERAL - MENOR DE 18 ANOS                                                1.405623\n",
       "SESAU - BUSCA ATIVA                                                                1.420118\n",
       "TRABALHADORES DA ASSISTÊNCIA SOCIAL                                                1.498452\n",
       "TRABALHADORES DA EDUCAÇÃO                                                          1.581088\n",
       "TRABALHADORES DA LIMPEZA URBANA                                                    1.438315\n",
       "TRABALHADORES DA SAÚDE                                                             1.827238\n",
       "TRABALHADORES DE TRANSPORTE AQUAVIÁRIO                                             1.462585\n",
       "TRABALHADORES DE TRANSPORTE AÉREO                                                  1.491378\n",
       "TRABALHADORES DE TRANSPORTE COLETIVO RODOVIÁRIO                                    1.475200\n",
       "TRABALHADORES DE TRANSPORTE METROVIÁRIO E FERROVIÁRIO                              1.528231\n",
       "TRABALHADORES INDUSTRIAIS E BANCÁRIOS                                              1.477703\n",
       "TRABALHADORES PORTUÁRIOS                                                           1.548127\n",
       "dtype: float64"
      ]
     },
     "execution_count": 30,
     "metadata": {},
     "output_type": "execute_result"
    }
   ],
   "source": [
    "data.groupby('grupo').apply(lambda df: df['dose'].mean())"
   ]
  },
  {
   "cell_type": "markdown",
   "id": "c0031545",
   "metadata": {},
   "source": [
    "### Quantidade de cada tipo de vacina aplicada em cada grupo:"
   ]
  },
  {
   "cell_type": "code",
   "execution_count": 31,
   "id": "446e312f",
   "metadata": {},
   "outputs": [
    {
     "data": {
      "text/plain": [
       "grupo                                  vacina        \n",
       "CAMINHONEIROS                          CHADOX1NCOV-19     7842\n",
       "                                       COMIRNATY          1496\n",
       "                                       CORONAVAC           484\n",
       "                                       JANSSEN             893\n",
       "COMORBIDADES                           CHADOX1NCOV-19    67098\n",
       "                                                         ...  \n",
       "TRABALHADORES INDUSTRIAIS E BANCÁRIOS  JANSSEN            1757\n",
       "TRABALHADORES PORTUÁRIOS               CHADOX1NCOV-19     1758\n",
       "                                       COMIRNATY           247\n",
       "                                       CORONAVAC            54\n",
       "                                       JANSSEN              50\n",
       "Length: 86, dtype: int64"
      ]
     },
     "execution_count": 31,
     "metadata": {},
     "output_type": "execute_result"
    }
   ],
   "source": [
    "data.groupby(['grupo', 'vacina']).size()"
   ]
  },
  {
   "cell_type": "code",
   "execution_count": null,
   "id": "12671e56",
   "metadata": {},
   "outputs": [],
   "source": []
  }
 ],
 "metadata": {
  "kernelspec": {
   "display_name": "Python 3 (ipykernel)",
   "language": "python",
   "name": "python3"
  },
  "language_info": {
   "codemirror_mode": {
    "name": "ipython",
    "version": 3
   },
   "file_extension": ".py",
   "mimetype": "text/x-python",
   "name": "python",
   "nbconvert_exporter": "python",
   "pygments_lexer": "ipython3",
   "version": "3.8.10"
  }
 },
 "nbformat": 4,
 "nbformat_minor": 5
}
