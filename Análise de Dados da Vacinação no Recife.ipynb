{
 "cells": [
  {
   "cell_type": "markdown",
   "id": "5e2d7286",
   "metadata": {},
   "source": [
    "# Análise de Dados da Vacinação no Recife"
   ]
  },
  {
   "cell_type": "code",
   "execution_count": 1,
   "id": "195bf66d",
   "metadata": {},
   "outputs": [],
   "source": [
    "import pandas as pd"
   ]
  },
  {
   "cell_type": "code",
   "execution_count": 2,
   "id": "bcaa35ff",
   "metadata": {},
   "outputs": [],
   "source": [
    "raw_data = pd.read_csv('vacinados.csv', sep= ';', encoding= 'ISO-8859-1')"
   ]
  },
  {
   "cell_type": "code",
   "execution_count": 3,
   "id": "706250ea",
   "metadata": {
    "scrolled": true
   },
   "outputs": [
    {
     "data": {
      "text/html": [
       "<div>\n",
       "<style scoped>\n",
       "    .dataframe tbody tr th:only-of-type {\n",
       "        vertical-align: middle;\n",
       "    }\n",
       "\n",
       "    .dataframe tbody tr th {\n",
       "        vertical-align: top;\n",
       "    }\n",
       "\n",
       "    .dataframe thead th {\n",
       "        text-align: right;\n",
       "    }\n",
       "</style>\n",
       "<table border=\"1\" class=\"dataframe\">\n",
       "  <thead>\n",
       "    <tr style=\"text-align: right;\">\n",
       "      <th></th>\n",
       "      <th>cpf</th>\n",
       "      <th>nome</th>\n",
       "      <th>grupo</th>\n",
       "      <th>vacina</th>\n",
       "      <th>lote</th>\n",
       "      <th>dose</th>\n",
       "      <th>data_vacinacao</th>\n",
       "      <th>local_vacinacao</th>\n",
       "    </tr>\n",
       "  </thead>\n",
       "  <tbody>\n",
       "    <tr>\n",
       "      <th>0</th>\n",
       "      <td>***.457.304-**</td>\n",
       "      <td>JOSÃ BARBOSA DINIZ</td>\n",
       "      <td>TRABALHADORES DA SAÃDE</td>\n",
       "      <td>1 - CORONAVAC - SINOVAC (BUTANTAN)</td>\n",
       "      <td>210114</td>\n",
       "      <td>2</td>\n",
       "      <td>03/04/2021</td>\n",
       "      <td>DRIVE THRU - BIG BOMPREÃO - BOA VIAGEM</td>\n",
       "    </tr>\n",
       "    <tr>\n",
       "      <th>1</th>\n",
       "      <td>***.457.304-**</td>\n",
       "      <td>JOSÃ BARBOSA DINIZ</td>\n",
       "      <td>TRABALHADORES DA SAÃDE</td>\n",
       "      <td>1 - CORONAVAC - SINOVAC (BUTANTAN)</td>\n",
       "      <td>210052A</td>\n",
       "      <td>1</td>\n",
       "      <td>13/03/2021</td>\n",
       "      <td>DRIVE THRU GERALDÃO</td>\n",
       "    </tr>\n",
       "    <tr>\n",
       "      <th>2</th>\n",
       "      <td>***.556.154-**</td>\n",
       "      <td>LUIZ CAMILO DE SANTANA</td>\n",
       "      <td>IDOSOS</td>\n",
       "      <td>1 - CORONAVAC - SINOVAC (BUTANTAN)</td>\n",
       "      <td>210093</td>\n",
       "      <td>2</td>\n",
       "      <td>01/04/2021</td>\n",
       "      <td>DRIVE THRU PARQUE DA MACAXEIRA</td>\n",
       "    </tr>\n",
       "    <tr>\n",
       "      <th>3</th>\n",
       "      <td>***.556.154-**</td>\n",
       "      <td>LUIZ CAMILO DE SANTANA</td>\n",
       "      <td>IDOSOS</td>\n",
       "      <td>1 - CORONAVAC - SINOVAC (BUTANTAN)</td>\n",
       "      <td>210043</td>\n",
       "      <td>1</td>\n",
       "      <td>04/03/2021</td>\n",
       "      <td>DRIVE THRU PARQUE DA MACAXEIRA</td>\n",
       "    </tr>\n",
       "    <tr>\n",
       "      <th>4</th>\n",
       "      <td>***.886.964-**</td>\n",
       "      <td>AAMANDA MARIA FREIRE DA SILVA</td>\n",
       "      <td>TRABALHADORES DA SAÃDE</td>\n",
       "      <td>1 - CORONAVAC - SINOVAC (BUTANTAN)</td>\n",
       "      <td>210043</td>\n",
       "      <td>2</td>\n",
       "      <td>04/03/2021</td>\n",
       "      <td>CENTRO DE VACINAÃÃO PARQUE DE EXPOSIÃÃO</td>\n",
       "    </tr>\n",
       "  </tbody>\n",
       "</table>\n",
       "</div>"
      ],
      "text/plain": [
       "              cpf                           nome                    grupo  \\\n",
       "0  ***.457.304-**            JOSÃ BARBOSA DINIZ  TRABALHADORES DA SAÃDE   \n",
       "1  ***.457.304-**            JOSÃ BARBOSA DINIZ  TRABALHADORES DA SAÃDE   \n",
       "2  ***.556.154-**         LUIZ CAMILO DE SANTANA                   IDOSOS   \n",
       "3  ***.556.154-**         LUIZ CAMILO DE SANTANA                   IDOSOS   \n",
       "4  ***.886.964-**  AAMANDA MARIA FREIRE DA SILVA  TRABALHADORES DA SAÃDE   \n",
       "\n",
       "                               vacina     lote  dose data_vacinacao  \\\n",
       "0  1 - CORONAVAC - SINOVAC (BUTANTAN)   210114     2     03/04/2021   \n",
       "1  1 - CORONAVAC - SINOVAC (BUTANTAN)  210052A     1     13/03/2021   \n",
       "2  1 - CORONAVAC - SINOVAC (BUTANTAN)   210093     2     01/04/2021   \n",
       "3  1 - CORONAVAC - SINOVAC (BUTANTAN)   210043     1     04/03/2021   \n",
       "4  1 - CORONAVAC - SINOVAC (BUTANTAN)   210043     2     04/03/2021   \n",
       "\n",
       "                               local_vacinacao  \n",
       "0      DRIVE THRU - BIG BOMPREÃO - BOA VIAGEM  \n",
       "1                         DRIVE THRU GERALDÃO  \n",
       "2               DRIVE THRU PARQUE DA MACAXEIRA  \n",
       "3               DRIVE THRU PARQUE DA MACAXEIRA  \n",
       "4  CENTRO DE VACINAÃÃO PARQUE DE EXPOSIÃÃO  "
      ]
     },
     "execution_count": 3,
     "metadata": {},
     "output_type": "execute_result"
    }
   ],
   "source": [
    "raw_data.head()"
   ]
  },
  {
   "cell_type": "markdown",
   "id": "301785f3",
   "metadata": {},
   "source": [
    "# Tratamento dos Dados"
   ]
  },
  {
   "cell_type": "markdown",
   "id": "992d0814",
   "metadata": {},
   "source": [
    "### Filtrando os Dados"
   ]
  },
  {
   "cell_type": "code",
   "execution_count": 4,
   "id": "2ff56365",
   "metadata": {},
   "outputs": [
    {
     "data": {
      "text/plain": [
       "array(['cpf', 'nome', 'grupo', 'vacina', 'lote', 'dose', 'data_vacinacao',\n",
       "       'local_vacinacao'], dtype=object)"
      ]
     },
     "execution_count": 4,
     "metadata": {},
     "output_type": "execute_result"
    }
   ],
   "source": [
    "raw_data.columns.values"
   ]
  },
  {
   "cell_type": "code",
   "execution_count": 5,
   "id": "64b0fc55",
   "metadata": {},
   "outputs": [],
   "source": [
    "selectedColumns = ['cpf', 'grupo', 'vacina', 'dose', 'data_vacinacao']"
   ]
  },
  {
   "cell_type": "code",
   "execution_count": 6,
   "id": "1e4717e7",
   "metadata": {},
   "outputs": [],
   "source": [
    "data = raw_data.filter(items= selectedColumns)"
   ]
  },
  {
   "cell_type": "code",
   "execution_count": 7,
   "id": "d9715dcc",
   "metadata": {},
   "outputs": [
    {
     "data": {
      "text/html": [
       "<div>\n",
       "<style scoped>\n",
       "    .dataframe tbody tr th:only-of-type {\n",
       "        vertical-align: middle;\n",
       "    }\n",
       "\n",
       "    .dataframe tbody tr th {\n",
       "        vertical-align: top;\n",
       "    }\n",
       "\n",
       "    .dataframe thead th {\n",
       "        text-align: right;\n",
       "    }\n",
       "</style>\n",
       "<table border=\"1\" class=\"dataframe\">\n",
       "  <thead>\n",
       "    <tr style=\"text-align: right;\">\n",
       "      <th></th>\n",
       "      <th>cpf</th>\n",
       "      <th>grupo</th>\n",
       "      <th>vacina</th>\n",
       "      <th>dose</th>\n",
       "      <th>data_vacinacao</th>\n",
       "    </tr>\n",
       "  </thead>\n",
       "  <tbody>\n",
       "    <tr>\n",
       "      <th>0</th>\n",
       "      <td>***.457.304-**</td>\n",
       "      <td>TRABALHADORES DA SAÃDE</td>\n",
       "      <td>1 - CORONAVAC - SINOVAC (BUTANTAN)</td>\n",
       "      <td>2</td>\n",
       "      <td>03/04/2021</td>\n",
       "    </tr>\n",
       "    <tr>\n",
       "      <th>1</th>\n",
       "      <td>***.457.304-**</td>\n",
       "      <td>TRABALHADORES DA SAÃDE</td>\n",
       "      <td>1 - CORONAVAC - SINOVAC (BUTANTAN)</td>\n",
       "      <td>1</td>\n",
       "      <td>13/03/2021</td>\n",
       "    </tr>\n",
       "    <tr>\n",
       "      <th>2</th>\n",
       "      <td>***.556.154-**</td>\n",
       "      <td>IDOSOS</td>\n",
       "      <td>1 - CORONAVAC - SINOVAC (BUTANTAN)</td>\n",
       "      <td>2</td>\n",
       "      <td>01/04/2021</td>\n",
       "    </tr>\n",
       "    <tr>\n",
       "      <th>3</th>\n",
       "      <td>***.556.154-**</td>\n",
       "      <td>IDOSOS</td>\n",
       "      <td>1 - CORONAVAC - SINOVAC (BUTANTAN)</td>\n",
       "      <td>1</td>\n",
       "      <td>04/03/2021</td>\n",
       "    </tr>\n",
       "    <tr>\n",
       "      <th>4</th>\n",
       "      <td>***.886.964-**</td>\n",
       "      <td>TRABALHADORES DA SAÃDE</td>\n",
       "      <td>1 - CORONAVAC - SINOVAC (BUTANTAN)</td>\n",
       "      <td>2</td>\n",
       "      <td>04/03/2021</td>\n",
       "    </tr>\n",
       "  </tbody>\n",
       "</table>\n",
       "</div>"
      ],
      "text/plain": [
       "              cpf                    grupo  \\\n",
       "0  ***.457.304-**  TRABALHADORES DA SAÃDE   \n",
       "1  ***.457.304-**  TRABALHADORES DA SAÃDE   \n",
       "2  ***.556.154-**                   IDOSOS   \n",
       "3  ***.556.154-**                   IDOSOS   \n",
       "4  ***.886.964-**  TRABALHADORES DA SAÃDE   \n",
       "\n",
       "                               vacina  dose data_vacinacao  \n",
       "0  1 - CORONAVAC - SINOVAC (BUTANTAN)     2     03/04/2021  \n",
       "1  1 - CORONAVAC - SINOVAC (BUTANTAN)     1     13/03/2021  \n",
       "2  1 - CORONAVAC - SINOVAC (BUTANTAN)     2     01/04/2021  \n",
       "3  1 - CORONAVAC - SINOVAC (BUTANTAN)     1     04/03/2021  \n",
       "4  1 - CORONAVAC - SINOVAC (BUTANTAN)     2     04/03/2021  "
      ]
     },
     "execution_count": 7,
     "metadata": {},
     "output_type": "execute_result"
    }
   ],
   "source": [
    "data.head()"
   ]
  },
  {
   "cell_type": "markdown",
   "id": "1004be7a",
   "metadata": {},
   "source": [
    "### Renomeando Vacinas"
   ]
  },
  {
   "cell_type": "code",
   "execution_count": 8,
   "id": "d12111cf",
   "metadata": {},
   "outputs": [
    {
     "data": {
      "text/plain": [
       "array(['1 - CORONAVAC - SINOVAC (BUTANTAN)',\n",
       "       '2 - CHADOX1NCOV-19 - OXFORD/ASTRAZENECA (FIOCRUZ)',\n",
       "       '3 - COMIRNATY (PFIZER)',\n",
       "       ' CHADOX1NCOV-19 - OXFORD/ASTRAZENECA (FIOCRUZ)'], dtype=object)"
      ]
     },
     "execution_count": 8,
     "metadata": {},
     "output_type": "execute_result"
    }
   ],
   "source": [
    "data['vacina'].unique()"
   ]
  },
  {
   "cell_type": "code",
   "execution_count": 9,
   "id": "bfc2c163",
   "metadata": {},
   "outputs": [],
   "source": [
    "data['vacina'] = data['vacina'].replace(['1 - CORONAVAC - SINOVAC (BUTANTAN)'], 'CORONAVAC')"
   ]
  },
  {
   "cell_type": "code",
   "execution_count": 10,
   "id": "5fe0362e",
   "metadata": {},
   "outputs": [],
   "source": [
    "data['vacina'] = data['vacina'].replace(['2 - CHADOX1NCOV-19 - OXFORD/ASTRAZENECA (FIOCRUZ)', ' CHADOX1NCOV-19 - OXFORD/ASTRAZENECA (FIOCRUZ)'], 'CHADOX1NCOV-19')"
   ]
  },
  {
   "cell_type": "code",
   "execution_count": 11,
   "id": "608973e0",
   "metadata": {},
   "outputs": [],
   "source": [
    "data['vacina'] = data['vacina'].replace(['3 - COMIRNATY (PFIZER)'], 'COMIRNATY')"
   ]
  },
  {
   "cell_type": "code",
   "execution_count": 12,
   "id": "363d3bb4",
   "metadata": {},
   "outputs": [
    {
     "data": {
      "text/plain": [
       "array(['CORONAVAC', 'CHADOX1NCOV-19', 'COMIRNATY'], dtype=object)"
      ]
     },
     "execution_count": 12,
     "metadata": {},
     "output_type": "execute_result"
    }
   ],
   "source": [
    "data['vacina'].unique()"
   ]
  },
  {
   "cell_type": "code",
   "execution_count": 13,
   "id": "f0dcc0db",
   "metadata": {},
   "outputs": [
    {
     "data": {
      "text/plain": [
       "array(['CORONAVAC', 'CHADOX1NCOV-19', 'COMIRNATY'], dtype=object)"
      ]
     },
     "execution_count": 13,
     "metadata": {},
     "output_type": "execute_result"
    }
   ],
   "source": [
    "data['vacina'].unique()"
   ]
  },
  {
   "cell_type": "markdown",
   "id": "2dee4305",
   "metadata": {},
   "source": [
    "### Renomeando os Grupos"
   ]
  },
  {
   "cell_type": "code",
   "execution_count": 14,
   "id": "ba58c84c",
   "metadata": {},
   "outputs": [
    {
     "data": {
      "text/plain": [
       "array(['TRABALHADORES DA SAÃ\\x9aDE', 'IDOSOS', 'OUTRAS PRIORIDADES',\n",
       "       'PESSOAS COM COMORBIDADES', 'TRABALHADORES DA EDUCAÃ\\x87Ã\\x83O',\n",
       "       'GRÃ\\x81VIDAS E PUÃ\\x89RPERAS'], dtype=object)"
      ]
     },
     "execution_count": 14,
     "metadata": {},
     "output_type": "execute_result"
    }
   ],
   "source": [
    "data['grupo'].unique()"
   ]
  },
  {
   "cell_type": "code",
   "execution_count": 15,
   "id": "27c754a5",
   "metadata": {},
   "outputs": [],
   "source": [
    "data['grupo'] = data['grupo'].replace(['PESSOAS COM COMORBIDADES'], 'COMORBIDADES')"
   ]
  },
  {
   "cell_type": "code",
   "execution_count": 16,
   "id": "9ed24971",
   "metadata": {},
   "outputs": [],
   "source": [
    "data['grupo'] = data['grupo'].replace(['TRABALHADORES DA SAÃDE'], 'SAÚDE')"
   ]
  },
  {
   "cell_type": "code",
   "execution_count": 17,
   "id": "6f981e4d",
   "metadata": {},
   "outputs": [],
   "source": [
    "data['grupo'] = data['grupo'].replace(['OUTRAS PRIORIDADES'], 'OUTROS')"
   ]
  },
  {
   "cell_type": "code",
   "execution_count": 18,
   "id": "560bf14f",
   "metadata": {},
   "outputs": [],
   "source": [
    "data['grupo'] = data['grupo'].replace(['TRABALHADORES DA EDUCAÃ\\x87Ã\\x83O'], 'EDUCAÇÃO')"
   ]
  },
  {
   "cell_type": "code",
   "execution_count": 19,
   "id": "460692e2",
   "metadata": {},
   "outputs": [],
   "source": [
    "data['grupo'] = data['grupo'].replace(['GRÃ\\x81VIDAS E PUÃ\\x89RPERAS'], 'GRÁVIDAS E PUÉRPERAS')"
   ]
  },
  {
   "cell_type": "code",
   "execution_count": 20,
   "id": "437b6b0c",
   "metadata": {},
   "outputs": [
    {
     "data": {
      "text/plain": [
       "array(['SAÚDE', 'IDOSOS', 'OUTROS', 'COMORBIDADES', 'EDUCAÇÃO',\n",
       "       'GRÁVIDAS E PUÉRPERAS'], dtype=object)"
      ]
     },
     "execution_count": 20,
     "metadata": {},
     "output_type": "execute_result"
    }
   ],
   "source": [
    "data['grupo'].unique()"
   ]
  },
  {
   "cell_type": "code",
   "execution_count": 21,
   "id": "bbfeea6f",
   "metadata": {},
   "outputs": [
    {
     "data": {
      "text/html": [
       "<div>\n",
       "<style scoped>\n",
       "    .dataframe tbody tr th:only-of-type {\n",
       "        vertical-align: middle;\n",
       "    }\n",
       "\n",
       "    .dataframe tbody tr th {\n",
       "        vertical-align: top;\n",
       "    }\n",
       "\n",
       "    .dataframe thead th {\n",
       "        text-align: right;\n",
       "    }\n",
       "</style>\n",
       "<table border=\"1\" class=\"dataframe\">\n",
       "  <thead>\n",
       "    <tr style=\"text-align: right;\">\n",
       "      <th></th>\n",
       "      <th>cpf</th>\n",
       "      <th>grupo</th>\n",
       "      <th>vacina</th>\n",
       "      <th>dose</th>\n",
       "      <th>data_vacinacao</th>\n",
       "    </tr>\n",
       "  </thead>\n",
       "  <tbody>\n",
       "    <tr>\n",
       "      <th>0</th>\n",
       "      <td>***.457.304-**</td>\n",
       "      <td>SAÚDE</td>\n",
       "      <td>CORONAVAC</td>\n",
       "      <td>2</td>\n",
       "      <td>03/04/2021</td>\n",
       "    </tr>\n",
       "    <tr>\n",
       "      <th>1</th>\n",
       "      <td>***.457.304-**</td>\n",
       "      <td>SAÚDE</td>\n",
       "      <td>CORONAVAC</td>\n",
       "      <td>1</td>\n",
       "      <td>13/03/2021</td>\n",
       "    </tr>\n",
       "    <tr>\n",
       "      <th>2</th>\n",
       "      <td>***.556.154-**</td>\n",
       "      <td>IDOSOS</td>\n",
       "      <td>CORONAVAC</td>\n",
       "      <td>2</td>\n",
       "      <td>01/04/2021</td>\n",
       "    </tr>\n",
       "    <tr>\n",
       "      <th>3</th>\n",
       "      <td>***.556.154-**</td>\n",
       "      <td>IDOSOS</td>\n",
       "      <td>CORONAVAC</td>\n",
       "      <td>1</td>\n",
       "      <td>04/03/2021</td>\n",
       "    </tr>\n",
       "    <tr>\n",
       "      <th>4</th>\n",
       "      <td>***.886.964-**</td>\n",
       "      <td>SAÚDE</td>\n",
       "      <td>CORONAVAC</td>\n",
       "      <td>2</td>\n",
       "      <td>04/03/2021</td>\n",
       "    </tr>\n",
       "  </tbody>\n",
       "</table>\n",
       "</div>"
      ],
      "text/plain": [
       "              cpf   grupo     vacina  dose data_vacinacao\n",
       "0  ***.457.304-**   SAÚDE  CORONAVAC     2     03/04/2021\n",
       "1  ***.457.304-**   SAÚDE  CORONAVAC     1     13/03/2021\n",
       "2  ***.556.154-**  IDOSOS  CORONAVAC     2     01/04/2021\n",
       "3  ***.556.154-**  IDOSOS  CORONAVAC     1     04/03/2021\n",
       "4  ***.886.964-**   SAÚDE  CORONAVAC     2     04/03/2021"
      ]
     },
     "execution_count": 21,
     "metadata": {},
     "output_type": "execute_result"
    }
   ],
   "source": [
    "data.head()"
   ]
  },
  {
   "cell_type": "markdown",
   "id": "0e0aff79",
   "metadata": {},
   "source": [
    "# Analisando Queries com Histogramas\n",
    "##### *A histogram is an approximate representation of the distribution of numerical data.*"
   ]
  },
  {
   "cell_type": "code",
   "execution_count": 22,
   "id": "9095d7f4",
   "metadata": {},
   "outputs": [
    {
     "data": {
      "text/plain": [
       "1    357478\n",
       "2    186628\n",
       "Name: dose, dtype: int64"
      ]
     },
     "execution_count": 22,
     "metadata": {},
     "output_type": "execute_result"
    }
   ],
   "source": [
    "data['dose'].value_counts()"
   ]
  },
  {
   "cell_type": "markdown",
   "id": "03bcd067",
   "metadata": {},
   "source": [
    "### Poucas pessoas tomaram a segunda dose, o que indica que a pandemia ainda vai durar um pouco... :("
   ]
  },
  {
   "cell_type": "code",
   "execution_count": 23,
   "id": "4e56be4c",
   "metadata": {},
   "outputs": [
    {
     "data": {
      "text/plain": [
       "<AxesSubplot:>"
      ]
     },
     "execution_count": 23,
     "metadata": {},
     "output_type": "execute_result"
    },
    {
     "data": {
      "image/png": "[encoded data removed]",
      "text/plain": [
       "<Figure size 432x288 with 1 Axes>"
      ]
     },
     "metadata": {
      "needs_background": "light"
     },
     "output_type": "display_data"
    }
   ],
   "source": [
    "data['dose'].hist()"
   ]
  },
  {
   "cell_type": "code",
   "execution_count": 24,
   "id": "15640690",
   "metadata": {},
   "outputs": [
    {
     "data": {
      "text/plain": [
       "CORONAVAC         383320\n",
       "CHADOX1NCOV-19    156788\n",
       "COMIRNATY           3998\n",
       "Name: vacina, dtype: int64"
      ]
     },
     "execution_count": 24,
     "metadata": {},
     "output_type": "execute_result"
    }
   ],
   "source": [
    "data['vacina'].value_counts()"
   ]
  },
  {
   "cell_type": "markdown",
   "id": "1e9dd210",
   "metadata": {},
   "source": [
    "### A alta adesão a vacina brasileira ressalta o poder da pesquisa brasileira."
   ]
  },
  {
   "cell_type": "code",
   "execution_count": 25,
   "id": "221b9875",
   "metadata": {},
   "outputs": [
    {
     "data": {
      "text/plain": [
       "<AxesSubplot:>"
      ]
     },
     "execution_count": 25,
     "metadata": {},
     "output_type": "execute_result"
    },
    {
     "data": {
      "image/png": "[encoded data removed]",
      "text/plain": [
       "<Figure size 432x288 with 1 Axes>"
      ]
     },
     "metadata": {
      "needs_background": "light"
     },
     "output_type": "display_data"
    }
   ],
   "source": [
    "data['vacina'].hist()"
   ]
  },
  {
   "cell_type": "code",
   "execution_count": 26,
   "id": "b6f9ba55",
   "metadata": {},
   "outputs": [
    {
     "data": {
      "text/plain": [
       "IDOSOS                  390601\n",
       "SAÚDE                   132879\n",
       "COMORBIDADES              8003\n",
       "EDUCAÇÃO                  7702\n",
       "GRÁVIDAS E PUÉRPERAS      3971\n",
       "OUTROS                     950\n",
       "Name: grupo, dtype: int64"
      ]
     },
     "execution_count": 26,
     "metadata": {},
     "output_type": "execute_result"
    }
   ],
   "source": [
    "data['grupo'].value_counts()"
   ]
  },
  {
   "cell_type": "markdown",
   "id": "99882bbf",
   "metadata": {},
   "source": [
    "### Devido a baixa taxa de vacinação por falta de vacinas, os idosos seguem sendo a prioridade."
   ]
  },
  {
   "cell_type": "code",
   "execution_count": 27,
   "id": "99de01c6",
   "metadata": {},
   "outputs": [
    {
     "data": {
      "text/plain": [
       "<AxesSubplot:>"
      ]
     },
     "execution_count": 27,
     "metadata": {},
     "output_type": "execute_result"
    },
    {
     "data": {
      "image/png": "[encoded data removed]",
      "text/plain": [
       "<Figure size 432x288 with 1 Axes>"
      ]
     },
     "metadata": {
      "needs_background": "light"
     },
     "output_type": "display_data"
    }
   ],
   "source": [
    "data['grupo'].hist(bins= 20)"
   ]
  },
  {
   "cell_type": "code",
   "execution_count": null,
   "id": "03c15894",
   "metadata": {},
   "outputs": [],
   "source": []
  }
 ],
 "metadata": {
  "kernelspec": {
   "display_name": "Python 3",
   "language": "python",
   "name": "python3"
  },
  "language_info": {
   "codemirror_mode": {
    "name": "ipython",
    "version": 3
   },
   "file_extension": ".py",
   "mimetype": "text/x-python",
   "name": "python",
   "nbconvert_exporter": "python",
   "pygments_lexer": "ipython3",
   "version": "3.9.5"
  }
 },
 "nbformat": 4,
 "nbformat_minor": 5
}
