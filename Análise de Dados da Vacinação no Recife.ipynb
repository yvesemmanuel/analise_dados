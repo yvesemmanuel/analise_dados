{
 "cells": [
  {
   "cell_type": "markdown",
   "id": "5e2d7286",
   "metadata": {},
   "source": [
    "# Análise de Dados da Vacinação no Recife"
   ]
  },
  {
   "cell_type": "code",
   "execution_count": 1,
   "id": "195bf66d",
   "metadata": {},
   "outputs": [],
   "source": [
    "import pandas as pd"
   ]
  },
  {
   "cell_type": "code",
   "execution_count": 2,
   "id": "bcaa35ff",
   "metadata": {},
   "outputs": [],
   "source": [
    "raw_data = pd.read_csv('vacinados.csv', sep= ';', encoding= 'ISO-8859-1')"
   ]
  },
  {
   "cell_type": "code",
   "execution_count": 3,
   "id": "706250ea",
   "metadata": {
    "scrolled": true
   },
   "outputs": [
    {
     "data": {
      "text/html": [
       "<div>\n",
       "<style scoped>\n",
       "    .dataframe tbody tr th:only-of-type {\n",
       "        vertical-align: middle;\n",
       "    }\n",
       "\n",
       "    .dataframe tbody tr th {\n",
       "        vertical-align: top;\n",
       "    }\n",
       "\n",
       "    .dataframe thead th {\n",
       "        text-align: right;\n",
       "    }\n",
       "</style>\n",
       "<table border=\"1\" class=\"dataframe\">\n",
       "  <thead>\n",
       "    <tr style=\"text-align: right;\">\n",
       "      <th></th>\n",
       "      <th>cpf</th>\n",
       "      <th>nome</th>\n",
       "      <th>grupo</th>\n",
       "      <th>vacina</th>\n",
       "      <th>lote</th>\n",
       "      <th>dose</th>\n",
       "      <th>data_vacinacao</th>\n",
       "      <th>local_vacinacao</th>\n",
       "    </tr>\n",
       "  </thead>\n",
       "  <tbody>\n",
       "    <tr>\n",
       "      <th>0</th>\n",
       "      <td>***.457.304-**</td>\n",
       "      <td>JOSÃ BARBOSA DINIZ</td>\n",
       "      <td>TRABALHADORES DA SAÃDE</td>\n",
       "      <td>1 - CORONAVAC - SINOVAC (BUTANTAN)</td>\n",
       "      <td>210114</td>\n",
       "      <td>2</td>\n",
       "      <td>03/04/2021</td>\n",
       "      <td>DRIVE THRU - BIG BOMPREÃO - BOA VIAGEM</td>\n",
       "    </tr>\n",
       "    <tr>\n",
       "      <th>1</th>\n",
       "      <td>***.457.304-**</td>\n",
       "      <td>JOSÃ BARBOSA DINIZ</td>\n",
       "      <td>TRABALHADORES DA SAÃDE</td>\n",
       "      <td>1 - CORONAVAC - SINOVAC (BUTANTAN)</td>\n",
       "      <td>210052A</td>\n",
       "      <td>1</td>\n",
       "      <td>13/03/2021</td>\n",
       "      <td>DRIVE THRU GERALDÃO</td>\n",
       "    </tr>\n",
       "    <tr>\n",
       "      <th>2</th>\n",
       "      <td>***.556.154-**</td>\n",
       "      <td>LUIZ CAMILO DE SANTANA</td>\n",
       "      <td>IDOSOS</td>\n",
       "      <td>1 - CORONAVAC - SINOVAC (BUTANTAN)</td>\n",
       "      <td>210093</td>\n",
       "      <td>2</td>\n",
       "      <td>01/04/2021</td>\n",
       "      <td>DRIVE THRU PARQUE DA MACAXEIRA</td>\n",
       "    </tr>\n",
       "    <tr>\n",
       "      <th>3</th>\n",
       "      <td>***.556.154-**</td>\n",
       "      <td>LUIZ CAMILO DE SANTANA</td>\n",
       "      <td>IDOSOS</td>\n",
       "      <td>1 - CORONAVAC - SINOVAC (BUTANTAN)</td>\n",
       "      <td>210043</td>\n",
       "      <td>1</td>\n",
       "      <td>04/03/2021</td>\n",
       "      <td>DRIVE THRU PARQUE DA MACAXEIRA</td>\n",
       "    </tr>\n",
       "    <tr>\n",
       "      <th>4</th>\n",
       "      <td>***.886.964-**</td>\n",
       "      <td>AAMANDA MARIA FREIRE DA SILVA</td>\n",
       "      <td>TRABALHADORES DA SAÃDE</td>\n",
       "      <td>1 - CORONAVAC - SINOVAC (BUTANTAN)</td>\n",
       "      <td>210043</td>\n",
       "      <td>2</td>\n",
       "      <td>04/03/2021</td>\n",
       "      <td>CENTRO DE VACINAÃÃO PARQUE DE EXPOSIÃÃO</td>\n",
       "    </tr>\n",
       "  </tbody>\n",
       "</table>\n",
       "</div>"
      ],
      "text/plain": [
       "              cpf                           nome                    grupo  \\\n",
       "0  ***.457.304-**            JOSÃ BARBOSA DINIZ  TRABALHADORES DA SAÃDE   \n",
       "1  ***.457.304-**            JOSÃ BARBOSA DINIZ  TRABALHADORES DA SAÃDE   \n",
       "2  ***.556.154-**         LUIZ CAMILO DE SANTANA                   IDOSOS   \n",
       "3  ***.556.154-**         LUIZ CAMILO DE SANTANA                   IDOSOS   \n",
       "4  ***.886.964-**  AAMANDA MARIA FREIRE DA SILVA  TRABALHADORES DA SAÃDE   \n",
       "\n",
       "                               vacina     lote  dose data_vacinacao  \\\n",
       "0  1 - CORONAVAC - SINOVAC (BUTANTAN)   210114     2     03/04/2021   \n",
       "1  1 - CORONAVAC - SINOVAC (BUTANTAN)  210052A     1     13/03/2021   \n",
       "2  1 - CORONAVAC - SINOVAC (BUTANTAN)   210093     2     01/04/2021   \n",
       "3  1 - CORONAVAC - SINOVAC (BUTANTAN)   210043     1     04/03/2021   \n",
       "4  1 - CORONAVAC - SINOVAC (BUTANTAN)   210043     2     04/03/2021   \n",
       "\n",
       "                               local_vacinacao  \n",
       "0      DRIVE THRU - BIG BOMPREÃO - BOA VIAGEM  \n",
       "1                         DRIVE THRU GERALDÃO  \n",
       "2               DRIVE THRU PARQUE DA MACAXEIRA  \n",
       "3               DRIVE THRU PARQUE DA MACAXEIRA  \n",
       "4  CENTRO DE VACINAÃÃO PARQUE DE EXPOSIÃÃO  "
      ]
     },
     "execution_count": 3,
     "metadata": {},
     "output_type": "execute_result"
    }
   ],
   "source": [
    "raw_data.head()"
   ]
  },
  {
   "cell_type": "markdown",
   "id": "301785f3",
   "metadata": {},
   "source": [
    "# Tratamento dos Dados"
   ]
  },
  {
   "cell_type": "markdown",
   "id": "992d0814",
   "metadata": {},
   "source": [
    "### Filtrando os Dados"
   ]
  },
  {
   "cell_type": "code",
   "execution_count": 4,
   "id": "2ff56365",
   "metadata": {},
   "outputs": [
    {
     "data": {
      "text/plain": [
       "array(['cpf', 'nome', 'grupo', 'vacina', 'lote', 'dose', 'data_vacinacao',\n",
       "       'local_vacinacao'], dtype=object)"
      ]
     },
     "execution_count": 4,
     "metadata": {},
     "output_type": "execute_result"
    }
   ],
   "source": [
    "raw_data.columns.values"
   ]
  },
  {
   "cell_type": "code",
   "execution_count": 5,
   "id": "64b0fc55",
   "metadata": {},
   "outputs": [],
   "source": [
    "selectedColumns = ['cpf', 'grupo', 'vacina', 'dose', 'data_vacinacao']"
   ]
  },
  {
   "cell_type": "code",
   "execution_count": 6,
   "id": "1e4717e7",
   "metadata": {},
   "outputs": [],
   "source": [
    "# Criando um dataframe apenas com as colunas selecionadas\n",
    "data = raw_data.filter(items= selectedColumns)"
   ]
  },
  {
   "cell_type": "code",
   "execution_count": 7,
   "id": "d9715dcc",
   "metadata": {},
   "outputs": [
    {
     "data": {
      "text/html": [
       "<div>\n",
       "<style scoped>\n",
       "    .dataframe tbody tr th:only-of-type {\n",
       "        vertical-align: middle;\n",
       "    }\n",
       "\n",
       "    .dataframe tbody tr th {\n",
       "        vertical-align: top;\n",
       "    }\n",
       "\n",
       "    .dataframe thead th {\n",
       "        text-align: right;\n",
       "    }\n",
       "</style>\n",
       "<table border=\"1\" class=\"dataframe\">\n",
       "  <thead>\n",
       "    <tr style=\"text-align: right;\">\n",
       "      <th></th>\n",
       "      <th>cpf</th>\n",
       "      <th>grupo</th>\n",
       "      <th>vacina</th>\n",
       "      <th>dose</th>\n",
       "      <th>data_vacinacao</th>\n",
       "    </tr>\n",
       "  </thead>\n",
       "  <tbody>\n",
       "    <tr>\n",
       "      <th>0</th>\n",
       "      <td>***.457.304-**</td>\n",
       "      <td>TRABALHADORES DA SAÃDE</td>\n",
       "      <td>1 - CORONAVAC - SINOVAC (BUTANTAN)</td>\n",
       "      <td>2</td>\n",
       "      <td>03/04/2021</td>\n",
       "    </tr>\n",
       "    <tr>\n",
       "      <th>1</th>\n",
       "      <td>***.457.304-**</td>\n",
       "      <td>TRABALHADORES DA SAÃDE</td>\n",
       "      <td>1 - CORONAVAC - SINOVAC (BUTANTAN)</td>\n",
       "      <td>1</td>\n",
       "      <td>13/03/2021</td>\n",
       "    </tr>\n",
       "    <tr>\n",
       "      <th>2</th>\n",
       "      <td>***.556.154-**</td>\n",
       "      <td>IDOSOS</td>\n",
       "      <td>1 - CORONAVAC - SINOVAC (BUTANTAN)</td>\n",
       "      <td>2</td>\n",
       "      <td>01/04/2021</td>\n",
       "    </tr>\n",
       "    <tr>\n",
       "      <th>3</th>\n",
       "      <td>***.556.154-**</td>\n",
       "      <td>IDOSOS</td>\n",
       "      <td>1 - CORONAVAC - SINOVAC (BUTANTAN)</td>\n",
       "      <td>1</td>\n",
       "      <td>04/03/2021</td>\n",
       "    </tr>\n",
       "    <tr>\n",
       "      <th>4</th>\n",
       "      <td>***.886.964-**</td>\n",
       "      <td>TRABALHADORES DA SAÃDE</td>\n",
       "      <td>1 - CORONAVAC - SINOVAC (BUTANTAN)</td>\n",
       "      <td>2</td>\n",
       "      <td>04/03/2021</td>\n",
       "    </tr>\n",
       "  </tbody>\n",
       "</table>\n",
       "</div>"
      ],
      "text/plain": [
       "              cpf                    grupo  \\\n",
       "0  ***.457.304-**  TRABALHADORES DA SAÃDE   \n",
       "1  ***.457.304-**  TRABALHADORES DA SAÃDE   \n",
       "2  ***.556.154-**                   IDOSOS   \n",
       "3  ***.556.154-**                   IDOSOS   \n",
       "4  ***.886.964-**  TRABALHADORES DA SAÃDE   \n",
       "\n",
       "                               vacina  dose data_vacinacao  \n",
       "0  1 - CORONAVAC - SINOVAC (BUTANTAN)     2     03/04/2021  \n",
       "1  1 - CORONAVAC - SINOVAC (BUTANTAN)     1     13/03/2021  \n",
       "2  1 - CORONAVAC - SINOVAC (BUTANTAN)     2     01/04/2021  \n",
       "3  1 - CORONAVAC - SINOVAC (BUTANTAN)     1     04/03/2021  \n",
       "4  1 - CORONAVAC - SINOVAC (BUTANTAN)     2     04/03/2021  "
      ]
     },
     "execution_count": 7,
     "metadata": {},
     "output_type": "execute_result"
    }
   ],
   "source": [
    "data.head()"
   ]
  },
  {
   "cell_type": "markdown",
   "id": "1004be7a",
   "metadata": {},
   "source": [
    "### Renomeando Vacinas"
   ]
  },
  {
   "cell_type": "code",
   "execution_count": 8,
   "id": "d12111cf",
   "metadata": {},
   "outputs": [
    {
     "data": {
      "text/plain": [
       "array(['1 - CORONAVAC - SINOVAC (BUTANTAN)',\n",
       "       '2 - CHADOX1NCOV-19 - OXFORD/ASTRAZENECA (FIOCRUZ)',\n",
       "       '3 - COMIRNATY (PFIZER)',\n",
       "       ' CHADOX1NCOV-19 - OXFORD/ASTRAZENECA (FIOCRUZ)'], dtype=object)"
      ]
     },
     "execution_count": 8,
     "metadata": {},
     "output_type": "execute_result"
    }
   ],
   "source": [
    "data['vacina'].unique()"
   ]
  },
  {
   "cell_type": "code",
   "execution_count": 9,
   "id": "bfc2c163",
   "metadata": {},
   "outputs": [],
   "source": [
    "data['vacina'] = data['vacina'].replace(['1 - CORONAVAC - SINOVAC (BUTANTAN)'], 'CORONAVAC')"
   ]
  },
  {
   "cell_type": "code",
   "execution_count": 10,
   "id": "5fe0362e",
   "metadata": {},
   "outputs": [],
   "source": [
    "data['vacina'] = data['vacina'].replace(['2 - CHADOX1NCOV-19 - OXFORD/ASTRAZENECA (FIOCRUZ)', ' CHADOX1NCOV-19 - OXFORD/ASTRAZENECA (FIOCRUZ)'], 'CHADOX1NCOV-19')"
   ]
  },
  {
   "cell_type": "code",
   "execution_count": 11,
   "id": "608973e0",
   "metadata": {},
   "outputs": [],
   "source": [
    "data['vacina'] = data['vacina'].replace(['3 - COMIRNATY (PFIZER)'], 'COMIRNATY')"
   ]
  },
  {
   "cell_type": "code",
   "execution_count": 12,
   "id": "363d3bb4",
   "metadata": {},
   "outputs": [
    {
     "data": {
      "text/plain": [
       "array(['CORONAVAC', 'CHADOX1NCOV-19', 'COMIRNATY'], dtype=object)"
      ]
     },
     "execution_count": 12,
     "metadata": {},
     "output_type": "execute_result"
    }
   ],
   "source": [
    "data['vacina'].unique()"
   ]
  },
  {
   "cell_type": "code",
   "execution_count": 13,
   "id": "f0dcc0db",
   "metadata": {},
   "outputs": [
    {
     "data": {
      "text/plain": [
       "array(['CORONAVAC', 'CHADOX1NCOV-19', 'COMIRNATY'], dtype=object)"
      ]
     },
     "execution_count": 13,
     "metadata": {},
     "output_type": "execute_result"
    }
   ],
   "source": [
    "data['vacina'].unique()"
   ]
  },
  {
   "cell_type": "markdown",
   "id": "2dee4305",
   "metadata": {},
   "source": [
    "### Renomeando os Grupos"
   ]
  },
  {
   "cell_type": "code",
   "execution_count": 14,
   "id": "ba58c84c",
   "metadata": {},
   "outputs": [
    {
     "data": {
      "text/plain": [
       "array(['TRABALHADORES DA SAÃ\\x9aDE', 'IDOSOS', 'OUTRAS PRIORIDADES',\n",
       "       'PESSOAS COM COMORBIDADES', 'TRABALHADORES DA EDUCAÃ\\x87Ã\\x83O',\n",
       "       'GRÃ\\x81VIDAS E PUÃ\\x89RPERAS'], dtype=object)"
      ]
     },
     "execution_count": 14,
     "metadata": {},
     "output_type": "execute_result"
    }
   ],
   "source": [
    "data['grupo'].unique()"
   ]
  },
  {
   "cell_type": "code",
   "execution_count": 15,
   "id": "27c754a5",
   "metadata": {},
   "outputs": [],
   "source": [
    "data['grupo'] = data['grupo'].replace(['PESSOAS COM COMORBIDADES'], 'COMORBIDADES')"
   ]
  },
  {
   "cell_type": "code",
   "execution_count": 16,
   "id": "9ed24971",
   "metadata": {},
   "outputs": [],
   "source": [
    "data['grupo'] = data['grupo'].replace(['TRABALHADORES DA SAÃDE'], 'SAÚDE')"
   ]
  },
  {
   "cell_type": "code",
   "execution_count": 17,
   "id": "6f981e4d",
   "metadata": {},
   "outputs": [],
   "source": [
    "data['grupo'] = data['grupo'].replace(['OUTRAS PRIORIDADES'], 'OUTROS')"
   ]
  },
  {
   "cell_type": "code",
   "execution_count": 18,
   "id": "560bf14f",
   "metadata": {},
   "outputs": [],
   "source": [
    "data['grupo'] = data['grupo'].replace(['TRABALHADORES DA EDUCAÃ\\x87Ã\\x83O'], 'EDUCAÇÃO')"
   ]
  },
  {
   "cell_type": "code",
   "execution_count": 19,
   "id": "460692e2",
   "metadata": {},
   "outputs": [],
   "source": [
    "data['grupo'] = data['grupo'].replace(['GRÃ\\x81VIDAS E PUÃ\\x89RPERAS'], 'GRÁVIDAS E PUÉRPERAS')"
   ]
  },
  {
   "cell_type": "code",
   "execution_count": 20,
   "id": "437b6b0c",
   "metadata": {},
   "outputs": [
    {
     "data": {
      "text/plain": [
       "array(['SAÚDE', 'IDOSOS', 'OUTROS', 'COMORBIDADES', 'EDUCAÇÃO',\n",
       "       'GRÁVIDAS E PUÉRPERAS'], dtype=object)"
      ]
     },
     "execution_count": 20,
     "metadata": {},
     "output_type": "execute_result"
    }
   ],
   "source": [
    "data['grupo'].unique()"
   ]
  },
  {
   "cell_type": "code",
   "execution_count": 21,
   "id": "bbfeea6f",
   "metadata": {},
   "outputs": [
    {
     "data": {
      "text/html": [
       "<div>\n",
       "<style scoped>\n",
       "    .dataframe tbody tr th:only-of-type {\n",
       "        vertical-align: middle;\n",
       "    }\n",
       "\n",
       "    .dataframe tbody tr th {\n",
       "        vertical-align: top;\n",
       "    }\n",
       "\n",
       "    .dataframe thead th {\n",
       "        text-align: right;\n",
       "    }\n",
       "</style>\n",
       "<table border=\"1\" class=\"dataframe\">\n",
       "  <thead>\n",
       "    <tr style=\"text-align: right;\">\n",
       "      <th></th>\n",
       "      <th>cpf</th>\n",
       "      <th>grupo</th>\n",
       "      <th>vacina</th>\n",
       "      <th>dose</th>\n",
       "      <th>data_vacinacao</th>\n",
       "    </tr>\n",
       "  </thead>\n",
       "  <tbody>\n",
       "    <tr>\n",
       "      <th>0</th>\n",
       "      <td>***.457.304-**</td>\n",
       "      <td>SAÚDE</td>\n",
       "      <td>CORONAVAC</td>\n",
       "      <td>2</td>\n",
       "      <td>03/04/2021</td>\n",
       "    </tr>\n",
       "    <tr>\n",
       "      <th>1</th>\n",
       "      <td>***.457.304-**</td>\n",
       "      <td>SAÚDE</td>\n",
       "      <td>CORONAVAC</td>\n",
       "      <td>1</td>\n",
       "      <td>13/03/2021</td>\n",
       "    </tr>\n",
       "    <tr>\n",
       "      <th>2</th>\n",
       "      <td>***.556.154-**</td>\n",
       "      <td>IDOSOS</td>\n",
       "      <td>CORONAVAC</td>\n",
       "      <td>2</td>\n",
       "      <td>01/04/2021</td>\n",
       "    </tr>\n",
       "    <tr>\n",
       "      <th>3</th>\n",
       "      <td>***.556.154-**</td>\n",
       "      <td>IDOSOS</td>\n",
       "      <td>CORONAVAC</td>\n",
       "      <td>1</td>\n",
       "      <td>04/03/2021</td>\n",
       "    </tr>\n",
       "    <tr>\n",
       "      <th>4</th>\n",
       "      <td>***.886.964-**</td>\n",
       "      <td>SAÚDE</td>\n",
       "      <td>CORONAVAC</td>\n",
       "      <td>2</td>\n",
       "      <td>04/03/2021</td>\n",
       "    </tr>\n",
       "  </tbody>\n",
       "</table>\n",
       "</div>"
      ],
      "text/plain": [
       "              cpf   grupo     vacina  dose data_vacinacao\n",
       "0  ***.457.304-**   SAÚDE  CORONAVAC     2     03/04/2021\n",
       "1  ***.457.304-**   SAÚDE  CORONAVAC     1     13/03/2021\n",
       "2  ***.556.154-**  IDOSOS  CORONAVAC     2     01/04/2021\n",
       "3  ***.556.154-**  IDOSOS  CORONAVAC     1     04/03/2021\n",
       "4  ***.886.964-**   SAÚDE  CORONAVAC     2     04/03/2021"
      ]
     },
     "execution_count": 21,
     "metadata": {},
     "output_type": "execute_result"
    }
   ],
   "source": [
    "data.head()"
   ]
  },
  {
   "cell_type": "markdown",
   "id": "0e0aff79",
   "metadata": {},
   "source": [
    "# Analisando Queries com Histogramas\n",
    "##### *A histogram is an approximate representation of the distribution of numerical data.*"
   ]
  },
  {
   "cell_type": "code",
   "execution_count": 22,
   "id": "aaf2e5fd",
   "metadata": {},
   "outputs": [],
   "source": [
    "import matplotlib.pyplot as plt\n",
    "import seaborn as sns"
   ]
  },
  {
   "cell_type": "code",
   "execution_count": 23,
   "id": "3a6893eb",
   "metadata": {},
   "outputs": [
    {
     "data": {
      "text/html": [
       "<div>\n",
       "<style scoped>\n",
       "    .dataframe tbody tr th:only-of-type {\n",
       "        vertical-align: middle;\n",
       "    }\n",
       "\n",
       "    .dataframe tbody tr th {\n",
       "        vertical-align: top;\n",
       "    }\n",
       "\n",
       "    .dataframe thead th {\n",
       "        text-align: right;\n",
       "    }\n",
       "</style>\n",
       "<table border=\"1\" class=\"dataframe\">\n",
       "  <thead>\n",
       "    <tr style=\"text-align: right;\">\n",
       "      <th></th>\n",
       "      <th>dose</th>\n",
       "      <th>proporção</th>\n",
       "    </tr>\n",
       "  </thead>\n",
       "  <tbody>\n",
       "    <tr>\n",
       "      <th>0</th>\n",
       "      <td>1</td>\n",
       "      <td>0.657001</td>\n",
       "    </tr>\n",
       "    <tr>\n",
       "      <th>1</th>\n",
       "      <td>2</td>\n",
       "      <td>0.342999</td>\n",
       "    </tr>\n",
       "  </tbody>\n",
       "</table>\n",
       "</div>"
      ],
      "text/plain": [
       "   dose  proporção\n",
       "0     1   0.657001\n",
       "1     2   0.342999"
      ]
     },
     "execution_count": 23,
     "metadata": {},
     "output_type": "execute_result"
    }
   ],
   "source": [
    "# Criando um dataframe com a proporção da classe dose\n",
    "doses_proportion = data['dose'].value_counts(normalize= True).reset_index()\n",
    "doses_proportion.columns = ['dose', 'proporção']\n",
    "doses_proportion"
   ]
  },
  {
   "cell_type": "markdown",
   "id": "03bcd067",
   "metadata": {},
   "source": [
    "### Poucas pessoas tomaram a segunda dose, o que indica que a pandemia ainda vai durar um pouco... :("
   ]
  },
  {
   "cell_type": "code",
   "execution_count": 24,
   "id": "4e56be4c",
   "metadata": {},
   "outputs": [
    {
     "data": {
      "image/png": "[encoded data removed]",
      "text/plain": [
       "<Figure size 936x504 with 1 Axes>"
      ]
     },
     "metadata": {
      "needs_background": "light"
     },
     "output_type": "display_data"
    }
   ],
   "source": [
    "# Criando figura e eixos\n",
    "fig, ax = plt.subplots(figsize=(13, 7)) \n",
    "\n",
    "# Mudando o estilo de fundo\n",
    "sns.set_style('darkgrid')\n",
    "\n",
    "# Criando uma palheta de 2 cores\n",
    "sns.set_palette(sns.color_palette('hsv', 2))\n",
    "\n",
    "# Criando o gráfico \n",
    "sns.barplot(x= 'dose', y= 'proporção', data= doses_proportion, ax= ax)\n",
    "\n",
    "# Adicionando os títulos e mudando o tamanho das fontes\n",
    "plt.title('Proporção do Número de Doses das Vacinas', fontsize=20)\n",
    "plt.xlabel('Dose', fontsize=15)\n",
    "plt.ylabel('Proporção', fontsize=15)\n",
    "\n",
    "# Adicionando os valores acima da barra\n",
    "for index, row in doses_proportion.iterrows():\n",
    "    ax.text(index, row['proporção'], \"{:.0%}\".format(row['proporção']), color= 'black', ha= \"center\", fontsize= 16)\n",
    "\n",
    "# Plotando o gráfico\n",
    "plt.show()"
   ]
  },
  {
   "cell_type": "code",
   "execution_count": 25,
   "id": "15640690",
   "metadata": {},
   "outputs": [
    {
     "data": {
      "text/html": [
       "<div>\n",
       "<style scoped>\n",
       "    .dataframe tbody tr th:only-of-type {\n",
       "        vertical-align: middle;\n",
       "    }\n",
       "\n",
       "    .dataframe tbody tr th {\n",
       "        vertical-align: top;\n",
       "    }\n",
       "\n",
       "    .dataframe thead th {\n",
       "        text-align: right;\n",
       "    }\n",
       "</style>\n",
       "<table border=\"1\" class=\"dataframe\">\n",
       "  <thead>\n",
       "    <tr style=\"text-align: right;\">\n",
       "      <th></th>\n",
       "      <th>vacina</th>\n",
       "      <th>proporção</th>\n",
       "    </tr>\n",
       "  </thead>\n",
       "  <tbody>\n",
       "    <tr>\n",
       "      <th>0</th>\n",
       "      <td>CORONAVAC</td>\n",
       "      <td>0.704495</td>\n",
       "    </tr>\n",
       "    <tr>\n",
       "      <th>1</th>\n",
       "      <td>CHADOX1NCOV-19</td>\n",
       "      <td>0.288157</td>\n",
       "    </tr>\n",
       "    <tr>\n",
       "      <th>2</th>\n",
       "      <td>COMIRNATY</td>\n",
       "      <td>0.007348</td>\n",
       "    </tr>\n",
       "  </tbody>\n",
       "</table>\n",
       "</div>"
      ],
      "text/plain": [
       "           vacina  proporção\n",
       "0       CORONAVAC   0.704495\n",
       "1  CHADOX1NCOV-19   0.288157\n",
       "2       COMIRNATY   0.007348"
      ]
     },
     "execution_count": 25,
     "metadata": {},
     "output_type": "execute_result"
    }
   ],
   "source": [
    "# Criando um dataframe com a proporção da classe vacina\n",
    "vaccines_proportion = data['vacina'].value_counts(normalize= True).reset_index()\n",
    "vaccines_proportion.columns = ['vacina', 'proporção']\n",
    "vaccines_proportion"
   ]
  },
  {
   "cell_type": "markdown",
   "id": "1e9dd210",
   "metadata": {},
   "source": [
    "### A alta adesão a vacina brasileira ressalta o poder da pesquisa brasileira."
   ]
  },
  {
   "cell_type": "code",
   "execution_count": 26,
   "id": "221b9875",
   "metadata": {},
   "outputs": [
    {
     "data": {
      "image/png": "[encoded data removed]",
      "text/plain": [
       "<Figure size 936x504 with 1 Axes>"
      ]
     },
     "metadata": {},
     "output_type": "display_data"
    }
   ],
   "source": [
    "fig, ax = plt.subplots(figsize=(13, 7)) \n",
    "sns.set_style('darkgrid')\n",
    "sns.set_palette(sns.color_palette('pastel', 3))\n",
    "\n",
    "sns.barplot(x= 'vacina', y= 'proporção', data= vaccines_proportion, ax= ax)\n",
    "\n",
    "plt.title('Proporção do Número de Vacinas Aplicadas', fontsize= 20)\n",
    "plt.xlabel('Vacina', fontsize= 15)\n",
    "plt.ylabel('Proporção', fontsize= 15)\n",
    "\n",
    "for index, row in vaccines_proportion.iterrows():\n",
    "    ax.text(index, row['proporção'], \"{:.1%}\".format(row['proporção']), color= 'black', ha= \"center\", fontsize= 16)\n",
    "\n",
    "plt.show()"
   ]
  },
  {
   "cell_type": "code",
   "execution_count": 27,
   "id": "b6f9ba55",
   "metadata": {},
   "outputs": [
    {
     "data": {
      "text/html": [
       "<div>\n",
       "<style scoped>\n",
       "    .dataframe tbody tr th:only-of-type {\n",
       "        vertical-align: middle;\n",
       "    }\n",
       "\n",
       "    .dataframe tbody tr th {\n",
       "        vertical-align: top;\n",
       "    }\n",
       "\n",
       "    .dataframe thead th {\n",
       "        text-align: right;\n",
       "    }\n",
       "</style>\n",
       "<table border=\"1\" class=\"dataframe\">\n",
       "  <thead>\n",
       "    <tr style=\"text-align: right;\">\n",
       "      <th></th>\n",
       "      <th>grupo</th>\n",
       "      <th>proporção</th>\n",
       "    </tr>\n",
       "  </thead>\n",
       "  <tbody>\n",
       "    <tr>\n",
       "      <th>0</th>\n",
       "      <td>IDOSOS</td>\n",
       "      <td>0.717877</td>\n",
       "    </tr>\n",
       "    <tr>\n",
       "      <th>1</th>\n",
       "      <td>SAÚDE</td>\n",
       "      <td>0.244215</td>\n",
       "    </tr>\n",
       "    <tr>\n",
       "      <th>2</th>\n",
       "      <td>COMORBIDADES</td>\n",
       "      <td>0.014709</td>\n",
       "    </tr>\n",
       "    <tr>\n",
       "      <th>3</th>\n",
       "      <td>EDUCAÇÃO</td>\n",
       "      <td>0.014155</td>\n",
       "    </tr>\n",
       "    <tr>\n",
       "      <th>4</th>\n",
       "      <td>GRÁVIDAS E PUÉRPERAS</td>\n",
       "      <td>0.007298</td>\n",
       "    </tr>\n",
       "    <tr>\n",
       "      <th>5</th>\n",
       "      <td>OUTROS</td>\n",
       "      <td>0.001746</td>\n",
       "    </tr>\n",
       "  </tbody>\n",
       "</table>\n",
       "</div>"
      ],
      "text/plain": [
       "                  grupo  proporção\n",
       "0                IDOSOS   0.717877\n",
       "1                 SAÚDE   0.244215\n",
       "2          COMORBIDADES   0.014709\n",
       "3              EDUCAÇÃO   0.014155\n",
       "4  GRÁVIDAS E PUÉRPERAS   0.007298\n",
       "5                OUTROS   0.001746"
      ]
     },
     "execution_count": 27,
     "metadata": {},
     "output_type": "execute_result"
    }
   ],
   "source": [
    "# Criando um dataframe com a proporção da classe grupo\n",
    "groups_proportion = data['grupo'].value_counts(normalize= True).reset_index()\n",
    "groups_proportion.columns = ['grupo', 'proporção']\n",
    "groups_proportion"
   ]
  },
  {
   "cell_type": "markdown",
   "id": "99882bbf",
   "metadata": {},
   "source": [
    "### Devido a baixa taxa de vacinação por falta de vacinas, os idosos seguem sendo a prioridade."
   ]
  },
  {
   "cell_type": "code",
   "execution_count": 28,
   "id": "99de01c6",
   "metadata": {},
   "outputs": [
    {
     "data": {
      "image/png": "[encoded data removed]",
      "text/plain": [
       "<Figure size 936x504 with 1 Axes>"
      ]
     },
     "metadata": {},
     "output_type": "display_data"
    }
   ],
   "source": [
    "fig, ax = plt.subplots(figsize=(13, 7)) \n",
    "sns.set_style('darkgrid')\n",
    "sns.set_palette(sns.color_palette('pastel', 6))\n",
    "\n",
    "sns.barplot(x= 'grupo', y= 'proporção', data= groups_proportion, ax= ax)\n",
    "\n",
    "plt.title('Proporção dos Grupos Vacinados', fontsize= 20)\n",
    "plt.xlabel('Grupo', fontsize= 15)\n",
    "plt.ylabel('Proporção', fontsize= 15)\n",
    "\n",
    "for index, row in groups_proportion.iterrows():\n",
    "    ax.text(index, row['proporção'], \"{:.1%}\".format(row['proporção']), color= 'black', ha= \"center\", fontsize= 16)\n",
    "\n",
    "plt.show()"
   ]
  },
  {
   "cell_type": "code",
   "execution_count": null,
   "id": "03c15894",
   "metadata": {},
   "outputs": [],
   "source": []
  }
 ],
 "metadata": {
  "kernelspec": {
   "display_name": "Python 3",
   "language": "python",
   "name": "python3"
  },
  "language_info": {
   "codemirror_mode": {
    "name": "ipython",
    "version": 3
   },
   "file_extension": ".py",
   "mimetype": "text/x-python",
   "name": "python",
   "nbconvert_exporter": "python",
   "pygments_lexer": "ipython3",
   "version": "3.9.5"
  }
 },
 "nbformat": 4,
 "nbformat_minor": 5
}
