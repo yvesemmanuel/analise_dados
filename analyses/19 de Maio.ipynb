{
 "cells": [
  {
   "cell_type": "markdown",
   "id": "5e2d7286",
   "metadata": {},
   "source": [
    "# Análise da Vacinação no Recife"
   ]
  },
  {
   "cell_type": "code",
   "execution_count": 1,
   "id": "195bf66d",
   "metadata": {},
   "outputs": [],
   "source": [
    "import pandas as pd"
   ]
  },
  {
   "cell_type": "code",
   "execution_count": 2,
   "id": "bcaa35ff",
   "metadata": {},
   "outputs": [],
   "source": [
    "raw_data = pd.read_csv('vacinados - 19 de maio.csv', sep= ';', encoding = 'utf-8')"
   ]
  },
  {
   "cell_type": "code",
   "execution_count": 3,
   "id": "706250ea",
   "metadata": {
    "scrolled": true
   },
   "outputs": [
    {
     "data": {
      "text/html": [
       "<div>\n",
       "<style scoped>\n",
       "    .dataframe tbody tr th:only-of-type {\n",
       "        vertical-align: middle;\n",
       "    }\n",
       "\n",
       "    .dataframe tbody tr th {\n",
       "        vertical-align: top;\n",
       "    }\n",
       "\n",
       "    .dataframe thead th {\n",
       "        text-align: right;\n",
       "    }\n",
       "</style>\n",
       "<table border=\"1\" class=\"dataframe\">\n",
       "  <thead>\n",
       "    <tr style=\"text-align: right;\">\n",
       "      <th></th>\n",
       "      <th>cpf</th>\n",
       "      <th>nome</th>\n",
       "      <th>grupo</th>\n",
       "      <th>vacina</th>\n",
       "      <th>lote</th>\n",
       "      <th>dose</th>\n",
       "      <th>data_vacinacao</th>\n",
       "      <th>local_vacinacao</th>\n",
       "    </tr>\n",
       "  </thead>\n",
       "  <tbody>\n",
       "    <tr>\n",
       "      <th>0</th>\n",
       "      <td>***.457.304-**</td>\n",
       "      <td>JOSÉ BARBOSA DINIZ</td>\n",
       "      <td>TRABALHADORES DA SAÚDE</td>\n",
       "      <td>1 - CORONAVAC - SINOVAC (BUTANTAN)</td>\n",
       "      <td>210114</td>\n",
       "      <td>2</td>\n",
       "      <td>03/04/2021</td>\n",
       "      <td>DRIVE THRU - BIG BOMPREÇO - BOA VIAGEM</td>\n",
       "    </tr>\n",
       "    <tr>\n",
       "      <th>1</th>\n",
       "      <td>***.457.304-**</td>\n",
       "      <td>JOSÉ BARBOSA DINIZ</td>\n",
       "      <td>TRABALHADORES DA SAÚDE</td>\n",
       "      <td>1 - CORONAVAC - SINOVAC (BUTANTAN)</td>\n",
       "      <td>210052A</td>\n",
       "      <td>1</td>\n",
       "      <td>13/03/2021</td>\n",
       "      <td>DRIVE THRU GERALDÃO</td>\n",
       "    </tr>\n",
       "    <tr>\n",
       "      <th>2</th>\n",
       "      <td>***.556.154-**</td>\n",
       "      <td>LUIZ CAMILO DE SANTANA</td>\n",
       "      <td>IDOSOS</td>\n",
       "      <td>1 - CORONAVAC - SINOVAC (BUTANTAN)</td>\n",
       "      <td>210093</td>\n",
       "      <td>2</td>\n",
       "      <td>01/04/2021</td>\n",
       "      <td>DRIVE THRU PARQUE DA MACAXEIRA</td>\n",
       "    </tr>\n",
       "    <tr>\n",
       "      <th>3</th>\n",
       "      <td>***.556.154-**</td>\n",
       "      <td>LUIZ CAMILO DE SANTANA</td>\n",
       "      <td>IDOSOS</td>\n",
       "      <td>1 - CORONAVAC - SINOVAC (BUTANTAN)</td>\n",
       "      <td>210043</td>\n",
       "      <td>1</td>\n",
       "      <td>04/03/2021</td>\n",
       "      <td>DRIVE THRU PARQUE DA MACAXEIRA</td>\n",
       "    </tr>\n",
       "    <tr>\n",
       "      <th>4</th>\n",
       "      <td>***.886.964-**</td>\n",
       "      <td>AAMANDA MARIA FREIRE DA SILVA</td>\n",
       "      <td>TRABALHADORES DA SAÚDE</td>\n",
       "      <td>1 - CORONAVAC - SINOVAC (BUTANTAN)</td>\n",
       "      <td>210043</td>\n",
       "      <td>2</td>\n",
       "      <td>04/03/2021</td>\n",
       "      <td>CENTRO DE VACINAÇÃO PARQUE DE EXPOSIÇÃO</td>\n",
       "    </tr>\n",
       "  </tbody>\n",
       "</table>\n",
       "</div>"
      ],
      "text/plain": [
       "              cpf                           nome                   grupo  \\\n",
       "0  ***.457.304-**             JOSÉ BARBOSA DINIZ  TRABALHADORES DA SAÚDE   \n",
       "1  ***.457.304-**             JOSÉ BARBOSA DINIZ  TRABALHADORES DA SAÚDE   \n",
       "2  ***.556.154-**         LUIZ CAMILO DE SANTANA                  IDOSOS   \n",
       "3  ***.556.154-**         LUIZ CAMILO DE SANTANA                  IDOSOS   \n",
       "4  ***.886.964-**  AAMANDA MARIA FREIRE DA SILVA  TRABALHADORES DA SAÚDE   \n",
       "\n",
       "                               vacina     lote  dose data_vacinacao  \\\n",
       "0  1 - CORONAVAC - SINOVAC (BUTANTAN)   210114     2     03/04/2021   \n",
       "1  1 - CORONAVAC - SINOVAC (BUTANTAN)  210052A     1     13/03/2021   \n",
       "2  1 - CORONAVAC - SINOVAC (BUTANTAN)   210093     2     01/04/2021   \n",
       "3  1 - CORONAVAC - SINOVAC (BUTANTAN)   210043     1     04/03/2021   \n",
       "4  1 - CORONAVAC - SINOVAC (BUTANTAN)   210043     2     04/03/2021   \n",
       "\n",
       "                           local_vacinacao  \n",
       "0   DRIVE THRU - BIG BOMPREÇO - BOA VIAGEM  \n",
       "1                      DRIVE THRU GERALDÃO  \n",
       "2           DRIVE THRU PARQUE DA MACAXEIRA  \n",
       "3           DRIVE THRU PARQUE DA MACAXEIRA  \n",
       "4  CENTRO DE VACINAÇÃO PARQUE DE EXPOSIÇÃO  "
      ]
     },
     "execution_count": 3,
     "metadata": {},
     "output_type": "execute_result"
    }
   ],
   "source": [
    "raw_data.head()"
   ]
  },
  {
   "cell_type": "markdown",
   "id": "301785f3",
   "metadata": {},
   "source": [
    "# Tratamento de Dados"
   ]
  },
  {
   "cell_type": "markdown",
   "id": "992d0814",
   "metadata": {},
   "source": [
    "### Filtrando as colunas que serão usadas:"
   ]
  },
  {
   "cell_type": "code",
   "execution_count": 4,
   "id": "2ff56365",
   "metadata": {},
   "outputs": [
    {
     "data": {
      "text/plain": [
       "Index(['cpf', 'nome', 'grupo', 'vacina', 'lote', 'dose', 'data_vacinacao',\n",
       "       'local_vacinacao'],\n",
       "      dtype='object')"
      ]
     },
     "execution_count": 4,
     "metadata": {},
     "output_type": "execute_result"
    }
   ],
   "source": [
    "raw_data.columns"
   ]
  },
  {
   "cell_type": "code",
   "execution_count": 5,
   "id": "1e4717e7",
   "metadata": {},
   "outputs": [
    {
     "data": {
      "text/html": [
       "<div>\n",
       "<style scoped>\n",
       "    .dataframe tbody tr th:only-of-type {\n",
       "        vertical-align: middle;\n",
       "    }\n",
       "\n",
       "    .dataframe tbody tr th {\n",
       "        vertical-align: top;\n",
       "    }\n",
       "\n",
       "    .dataframe thead th {\n",
       "        text-align: right;\n",
       "    }\n",
       "</style>\n",
       "<table border=\"1\" class=\"dataframe\">\n",
       "  <thead>\n",
       "    <tr style=\"text-align: right;\">\n",
       "      <th></th>\n",
       "      <th>cpf</th>\n",
       "      <th>grupo</th>\n",
       "      <th>vacina</th>\n",
       "      <th>dose</th>\n",
       "      <th>data_vacinacao</th>\n",
       "    </tr>\n",
       "  </thead>\n",
       "  <tbody>\n",
       "    <tr>\n",
       "      <th>0</th>\n",
       "      <td>***.457.304-**</td>\n",
       "      <td>TRABALHADORES DA SAÚDE</td>\n",
       "      <td>1 - CORONAVAC - SINOVAC (BUTANTAN)</td>\n",
       "      <td>2</td>\n",
       "      <td>03/04/2021</td>\n",
       "    </tr>\n",
       "    <tr>\n",
       "      <th>1</th>\n",
       "      <td>***.457.304-**</td>\n",
       "      <td>TRABALHADORES DA SAÚDE</td>\n",
       "      <td>1 - CORONAVAC - SINOVAC (BUTANTAN)</td>\n",
       "      <td>1</td>\n",
       "      <td>13/03/2021</td>\n",
       "    </tr>\n",
       "    <tr>\n",
       "      <th>2</th>\n",
       "      <td>***.556.154-**</td>\n",
       "      <td>IDOSOS</td>\n",
       "      <td>1 - CORONAVAC - SINOVAC (BUTANTAN)</td>\n",
       "      <td>2</td>\n",
       "      <td>01/04/2021</td>\n",
       "    </tr>\n",
       "    <tr>\n",
       "      <th>3</th>\n",
       "      <td>***.556.154-**</td>\n",
       "      <td>IDOSOS</td>\n",
       "      <td>1 - CORONAVAC - SINOVAC (BUTANTAN)</td>\n",
       "      <td>1</td>\n",
       "      <td>04/03/2021</td>\n",
       "    </tr>\n",
       "    <tr>\n",
       "      <th>4</th>\n",
       "      <td>***.886.964-**</td>\n",
       "      <td>TRABALHADORES DA SAÚDE</td>\n",
       "      <td>1 - CORONAVAC - SINOVAC (BUTANTAN)</td>\n",
       "      <td>2</td>\n",
       "      <td>04/03/2021</td>\n",
       "    </tr>\n",
       "  </tbody>\n",
       "</table>\n",
       "</div>"
      ],
      "text/plain": [
       "              cpf                   grupo                              vacina  \\\n",
       "0  ***.457.304-**  TRABALHADORES DA SAÚDE  1 - CORONAVAC - SINOVAC (BUTANTAN)   \n",
       "1  ***.457.304-**  TRABALHADORES DA SAÚDE  1 - CORONAVAC - SINOVAC (BUTANTAN)   \n",
       "2  ***.556.154-**                  IDOSOS  1 - CORONAVAC - SINOVAC (BUTANTAN)   \n",
       "3  ***.556.154-**                  IDOSOS  1 - CORONAVAC - SINOVAC (BUTANTAN)   \n",
       "4  ***.886.964-**  TRABALHADORES DA SAÚDE  1 - CORONAVAC - SINOVAC (BUTANTAN)   \n",
       "\n",
       "   dose data_vacinacao  \n",
       "0     2     03/04/2021  \n",
       "1     1     13/03/2021  \n",
       "2     2     01/04/2021  \n",
       "3     1     04/03/2021  \n",
       "4     2     04/03/2021  "
      ]
     },
     "execution_count": 5,
     "metadata": {},
     "output_type": "execute_result"
    }
   ],
   "source": [
    "data = raw_data.loc[:, ['cpf', 'grupo', 'vacina', 'dose', 'data_vacinacao']]\n",
    "data.head(5)"
   ]
  },
  {
   "cell_type": "markdown",
   "id": "1004be7a",
   "metadata": {},
   "source": [
    "### Renomeando as vacinas para tornar mais fácil o uso:"
   ]
  },
  {
   "cell_type": "code",
   "execution_count": 6,
   "id": "d12111cf",
   "metadata": {},
   "outputs": [
    {
     "data": {
      "text/plain": [
       "array(['1 - CORONAVAC - SINOVAC (BUTANTAN)',\n",
       "       '2 - CHADOX1NCOV-19 - OXFORD/ASTRAZENECA (FIOCRUZ)',\n",
       "       '3 - COMIRNATY (PFIZER)', '1- CORONAVAC - SINOVAC (BUTANTAN)'],\n",
       "      dtype=object)"
      ]
     },
     "execution_count": 6,
     "metadata": {},
     "output_type": "execute_result"
    }
   ],
   "source": [
    "data['vacina'].unique()"
   ]
  },
  {
   "cell_type": "code",
   "execution_count": 7,
   "id": "bfc2c163",
   "metadata": {},
   "outputs": [],
   "source": [
    "data['vacina'] = data['vacina'].replace(['1 - CORONAVAC - SINOVAC (BUTANTAN)',\n",
    "                                         '1- CORONAVAC - SINOVAC (BUTANTAN)'],\n",
    "                                        \n",
    "                                        'CORONAVAC')"
   ]
  },
  {
   "cell_type": "code",
   "execution_count": 8,
   "id": "5fe0362e",
   "metadata": {},
   "outputs": [],
   "source": [
    "data['vacina'] = data['vacina'].replace(['2 - CHADOX1NCOV-19 - OXFORD/ASTRAZENECA (FIOCRUZ)',\n",
    "                                         ' CHADOX1NCOV-19 - OXFORD/ASTRAZENECA (FIOCRUZ)'],\n",
    "                                        \n",
    "                                        'CHADOX1NCOV-19')"
   ]
  },
  {
   "cell_type": "code",
   "execution_count": 9,
   "id": "608973e0",
   "metadata": {},
   "outputs": [],
   "source": [
    "data['vacina'] = data['vacina'].replace(['3 - COMIRNATY (PFIZER)'], 'COMIRNATY')"
   ]
  },
  {
   "cell_type": "code",
   "execution_count": 10,
   "id": "363d3bb4",
   "metadata": {},
   "outputs": [
    {
     "data": {
      "text/plain": [
       "array(['CORONAVAC', 'CHADOX1NCOV-19', 'COMIRNATY'], dtype=object)"
      ]
     },
     "execution_count": 10,
     "metadata": {},
     "output_type": "execute_result"
    }
   ],
   "source": [
    "data['vacina'].unique()"
   ]
  },
  {
   "cell_type": "markdown",
   "id": "2dee4305",
   "metadata": {},
   "source": [
    "### Renomeando os grupos para tornar mais fácil o uso:"
   ]
  },
  {
   "cell_type": "code",
   "execution_count": 11,
   "id": "ba58c84c",
   "metadata": {},
   "outputs": [
    {
     "data": {
      "text/plain": [
       "array(['TRABALHADORES DA SAÚDE', 'IDOSOS', 'OUTRAS PRIORIDADES',\n",
       "       'PESSOAS COM COMORBIDADES', 'TRABALHADORES DA EDUCAÇÃO',\n",
       "       'GESTANTES E PUÉRPERAS',\n",
       "       'GESTANTES E PUÉRPERAS NÃO RESIDENTES EM RECIFE'], dtype=object)"
      ]
     },
     "execution_count": 11,
     "metadata": {},
     "output_type": "execute_result"
    }
   ],
   "source": [
    "data['grupo'].unique()"
   ]
  },
  {
   "cell_type": "code",
   "execution_count": 12,
   "id": "27c754a5",
   "metadata": {},
   "outputs": [],
   "source": [
    "data['grupo'] = data['grupo'].replace(['PESSOAS COM COMORBIDADES'], 'COMORBIDADES')"
   ]
  },
  {
   "cell_type": "code",
   "execution_count": 13,
   "id": "9ed24971",
   "metadata": {},
   "outputs": [],
   "source": [
    "data['grupo'] = data['grupo'].replace(['TRABALHADORES DA SAÃDE'], 'SAÚDE')"
   ]
  },
  {
   "cell_type": "code",
   "execution_count": 14,
   "id": "6f981e4d",
   "metadata": {},
   "outputs": [],
   "source": [
    "data['grupo'] = data['grupo'].replace(['OUTRAS PRIORIDADES'], 'OUTROS')"
   ]
  },
  {
   "cell_type": "code",
   "execution_count": 15,
   "id": "560bf14f",
   "metadata": {},
   "outputs": [],
   "source": [
    "data['grupo'] = data['grupo'].replace(['TRABALHADORES DA EDUCAÃ\\x87Ã\\x83O'], 'EDUCAÇÃO')"
   ]
  },
  {
   "cell_type": "code",
   "execution_count": 16,
   "id": "460692e2",
   "metadata": {},
   "outputs": [],
   "source": [
    "data['grupo'] = data['grupo'].replace(['GRÃ\\x81VIDAS E PUÃ\\x89RPERAS',\n",
    "                                       'GESTANTES E PUÃ\\x89RPERAS NÃ\\x83O RESIDENTES EM RECIFE',\n",
    "                                       'GESTANTES E PUÃ\\x89RPERAS'],\n",
    "                                      \n",
    "                                      'GRÁVIDAS E PUÉRPERAS')"
   ]
  },
  {
   "cell_type": "code",
   "execution_count": 17,
   "id": "437b6b0c",
   "metadata": {},
   "outputs": [
    {
     "data": {
      "text/plain": [
       "array(['TRABALHADORES DA SAÚDE', 'IDOSOS', 'OUTROS', 'COMORBIDADES',\n",
       "       'TRABALHADORES DA EDUCAÇÃO', 'GESTANTES E PUÉRPERAS',\n",
       "       'GESTANTES E PUÉRPERAS NÃO RESIDENTES EM RECIFE'], dtype=object)"
      ]
     },
     "execution_count": 17,
     "metadata": {},
     "output_type": "execute_result"
    }
   ],
   "source": [
    "data['grupo'].unique()"
   ]
  },
  {
   "cell_type": "code",
   "execution_count": 18,
   "id": "bbfeea6f",
   "metadata": {},
   "outputs": [
    {
     "data": {
      "text/html": [
       "<div>\n",
       "<style scoped>\n",
       "    .dataframe tbody tr th:only-of-type {\n",
       "        vertical-align: middle;\n",
       "    }\n",
       "\n",
       "    .dataframe tbody tr th {\n",
       "        vertical-align: top;\n",
       "    }\n",
       "\n",
       "    .dataframe thead th {\n",
       "        text-align: right;\n",
       "    }\n",
       "</style>\n",
       "<table border=\"1\" class=\"dataframe\">\n",
       "  <thead>\n",
       "    <tr style=\"text-align: right;\">\n",
       "      <th></th>\n",
       "      <th>cpf</th>\n",
       "      <th>grupo</th>\n",
       "      <th>vacina</th>\n",
       "      <th>dose</th>\n",
       "      <th>data_vacinacao</th>\n",
       "    </tr>\n",
       "  </thead>\n",
       "  <tbody>\n",
       "    <tr>\n",
       "      <th>0</th>\n",
       "      <td>***.457.304-**</td>\n",
       "      <td>TRABALHADORES DA SAÚDE</td>\n",
       "      <td>CORONAVAC</td>\n",
       "      <td>2</td>\n",
       "      <td>03/04/2021</td>\n",
       "    </tr>\n",
       "    <tr>\n",
       "      <th>1</th>\n",
       "      <td>***.457.304-**</td>\n",
       "      <td>TRABALHADORES DA SAÚDE</td>\n",
       "      <td>CORONAVAC</td>\n",
       "      <td>1</td>\n",
       "      <td>13/03/2021</td>\n",
       "    </tr>\n",
       "    <tr>\n",
       "      <th>2</th>\n",
       "      <td>***.556.154-**</td>\n",
       "      <td>IDOSOS</td>\n",
       "      <td>CORONAVAC</td>\n",
       "      <td>2</td>\n",
       "      <td>01/04/2021</td>\n",
       "    </tr>\n",
       "    <tr>\n",
       "      <th>3</th>\n",
       "      <td>***.556.154-**</td>\n",
       "      <td>IDOSOS</td>\n",
       "      <td>CORONAVAC</td>\n",
       "      <td>1</td>\n",
       "      <td>04/03/2021</td>\n",
       "    </tr>\n",
       "    <tr>\n",
       "      <th>4</th>\n",
       "      <td>***.886.964-**</td>\n",
       "      <td>TRABALHADORES DA SAÚDE</td>\n",
       "      <td>CORONAVAC</td>\n",
       "      <td>2</td>\n",
       "      <td>04/03/2021</td>\n",
       "    </tr>\n",
       "  </tbody>\n",
       "</table>\n",
       "</div>"
      ],
      "text/plain": [
       "              cpf                   grupo     vacina  dose data_vacinacao\n",
       "0  ***.457.304-**  TRABALHADORES DA SAÚDE  CORONAVAC     2     03/04/2021\n",
       "1  ***.457.304-**  TRABALHADORES DA SAÚDE  CORONAVAC     1     13/03/2021\n",
       "2  ***.556.154-**                  IDOSOS  CORONAVAC     2     01/04/2021\n",
       "3  ***.556.154-**                  IDOSOS  CORONAVAC     1     04/03/2021\n",
       "4  ***.886.964-**  TRABALHADORES DA SAÚDE  CORONAVAC     2     04/03/2021"
      ]
     },
     "execution_count": 18,
     "metadata": {},
     "output_type": "execute_result"
    }
   ],
   "source": [
    "data.head()"
   ]
  },
  {
   "cell_type": "markdown",
   "id": "0e0aff79",
   "metadata": {},
   "source": [
    "# Estatística Descritiva da Vacinação"
   ]
  },
  {
   "cell_type": "code",
   "execution_count": 19,
   "id": "aaf2e5fd",
   "metadata": {},
   "outputs": [],
   "source": [
    "import matplotlib.pyplot as plt\n",
    "import seaborn as sns"
   ]
  },
  {
   "cell_type": "markdown",
   "id": "c012ba90",
   "metadata": {},
   "source": [
    "### Histograma com a proporção das doses aplicadas:"
   ]
  },
  {
   "cell_type": "code",
   "execution_count": 20,
   "id": "3a6893eb",
   "metadata": {},
   "outputs": [
    {
     "data": {
      "text/html": [
       "<div>\n",
       "<style scoped>\n",
       "    .dataframe tbody tr th:only-of-type {\n",
       "        vertical-align: middle;\n",
       "    }\n",
       "\n",
       "    .dataframe tbody tr th {\n",
       "        vertical-align: top;\n",
       "    }\n",
       "\n",
       "    .dataframe thead th {\n",
       "        text-align: right;\n",
       "    }\n",
       "</style>\n",
       "<table border=\"1\" class=\"dataframe\">\n",
       "  <thead>\n",
       "    <tr style=\"text-align: right;\">\n",
       "      <th></th>\n",
       "      <th>dose</th>\n",
       "      <th>proporção</th>\n",
       "    </tr>\n",
       "  </thead>\n",
       "  <tbody>\n",
       "    <tr>\n",
       "      <th>0</th>\n",
       "      <td>1</td>\n",
       "      <td>0.648749</td>\n",
       "    </tr>\n",
       "    <tr>\n",
       "      <th>1</th>\n",
       "      <td>2</td>\n",
       "      <td>0.351251</td>\n",
       "    </tr>\n",
       "  </tbody>\n",
       "</table>\n",
       "</div>"
      ],
      "text/plain": [
       "   dose  proporção\n",
       "0     1   0.648749\n",
       "1     2   0.351251"
      ]
     },
     "execution_count": 20,
     "metadata": {},
     "output_type": "execute_result"
    }
   ],
   "source": [
    "doses_proportion = data['dose'].value_counts(normalize= True).reset_index()\n",
    "doses_proportion.columns = ['dose', 'proporção']\n",
    "doses_proportion"
   ]
  },
  {
   "cell_type": "code",
   "execution_count": 21,
   "id": "0a7e3bbc",
   "metadata": {},
   "outputs": [
    {
     "data": {
      "image/png": "[encoded data removed]",
      "text/plain": [
       "<Figure size 1008x504 with 1 Axes>"
      ]
     },
     "metadata": {
      "needs_background": "light"
     },
     "output_type": "display_data"
    }
   ],
   "source": [
    "# figure config\n",
    "fig, ax = plt.subplots(figsize= (14, 7))\n",
    "sns.set_style('darkgrid')\n",
    "sns.set_palette(sns.color_palette('husl', 2))\n",
    "\n",
    "sns.barplot(x= 'dose', y= 'proporção', data= doses_proportion, ax= ax)\n",
    "\n",
    "plt.title('Proporção do Número de Doses', fontsize= 20)\n",
    "plt.xlabel('Dose', fontsize= 15)\n",
    "plt.ylabel('Proporção', fontsize= 15)\n",
    "\n",
    "# percentages at the top of histograms\n",
    "for index, row in doses_proportion.iterrows():\n",
    "    ax.text(index, row['proporção'], \"{:.2%}\".format(row['proporção']), color= 'black', ha= \"center\", fontsize= 16)\n",
    "\n",
    "plt.show()"
   ]
  },
  {
   "cell_type": "markdown",
   "id": "7b0044bd",
   "metadata": {},
   "source": [
    "### Possível interpretação: infere-se que a quantidade das primeiras doses é maior devido à diminuição da taxa de vacinação no mês de maio por falta de vacinas."
   ]
  },
  {
   "cell_type": "code",
   "execution_count": 22,
   "id": "c6811e63",
   "metadata": {},
   "outputs": [
    {
     "data": {
      "text/html": [
       "<div>\n",
       "<style scoped>\n",
       "    .dataframe tbody tr th:only-of-type {\n",
       "        vertical-align: middle;\n",
       "    }\n",
       "\n",
       "    .dataframe tbody tr th {\n",
       "        vertical-align: top;\n",
       "    }\n",
       "\n",
       "    .dataframe thead th {\n",
       "        text-align: right;\n",
       "    }\n",
       "</style>\n",
       "<table border=\"1\" class=\"dataframe\">\n",
       "  <thead>\n",
       "    <tr style=\"text-align: right;\">\n",
       "      <th></th>\n",
       "      <th>dose</th>\n",
       "      <th>frequência</th>\n",
       "    </tr>\n",
       "  </thead>\n",
       "  <tbody>\n",
       "    <tr>\n",
       "      <th>0</th>\n",
       "      <td>1</td>\n",
       "      <td>387320</td>\n",
       "    </tr>\n",
       "    <tr>\n",
       "      <th>1</th>\n",
       "      <td>2</td>\n",
       "      <td>209706</td>\n",
       "    </tr>\n",
       "  </tbody>\n",
       "</table>\n",
       "</div>"
      ],
      "text/plain": [
       "   dose  frequência\n",
       "0     1      387320\n",
       "1     2      209706"
      ]
     },
     "execution_count": 22,
     "metadata": {},
     "output_type": "execute_result"
    }
   ],
   "source": [
    "doses_frequency = data[\"dose\"].value_counts().reset_index()\n",
    "doses_frequency.columns = [\"dose\", \"frequência\"]\n",
    "doses_frequency.head()"
   ]
  },
  {
   "cell_type": "code",
   "execution_count": 23,
   "id": "71130fc6",
   "metadata": {},
   "outputs": [
    {
     "data": {
      "image/png": "[encoded data removed]",
      "text/plain": [
       "<Figure size 720x504 with 1 Axes>"
      ]
     },
     "metadata": {},
     "output_type": "display_data"
    }
   ],
   "source": [
    "fig, axis = plt.subplots(figsize = (10, 7))\n",
    "sns.set_style(\"darkgrid\")\n",
    "sns.set_palette(sns.color_palette(\"pastel\", 2))\n",
    "\n",
    "sns.barplot(x = \"dose\", y = \"frequência\", data = doses_frequency, ax = axis)\n",
    "\n",
    "plt.title(\"Frequência de Doses Aplicadas\", fontsize = 20)\n",
    "plt.xlabel(\"Dose\", fontsize = 15)\n",
    "plt.ylabel(\"Frequência\", fontsize = 15)\n",
    "\n",
    "for index, row in doses_frequency.iterrows():\n",
    "    axis.text(index, row[\"frequência\"], \"{}\".format(row[\"frequência\"]), color = \"black\", ha = \"center\", fontsize = 15)\n",
    "\n",
    "plt.show()"
   ]
  },
  {
   "cell_type": "markdown",
   "id": "fcfdb000",
   "metadata": {},
   "source": [
    "### Valores absolutos das doses aplicadas até hoje (19/05/2021)."
   ]
  },
  {
   "cell_type": "markdown",
   "id": "524dc476",
   "metadata": {},
   "source": [
    "### Histograma com a proporção das vacinas usadas:"
   ]
  },
  {
   "cell_type": "code",
   "execution_count": 24,
   "id": "15640690",
   "metadata": {},
   "outputs": [
    {
     "data": {
      "text/html": [
       "<div>\n",
       "<style scoped>\n",
       "    .dataframe tbody tr th:only-of-type {\n",
       "        vertical-align: middle;\n",
       "    }\n",
       "\n",
       "    .dataframe tbody tr th {\n",
       "        vertical-align: top;\n",
       "    }\n",
       "\n",
       "    .dataframe thead th {\n",
       "        text-align: right;\n",
       "    }\n",
       "</style>\n",
       "<table border=\"1\" class=\"dataframe\">\n",
       "  <thead>\n",
       "    <tr style=\"text-align: right;\">\n",
       "      <th></th>\n",
       "      <th>vacina</th>\n",
       "      <th>proporção</th>\n",
       "    </tr>\n",
       "  </thead>\n",
       "  <tbody>\n",
       "    <tr>\n",
       "      <th>0</th>\n",
       "      <td>CORONAVAC</td>\n",
       "      <td>0.678302</td>\n",
       "    </tr>\n",
       "    <tr>\n",
       "      <th>1</th>\n",
       "      <td>CHADOX1NCOV-19</td>\n",
       "      <td>0.297511</td>\n",
       "    </tr>\n",
       "    <tr>\n",
       "      <th>2</th>\n",
       "      <td>COMIRNATY</td>\n",
       "      <td>0.024187</td>\n",
       "    </tr>\n",
       "  </tbody>\n",
       "</table>\n",
       "</div>"
      ],
      "text/plain": [
       "           vacina  proporção\n",
       "0       CORONAVAC   0.678302\n",
       "1  CHADOX1NCOV-19   0.297511\n",
       "2       COMIRNATY   0.024187"
      ]
     },
     "execution_count": 24,
     "metadata": {},
     "output_type": "execute_result"
    }
   ],
   "source": [
    "vaccines_proportion = data['vacina'].value_counts(normalize= True).reset_index()\n",
    "vaccines_proportion.columns = ['vacina', 'proporção']\n",
    "vaccines_proportion"
   ]
  },
  {
   "cell_type": "code",
   "execution_count": 25,
   "id": "221b9875",
   "metadata": {},
   "outputs": [
    {
     "data": {
      "image/png": "[encoded data removed]",
      "text/plain": [
       "<Figure size 936x504 with 1 Axes>"
      ]
     },
     "metadata": {},
     "output_type": "display_data"
    }
   ],
   "source": [
    "fig, ax = plt.subplots(figsize=(13, 7)) \n",
    "sns.set_style('darkgrid')\n",
    "sns.set_palette(sns.color_palette('pastel', 3))\n",
    "\n",
    "sns.barplot(x= 'vacina', y= 'proporção', data= vaccines_proportion, ax= ax)\n",
    "\n",
    "plt.title('Proporção do Número de Vacinas Aplicadas', fontsize= 20)\n",
    "plt.xlabel('Vacina', fontsize= 15)\n",
    "plt.ylabel('Proporção', fontsize= 15)\n",
    "\n",
    "for index, row in vaccines_proportion.iterrows():\n",
    "    ax.text(index, row['proporção'], \"{:.1%}\".format(row['proporção']), color= 'black', ha= \"center\", fontsize= 16)\n",
    "\n",
    "plt.show()"
   ]
  },
  {
   "cell_type": "code",
   "execution_count": 26,
   "id": "d0e239d7",
   "metadata": {},
   "outputs": [
    {
     "data": {
      "text/plain": [
       "404964"
      ]
     },
     "execution_count": 26,
     "metadata": {},
     "output_type": "execute_result"
    }
   ],
   "source": [
    "data[\"vacina\"].value_counts()[\"CORONAVAC\"]"
   ]
  },
  {
   "cell_type": "markdown",
   "id": "1e9dd210",
   "metadata": {},
   "source": [
    "## Possível interpretação: a alta adesão à vacina brasileira reforça o poder da pesquisa brasileira."
   ]
  },
  {
   "cell_type": "markdown",
   "id": "8b60b838",
   "metadata": {},
   "source": [
    "### Histograma com a proporção dos grupos vacinados:"
   ]
  },
  {
   "cell_type": "code",
   "execution_count": 27,
   "id": "b6f9ba55",
   "metadata": {},
   "outputs": [
    {
     "data": {
      "text/html": [
       "<div>\n",
       "<style scoped>\n",
       "    .dataframe tbody tr th:only-of-type {\n",
       "        vertical-align: middle;\n",
       "    }\n",
       "\n",
       "    .dataframe tbody tr th {\n",
       "        vertical-align: top;\n",
       "    }\n",
       "\n",
       "    .dataframe thead th {\n",
       "        text-align: right;\n",
       "    }\n",
       "</style>\n",
       "<table border=\"1\" class=\"dataframe\">\n",
       "  <thead>\n",
       "    <tr style=\"text-align: right;\">\n",
       "      <th></th>\n",
       "      <th>grupo</th>\n",
       "      <th>proporção</th>\n",
       "    </tr>\n",
       "  </thead>\n",
       "  <tbody>\n",
       "    <tr>\n",
       "      <th>0</th>\n",
       "      <td>IDOSOS</td>\n",
       "      <td>0.696387</td>\n",
       "    </tr>\n",
       "    <tr>\n",
       "      <th>1</th>\n",
       "      <td>TRABALHADORES DA SAÚDE</td>\n",
       "      <td>0.243095</td>\n",
       "    </tr>\n",
       "    <tr>\n",
       "      <th>2</th>\n",
       "      <td>COMORBIDADES</td>\n",
       "      <td>0.025862</td>\n",
       "    </tr>\n",
       "  </tbody>\n",
       "</table>\n",
       "</div>"
      ],
      "text/plain": [
       "                    grupo  proporção\n",
       "0                  IDOSOS   0.696387\n",
       "1  TRABALHADORES DA SAÚDE   0.243095\n",
       "2            COMORBIDADES   0.025862"
      ]
     },
     "execution_count": 27,
     "metadata": {},
     "output_type": "execute_result"
    }
   ],
   "source": [
    "groups_proportion = data['grupo'].value_counts(normalize= True).reset_index()\n",
    "groups_proportion.columns = ['grupo', 'proporção']\n",
    "\n",
    "# groups absolutes are not equally spread, so lets check out the top 3\n",
    "groups_proportion = groups_proportion.nlargest(3, 'proporção')\n",
    "\n",
    "groups_proportion"
   ]
  },
  {
   "cell_type": "code",
   "execution_count": 28,
   "id": "85c16ad0",
   "metadata": {},
   "outputs": [
    {
     "data": {
      "image/png": "[encoded data removed]",
      "text/plain": [
       "<Figure size 936x504 with 1 Axes>"
      ]
     },
     "metadata": {},
     "output_type": "display_data"
    }
   ],
   "source": [
    "fig, ax = plt.subplots(figsize=(13, 7)) \n",
    "sns.set_style('darkgrid')\n",
    "sns.set_palette(sns.color_palette('hsv', 7))\n",
    "\n",
    "sns.barplot(x= 'grupo', y= 'proporção', data= groups_proportion, ax= ax)\n",
    "\n",
    "plt.title('Proporção dos Grupos Vacinados', fontsize= 20)\n",
    "plt.xlabel('Grupo', fontsize= 15)\n",
    "plt.ylabel('Proporção', fontsize= 15)\n",
    "\n",
    "for index, row in groups_proportion.iterrows():\n",
    "    ax.text(index, row['proporção'], \"{:.1%}\".format(row['proporção']), color= 'black', ha= \"center\", fontsize= 16)\n",
    "\n",
    "plt.show()"
   ]
  },
  {
   "cell_type": "markdown",
   "id": "e2754b5d",
   "metadata": {},
   "source": [
    "## Possível interpretação: minha conclusão é que os idosos são o grupo prioritário, mas note que o grupo dos profissionais de saúde vem em seguida e isso se deve à alta taxa de mortalidade também neste grupo."
   ]
  },
  {
   "cell_type": "markdown",
   "id": "ae0a26c6",
   "metadata": {},
   "source": [
    "# *Análise por Agrupamento*"
   ]
  },
  {
   "cell_type": "markdown",
   "id": "f3e47ae0",
   "metadata": {},
   "source": [
    "### Vacina mais usada em cada grupo:"
   ]
  },
  {
   "cell_type": "code",
   "execution_count": 29,
   "id": "3722999f",
   "metadata": {},
   "outputs": [
    {
     "data": {
      "text/plain": [
       "grupo\n",
       "COMORBIDADES                                      CHADOX1NCOV-19\n",
       "GESTANTES E PUÉRPERAS                                  COMIRNATY\n",
       "GESTANTES E PUÉRPERAS NÃO RESIDENTES EM RECIFE         COMIRNATY\n",
       "IDOSOS                                                 CORONAVAC\n",
       "OUTROS                                                 CORONAVAC\n",
       "TRABALHADORES DA EDUCAÇÃO                         CHADOX1NCOV-19\n",
       "TRABALHADORES DA SAÚDE                                 CORONAVAC\n",
       "dtype: object"
      ]
     },
     "execution_count": 29,
     "metadata": {},
     "output_type": "execute_result"
    }
   ],
   "source": [
    "data.groupby('grupo').apply(lambda df: df['vacina'].value_counts().idxmax())"
   ]
  },
  {
   "cell_type": "markdown",
   "id": "a038ba27",
   "metadata": {},
   "source": [
    "### Média de doses tomadas em cada grupo:"
   ]
  },
  {
   "cell_type": "code",
   "execution_count": 30,
   "id": "99d48964",
   "metadata": {},
   "outputs": [
    {
     "data": {
      "text/plain": [
       "grupo\n",
       "COMORBIDADES                                      1.000000\n",
       "GESTANTES E PUÉRPERAS                             1.000000\n",
       "GESTANTES E PUÉRPERAS NÃO RESIDENTES EM RECIFE    1.000000\n",
       "IDOSOS                                            1.366598\n",
       "OUTROS                                            1.202782\n",
       "TRABALHADORES DA EDUCAÇÃO                         1.000000\n",
       "TRABALHADORES DA SAÚDE                            1.391617\n",
       "dtype: float64"
      ]
     },
     "execution_count": 30,
     "metadata": {},
     "output_type": "execute_result"
    }
   ],
   "source": [
    "data.groupby('grupo').apply(lambda df: df['dose'].mean())"
   ]
  },
  {
   "cell_type": "markdown",
   "id": "c0031545",
   "metadata": {},
   "source": [
    "### Quantidade de cada tipo de vacina aplicada em cada grupo:"
   ]
  },
  {
   "cell_type": "code",
   "execution_count": 31,
   "id": "446e312f",
   "metadata": {},
   "outputs": [
    {
     "data": {
      "text/plain": [
       "grupo                                           vacina        \n",
       "COMORBIDADES                                    CHADOX1NCOV-19      8071\n",
       "                                                COMIRNATY           7356\n",
       "                                                CORONAVAC             13\n",
       "GESTANTES E PUÉRPERAS                           CHADOX1NCOV-19         4\n",
       "                                                COMIRNATY           5462\n",
       "                                                CORONAVAC              1\n",
       "GESTANTES E PUÉRPERAS NÃO RESIDENTES EM RECIFE  COMIRNATY             93\n",
       "IDOSOS                                          CHADOX1NCOV-19    127318\n",
       "                                                COMIRNATY            175\n",
       "                                                CORONAVAC         288268\n",
       "OUTROS                                          CHADOX1NCOV-19       396\n",
       "                                                COMIRNATY            899\n",
       "                                                CORONAVAC            934\n",
       "TRABALHADORES DA EDUCAÇÃO                       CHADOX1NCOV-19     12763\n",
       "                                                COMIRNATY            126\n",
       "                                                CORONAVAC             13\n",
       "TRABALHADORES DA SAÚDE                          CHADOX1NCOV-19     29070\n",
       "                                                COMIRNATY            329\n",
       "                                                CORONAVAC         115735\n",
       "dtype: int64"
      ]
     },
     "execution_count": 31,
     "metadata": {},
     "output_type": "execute_result"
    }
   ],
   "source": [
    "data.groupby(['grupo', 'vacina']).size()"
   ]
  },
  {
   "cell_type": "code",
   "execution_count": null,
   "id": "12671e56",
   "metadata": {},
   "outputs": [],
   "source": []
  }
 ],
 "metadata": {
  "kernelspec": {
   "display_name": "Python 3 (ipykernel)",
   "language": "python",
   "name": "python3"
  },
  "language_info": {
   "codemirror_mode": {
    "name": "ipython",
    "version": 3
   },
   "file_extension": ".py",
   "mimetype": "text/x-python",
   "name": "python",
   "nbconvert_exporter": "python",
   "pygments_lexer": "ipython3",
   "version": "3.8.10"
  }
 },
 "nbformat": 4,
 "nbformat_minor": 5
}
