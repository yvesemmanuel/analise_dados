{
 "cells": [
  {
   "cell_type": "markdown",
   "id": "5ee6e731",
   "metadata": {},
   "source": [
    "# Analysis of Recife Vaccination Data"
   ]
  },
  {
   "cell_type": "code",
   "execution_count": 1,
   "id": "26518b03",
   "metadata": {},
   "outputs": [],
   "source": [
    "import pandas as pd"
   ]
  },
  {
   "cell_type": "code",
   "execution_count": 2,
   "id": "67e05c5f",
   "metadata": {},
   "outputs": [],
   "source": [
    "raw_data = pd.read_csv(\"vacinados - september 7.csv\", sep = \";\")"
   ]
  },
  {
   "cell_type": "code",
   "execution_count": 3,
   "id": "38ea8124",
   "metadata": {},
   "outputs": [
    {
     "data": {
      "text/html": [
       "<div>\n",
       "<style scoped>\n",
       "    .dataframe tbody tr th:only-of-type {\n",
       "        vertical-align: middle;\n",
       "    }\n",
       "\n",
       "    .dataframe tbody tr th {\n",
       "        vertical-align: top;\n",
       "    }\n",
       "\n",
       "    .dataframe thead th {\n",
       "        text-align: right;\n",
       "    }\n",
       "</style>\n",
       "<table border=\"1\" class=\"dataframe\">\n",
       "  <thead>\n",
       "    <tr style=\"text-align: right;\">\n",
       "      <th></th>\n",
       "      <th>cpf</th>\n",
       "      <th>nome</th>\n",
       "      <th>sexo</th>\n",
       "      <th>grupo</th>\n",
       "      <th>vacina</th>\n",
       "      <th>lote</th>\n",
       "      <th>dose</th>\n",
       "      <th>data_vacinacao</th>\n",
       "      <th>local_vacinacao</th>\n",
       "    </tr>\n",
       "  </thead>\n",
       "  <tbody>\n",
       "    <tr>\n",
       "      <th>0</th>\n",
       "      <td>***.574.544-**</td>\n",
       "      <td>AABAN VASCONCELOS ZYZZYAG</td>\n",
       "      <td>MASCULINO</td>\n",
       "      <td>TRABALHADORES INDUSTRIAIS E BANCÁRIOS</td>\n",
       "      <td>2 - CHADOX1NCOV-19 - OXFORD/ASTRAZENECA (FIOCRUZ)</td>\n",
       "      <td>216VCD206Z</td>\n",
       "      <td>1</td>\n",
       "      <td>26/07/2021</td>\n",
       "      <td>DRIVE THRU PARQUE DE EXPOSIÇÃO</td>\n",
       "    </tr>\n",
       "    <tr>\n",
       "      <th>1</th>\n",
       "      <td>***.886.964-**</td>\n",
       "      <td>AAMANDA MARIA FREIRE DA SILVA</td>\n",
       "      <td>FEMININO</td>\n",
       "      <td>TRABALHADORES DA SAÚDE</td>\n",
       "      <td>1 - CORONAVAC - SINOVAC (BUTANTAN)</td>\n",
       "      <td>210043</td>\n",
       "      <td>2</td>\n",
       "      <td>04/03/2021</td>\n",
       "      <td>CENTRO DE VACINAÇÃO PARQUE DE EXPOSIÇÃO</td>\n",
       "    </tr>\n",
       "    <tr>\n",
       "      <th>2</th>\n",
       "      <td>***.886.964-**</td>\n",
       "      <td>AAMANDA MARIA FREIRE DA SILVA</td>\n",
       "      <td>FEMININO</td>\n",
       "      <td>TRABALHADORES DA SAÚDE</td>\n",
       "      <td>1 - CORONAVAC - SINOVAC (BUTANTAN)</td>\n",
       "      <td>210016</td>\n",
       "      <td>1</td>\n",
       "      <td>11/02/2021</td>\n",
       "      <td>CENTRO DE VACINAÇÃO COMPAZ MIGUEL ARRAES</td>\n",
       "    </tr>\n",
       "    <tr>\n",
       "      <th>3</th>\n",
       "      <td>***.405.524-**</td>\n",
       "      <td>AANA MAYARA DA SILVA DE OLIVEIRA</td>\n",
       "      <td>FEMININO</td>\n",
       "      <td>PÚBLICO EM GERAL (18 a 59 anos)</td>\n",
       "      <td>3 - COMIRNATY (PFIZER)</td>\n",
       "      <td>FD7209</td>\n",
       "      <td>1</td>\n",
       "      <td>21/08/2021</td>\n",
       "      <td>CENTRO DE VACINAÇÃO PORTO DIGITAL</td>\n",
       "    </tr>\n",
       "    <tr>\n",
       "      <th>4</th>\n",
       "      <td>***.695.200-**</td>\n",
       "      <td>AANTONIO DE MELO LIMA</td>\n",
       "      <td>MASCULINO</td>\n",
       "      <td>IDOSOS</td>\n",
       "      <td>1 - CORONAVAC - SINOVAC (BUTANTAN)</td>\n",
       "      <td>210093</td>\n",
       "      <td>2</td>\n",
       "      <td>31/03/2021</td>\n",
       "      <td>CENTRO DE VACINAÇÃO  COMPAZ ARIANO SUASSUNA</td>\n",
       "    </tr>\n",
       "  </tbody>\n",
       "</table>\n",
       "</div>"
      ],
      "text/plain": [
       "              cpf                              nome       sexo  \\\n",
       "0  ***.574.544-**         AABAN VASCONCELOS ZYZZYAG  MASCULINO   \n",
       "1  ***.886.964-**     AAMANDA MARIA FREIRE DA SILVA   FEMININO   \n",
       "2  ***.886.964-**     AAMANDA MARIA FREIRE DA SILVA   FEMININO   \n",
       "3  ***.405.524-**  AANA MAYARA DA SILVA DE OLIVEIRA   FEMININO   \n",
       "4  ***.695.200-**             AANTONIO DE MELO LIMA  MASCULINO   \n",
       "\n",
       "                                   grupo  \\\n",
       "0  TRABALHADORES INDUSTRIAIS E BANCÁRIOS   \n",
       "1                 TRABALHADORES DA SAÚDE   \n",
       "2                 TRABALHADORES DA SAÚDE   \n",
       "3        PÚBLICO EM GERAL (18 a 59 anos)   \n",
       "4                                 IDOSOS   \n",
       "\n",
       "                                              vacina        lote  dose  \\\n",
       "0  2 - CHADOX1NCOV-19 - OXFORD/ASTRAZENECA (FIOCRUZ)  216VCD206Z     1   \n",
       "1                 1 - CORONAVAC - SINOVAC (BUTANTAN)      210043     2   \n",
       "2                 1 - CORONAVAC - SINOVAC (BUTANTAN)      210016     1   \n",
       "3                             3 - COMIRNATY (PFIZER)      FD7209     1   \n",
       "4                 1 - CORONAVAC - SINOVAC (BUTANTAN)      210093     2   \n",
       "\n",
       "  data_vacinacao                              local_vacinacao  \n",
       "0     26/07/2021               DRIVE THRU PARQUE DE EXPOSIÇÃO  \n",
       "1     04/03/2021      CENTRO DE VACINAÇÃO PARQUE DE EXPOSIÇÃO  \n",
       "2     11/02/2021     CENTRO DE VACINAÇÃO COMPAZ MIGUEL ARRAES  \n",
       "3     21/08/2021            CENTRO DE VACINAÇÃO PORTO DIGITAL  \n",
       "4     31/03/2021  CENTRO DE VACINAÇÃO  COMPAZ ARIANO SUASSUNA  "
      ]
     },
     "execution_count": 3,
     "metadata": {},
     "output_type": "execute_result"
    }
   ],
   "source": [
    "raw_data.head()"
   ]
  },
  {
   "cell_type": "markdown",
   "id": "e92001c0",
   "metadata": {},
   "source": [
    "### I noticed a new class named \"sexo\"."
   ]
  },
  {
   "cell_type": "markdown",
   "id": "204399e0",
   "metadata": {},
   "source": [
    "# data handling"
   ]
  },
  {
   "cell_type": "markdown",
   "id": "6a723a6c",
   "metadata": {},
   "source": [
    "### filtering columns:"
   ]
  },
  {
   "cell_type": "code",
   "execution_count": 4,
   "id": "cb609cc3",
   "metadata": {},
   "outputs": [
    {
     "data": {
      "text/plain": [
       "Index(['cpf', 'nome', 'sexo', 'grupo', 'vacina', 'lote', 'dose',\n",
       "       'data_vacinacao', 'local_vacinacao'],\n",
       "      dtype='object')"
      ]
     },
     "execution_count": 4,
     "metadata": {},
     "output_type": "execute_result"
    }
   ],
   "source": [
    "raw_data.columns"
   ]
  },
  {
   "cell_type": "code",
   "execution_count": 5,
   "id": "f787d4a5",
   "metadata": {},
   "outputs": [
    {
     "data": {
      "text/html": [
       "<div>\n",
       "<style scoped>\n",
       "    .dataframe tbody tr th:only-of-type {\n",
       "        vertical-align: middle;\n",
       "    }\n",
       "\n",
       "    .dataframe tbody tr th {\n",
       "        vertical-align: top;\n",
       "    }\n",
       "\n",
       "    .dataframe thead th {\n",
       "        text-align: right;\n",
       "    }\n",
       "</style>\n",
       "<table border=\"1\" class=\"dataframe\">\n",
       "  <thead>\n",
       "    <tr style=\"text-align: right;\">\n",
       "      <th></th>\n",
       "      <th>cpf</th>\n",
       "      <th>grupo</th>\n",
       "      <th>vacina</th>\n",
       "      <th>dose</th>\n",
       "      <th>data_vacinacao</th>\n",
       "      <th>sexo</th>\n",
       "    </tr>\n",
       "  </thead>\n",
       "  <tbody>\n",
       "    <tr>\n",
       "      <th>0</th>\n",
       "      <td>***.574.544-**</td>\n",
       "      <td>TRABALHADORES INDUSTRIAIS E BANCÁRIOS</td>\n",
       "      <td>2 - CHADOX1NCOV-19 - OXFORD/ASTRAZENECA (FIOCRUZ)</td>\n",
       "      <td>1</td>\n",
       "      <td>26/07/2021</td>\n",
       "      <td>MASCULINO</td>\n",
       "    </tr>\n",
       "    <tr>\n",
       "      <th>1</th>\n",
       "      <td>***.886.964-**</td>\n",
       "      <td>TRABALHADORES DA SAÚDE</td>\n",
       "      <td>1 - CORONAVAC - SINOVAC (BUTANTAN)</td>\n",
       "      <td>2</td>\n",
       "      <td>04/03/2021</td>\n",
       "      <td>FEMININO</td>\n",
       "    </tr>\n",
       "    <tr>\n",
       "      <th>2</th>\n",
       "      <td>***.886.964-**</td>\n",
       "      <td>TRABALHADORES DA SAÚDE</td>\n",
       "      <td>1 - CORONAVAC - SINOVAC (BUTANTAN)</td>\n",
       "      <td>1</td>\n",
       "      <td>11/02/2021</td>\n",
       "      <td>FEMININO</td>\n",
       "    </tr>\n",
       "  </tbody>\n",
       "</table>\n",
       "</div>"
      ],
      "text/plain": [
       "              cpf                                  grupo  \\\n",
       "0  ***.574.544-**  TRABALHADORES INDUSTRIAIS E BANCÁRIOS   \n",
       "1  ***.886.964-**                 TRABALHADORES DA SAÚDE   \n",
       "2  ***.886.964-**                 TRABALHADORES DA SAÚDE   \n",
       "\n",
       "                                              vacina  dose data_vacinacao  \\\n",
       "0  2 - CHADOX1NCOV-19 - OXFORD/ASTRAZENECA (FIOCRUZ)     1     26/07/2021   \n",
       "1                 1 - CORONAVAC - SINOVAC (BUTANTAN)     2     04/03/2021   \n",
       "2                 1 - CORONAVAC - SINOVAC (BUTANTAN)     1     11/02/2021   \n",
       "\n",
       "        sexo  \n",
       "0  MASCULINO  \n",
       "1   FEMININO  \n",
       "2   FEMININO  "
      ]
     },
     "execution_count": 5,
     "metadata": {},
     "output_type": "execute_result"
    }
   ],
   "source": [
    "data = raw_data.loc[:, [\"cpf\", \"grupo\", \"vacina\", \"dose\", \"data_vacinacao\", \"sexo\"]]\n",
    "data.head(3)"
   ]
  },
  {
   "cell_type": "markdown",
   "id": "408af1fb",
   "metadata": {},
   "source": [
    "### renaming vaccines:"
   ]
  },
  {
   "cell_type": "code",
   "execution_count": 6,
   "id": "d57f64e0",
   "metadata": {},
   "outputs": [
    {
     "data": {
      "text/plain": [
       "array(['2 - CHADOX1NCOV-19 - OXFORD/ASTRAZENECA (FIOCRUZ)',\n",
       "       '1 - CORONAVAC - SINOVAC (BUTANTAN)', '3 - COMIRNATY (PFIZER)',\n",
       "       '4 - JANSSEN COVID-19 VACCINE (JOHNSON & JOHNSON)'], dtype=object)"
      ]
     },
     "execution_count": 6,
     "metadata": {},
     "output_type": "execute_result"
    }
   ],
   "source": [
    "data[\"vacina\"].unique()"
   ]
  },
  {
   "cell_type": "markdown",
   "id": "ead39081",
   "metadata": {},
   "source": [
    "### I noticed a new vaccine called \"Janssen\"."
   ]
  },
  {
   "cell_type": "code",
   "execution_count": 7,
   "id": "661e6275",
   "metadata": {},
   "outputs": [],
   "source": [
    "data[\"vacina\"] = data[\"vacina\"].replace([\"1- CORONAVAC - SINOVAC (BUTANTAN)\", \"1 - CORONAVAC - SINOVAC (BUTANTAN)\"], \"CORONAVAC\")"
   ]
  },
  {
   "cell_type": "code",
   "execution_count": 8,
   "id": "cd23fb46",
   "metadata": {},
   "outputs": [],
   "source": [
    "data[\"vacina\"] = data[\"vacina\"].replace([\"2 - CHADOX1NCOV-19 - OXFORD/ASTRAZENECA (FIOCRUZ)\",\n",
    "                                         \"3 - COMIRNATY (PFIZER)\", \"4 - JANSSEN COVID-19 VACCINE (JOHNSON & JOHNSON)\"],\n",
    "                                       \n",
    "                                       [\"CHADOX1NCOV-19\", \"COMIRNATY\", \"JANSSEN\"])"
   ]
  },
  {
   "cell_type": "code",
   "execution_count": 9,
   "id": "01d38347",
   "metadata": {},
   "outputs": [
    {
     "data": {
      "text/plain": [
       "array(['CHADOX1NCOV-19', 'CORONAVAC', 'COMIRNATY', 'JANSSEN'],\n",
       "      dtype=object)"
      ]
     },
     "execution_count": 9,
     "metadata": {},
     "output_type": "execute_result"
    }
   ],
   "source": [
    "data[\"vacina\"].unique()"
   ]
  },
  {
   "cell_type": "markdown",
   "id": "f0e67cc2",
   "metadata": {},
   "source": [
    "### renaming groups:"
   ]
  },
  {
   "cell_type": "code",
   "execution_count": 10,
   "id": "e1c0aea3",
   "metadata": {},
   "outputs": [
    {
     "data": {
      "text/plain": [
       "array(['TRABALHADORES INDUSTRIAIS E BANCÁRIOS', 'TRABALHADORES DA SAÚDE',\n",
       "       'PÚBLICO EM GERAL (18 a 59 anos)', 'IDOSOS',\n",
       "       'TRABALHADORES DA EDUCAÇÃO', 'PESSOAS COM COMORBIDADES',\n",
       "       'OUTRAS PRIORIDADES', 'CAMINHONEIROS',\n",
       "       ' PÚBLICO EM GERAL - MENOR DE 18 ANOS',\n",
       "       'TRABALHADORES DE TRANSPORTE COLETIVO RODOVIÁRIO',\n",
       "       'TRABALHADORES DE TRANSPORTE AÉREO', 'TRABALHADORES PORTUÁRIOS',\n",
       "       'TRABALHADORES DA LIMPEZA URBANA', 'PESSOAS EM SITUAÇÃO DE RUA',\n",
       "       'GESTANTES E PUÉRPERAS',\n",
       "       'TRABALHADORES DE TRANSPORTE METROVIÁRIO E FERROVIÁRIO',\n",
       "       'TRABALHADORES DA ASSISTÊNCIA SOCIAL',\n",
       "       'GESTANTES E PUÉRPERAS NÃO RESIDENTES EM RECIFE',\n",
       "       'PESSOAS COM DEFICIÊNCIA - 12 A 17 ANOS',\n",
       "       'GESTANTES E PUÉRPERAS - 12 A 17 ANOS',\n",
       "       'PESSOAS COM VIAGEM PARA EXTERIOR (ESTUDO/PESQUISA/TRABALHO/TRATAMENTO DE SAÚDE)',\n",
       "       'PESSOAS COM COMORBIDADES - 12 A 17 ANOS',\n",
       "       'TRABALHADORES DE TRANSPORTE AQUAVIÁRIO'], dtype=object)"
      ]
     },
     "execution_count": 10,
     "metadata": {},
     "output_type": "execute_result"
    }
   ],
   "source": [
    "data[\"grupo\"].unique()"
   ]
  },
  {
   "cell_type": "code",
   "execution_count": 11,
   "id": "cf1b1210",
   "metadata": {},
   "outputs": [],
   "source": [
    "data[\"grupo\"] = data[\"grupo\"].replace([\"TRABALHADORES INDUSTRIAIS E BANCÃ\\x81RIOS\", \"TRABALHADORES DA SAÃ\\x9aDE\",\n",
    "                                       \"PÃ\\x9aBLICO EM GERAL (18 a 59 anos)\", \"IDOSOS\",\n",
    "                                       \"TRABALHADORES DA EDUCAÃ\\x87Ã\\x83O\", \"PESSOAS COM COMORBIDADES\",\n",
    "                                       \"OUTRAS PRIORIDADES\", \"CAMINHONEIROS\",\n",
    "                                       \" PÃ\\x9aBLICO EM GERAL - MENOR DE 18 ANOS\",\n",
    "                                       \"TRABALHADORES DE TRANSPORTE COLETIVO RODOVIÃ\\x81RIO\",\n",
    "                                       \"TRABALHADORES DE TRANSPORTE AÃ\\x89REO\",\n",
    "                                       \"TRABALHADORES DA LIMPEZA URBANA\",\n",
    "                                       \"PESSOAS EM SITUAÃ\\x87Ã\\x83O DE RUA\", \"GESTANTES E PUÃ\\x89RPERAS\",\n",
    "                                       \"TRABALHADORES DE TRANSPORTE METROVIÃ\\x81RIO E FERROVIÃ\\x81RIO\",\n",
    "                                       \"TRABALHADORES PORTUÃ\\x81RIOS\", \"TRABALHADORES DA ASSISTÃ\\x8aNCIA SOCIAL\",\n",
    "                                       \"GESTANTES E PUÃ\\x89RPERAS NÃ\\x83O RESIDENTES EM RECIFE\",\n",
    "                                       \"PESSOAS COM DEFICIÃ\\x8aNCIA - 12 A 17 ANOS\",\n",
    "                                       \"PESSOAS COM VIAGEM PARA EXTERIOR (ESTUDO/PESQUISA/TRABALHO/TRATAMENTO DE SAÃ\\x9aDE)\",\n",
    "                                       \"GESTANTES E PUÃ\\x89RPERAS - 12 A 17 ANOS\", \"PESSOAS COM COMORBIDADES - 12 A 17 ANOS\",\n",
    "                                       \"TRABALHADORES DE TRANSPORTE AQUAVIÃ\\x81RIO\"],\n",
    "                                      \n",
    "                                      [\"TRABALHADORES INDUSTRIAIS E BANCARIOS\", \"TRABALHADORES DA SAUDE\",\n",
    "                                       \"PUBLICO EM GERAL (18 a 59 anos)\", \"IDOSOS\",\n",
    "                                       \"TRABALHADORES DA EDUCACAO\", \"PESSOAS COM COMORBIDADES\",\n",
    "                                       \"OUTRAS PRIORIDADES\", \"CAMINHONEIROS\",\n",
    "                                       \" PUBLICO EM GERAL - MENOR DE 18 ANOS\",\n",
    "                                       \"TRABALHADORES DE TRANSPORTE COLETIVO RODOVIARIA\",\n",
    "                                       \"TRABALHADORES DE TRANSPORTE AREO\",\n",
    "                                       \"TRABALHADORES DA LIMPEZA URBANA\",\n",
    "                                       \"PESSOAS EM SITUACAO DE RUA\", \"GESTANTES E PUERPERAS\",\n",
    "                                       \"TRABALHADORES DE TRANSPORTE METROVIARIO E FERROVIARIO\",\n",
    "                                       \"TRABALHADORES PORTUARIOS\", \"TRABALHADORES DA ASSISTENCIA SOCIAL\",\n",
    "                                       \"GESTANTES E PUERPERAS NAO RESIDENTES EM RECIFE\",\n",
    "                                       \"PESSOAS COM DEFICIENCIA - 12 A 17 ANOS\",\n",
    "                                       \"PESSOAS COM VIAGEM PARA EXTERIOR (ESTUDO/PESQUISA/TRABALHO/TRATAMENTO DE SAUDE)\",\n",
    "                                       \"GESTANTES E PUERPERAS - 12 A 17 ANOS\", \"PESSOAS COM COMORBIDADES - 12 A 17 ANOS\",\n",
    "                                       \"TRABALHADORES DE TRANSPORTE AQUAVIARIO\"]\n",
    "                                     )\n"
   ]
  },
  {
   "cell_type": "code",
   "execution_count": 12,
   "id": "27d1a806",
   "metadata": {},
   "outputs": [
    {
     "data": {
      "text/plain": [
       "array(['TRABALHADORES INDUSTRIAIS E BANCÁRIOS', 'TRABALHADORES DA SAÚDE',\n",
       "       'PÚBLICO EM GERAL (18 a 59 anos)', 'IDOSOS',\n",
       "       'TRABALHADORES DA EDUCAÇÃO', 'PESSOAS COM COMORBIDADES',\n",
       "       'OUTRAS PRIORIDADES', 'CAMINHONEIROS',\n",
       "       ' PÚBLICO EM GERAL - MENOR DE 18 ANOS',\n",
       "       'TRABALHADORES DE TRANSPORTE COLETIVO RODOVIÁRIO',\n",
       "       'TRABALHADORES DE TRANSPORTE AÉREO', 'TRABALHADORES PORTUÁRIOS',\n",
       "       'TRABALHADORES DA LIMPEZA URBANA', 'PESSOAS EM SITUAÇÃO DE RUA',\n",
       "       'GESTANTES E PUÉRPERAS',\n",
       "       'TRABALHADORES DE TRANSPORTE METROVIÁRIO E FERROVIÁRIO',\n",
       "       'TRABALHADORES DA ASSISTÊNCIA SOCIAL',\n",
       "       'GESTANTES E PUÉRPERAS NÃO RESIDENTES EM RECIFE',\n",
       "       'PESSOAS COM DEFICIÊNCIA - 12 A 17 ANOS',\n",
       "       'GESTANTES E PUÉRPERAS - 12 A 17 ANOS',\n",
       "       'PESSOAS COM VIAGEM PARA EXTERIOR (ESTUDO/PESQUISA/TRABALHO/TRATAMENTO DE SAÚDE)',\n",
       "       'PESSOAS COM COMORBIDADES - 12 A 17 ANOS',\n",
       "       'TRABALHADORES DE TRANSPORTE AQUAVIÁRIO'], dtype=object)"
      ]
     },
     "execution_count": 12,
     "metadata": {},
     "output_type": "execute_result"
    }
   ],
   "source": [
    "data[\"grupo\"].unique()"
   ]
  },
  {
   "cell_type": "code",
   "execution_count": 13,
   "id": "c0f8767a",
   "metadata": {},
   "outputs": [
    {
     "data": {
      "text/html": [
       "<div>\n",
       "<style scoped>\n",
       "    .dataframe tbody tr th:only-of-type {\n",
       "        vertical-align: middle;\n",
       "    }\n",
       "\n",
       "    .dataframe tbody tr th {\n",
       "        vertical-align: top;\n",
       "    }\n",
       "\n",
       "    .dataframe thead th {\n",
       "        text-align: right;\n",
       "    }\n",
       "</style>\n",
       "<table border=\"1\" class=\"dataframe\">\n",
       "  <thead>\n",
       "    <tr style=\"text-align: right;\">\n",
       "      <th></th>\n",
       "      <th>cpf</th>\n",
       "      <th>grupo</th>\n",
       "      <th>vacina</th>\n",
       "      <th>dose</th>\n",
       "      <th>data_vacinacao</th>\n",
       "      <th>sexo</th>\n",
       "    </tr>\n",
       "  </thead>\n",
       "  <tbody>\n",
       "    <tr>\n",
       "      <th>0</th>\n",
       "      <td>***.574.544-**</td>\n",
       "      <td>TRABALHADORES INDUSTRIAIS E BANCÁRIOS</td>\n",
       "      <td>CHADOX1NCOV-19</td>\n",
       "      <td>1</td>\n",
       "      <td>26/07/2021</td>\n",
       "      <td>MASCULINO</td>\n",
       "    </tr>\n",
       "    <tr>\n",
       "      <th>1</th>\n",
       "      <td>***.886.964-**</td>\n",
       "      <td>TRABALHADORES DA SAÚDE</td>\n",
       "      <td>CORONAVAC</td>\n",
       "      <td>2</td>\n",
       "      <td>04/03/2021</td>\n",
       "      <td>FEMININO</td>\n",
       "    </tr>\n",
       "    <tr>\n",
       "      <th>2</th>\n",
       "      <td>***.886.964-**</td>\n",
       "      <td>TRABALHADORES DA SAÚDE</td>\n",
       "      <td>CORONAVAC</td>\n",
       "      <td>1</td>\n",
       "      <td>11/02/2021</td>\n",
       "      <td>FEMININO</td>\n",
       "    </tr>\n",
       "  </tbody>\n",
       "</table>\n",
       "</div>"
      ],
      "text/plain": [
       "              cpf                                  grupo          vacina  \\\n",
       "0  ***.574.544-**  TRABALHADORES INDUSTRIAIS E BANCÁRIOS  CHADOX1NCOV-19   \n",
       "1  ***.886.964-**                 TRABALHADORES DA SAÚDE       CORONAVAC   \n",
       "2  ***.886.964-**                 TRABALHADORES DA SAÚDE       CORONAVAC   \n",
       "\n",
       "   dose data_vacinacao       sexo  \n",
       "0     1     26/07/2021  MASCULINO  \n",
       "1     2     04/03/2021   FEMININO  \n",
       "2     1     11/02/2021   FEMININO  "
      ]
     },
     "execution_count": 13,
     "metadata": {},
     "output_type": "execute_result"
    }
   ],
   "source": [
    "data.head(3)"
   ]
  },
  {
   "cell_type": "markdown",
   "id": "98a68cf5",
   "metadata": {},
   "source": [
    "# doses, vaccines and groups - classes analysis"
   ]
  },
  {
   "cell_type": "code",
   "execution_count": 14,
   "id": "7e9b4e87",
   "metadata": {},
   "outputs": [],
   "source": [
    "import matplotlib.pyplot as plt\n",
    "import seaborn as sns"
   ]
  },
  {
   "cell_type": "code",
   "execution_count": 15,
   "id": "cfc05a5f",
   "metadata": {},
   "outputs": [],
   "source": [
    "    # classes proportions\n",
    "doses_proportion = data[\"dose\"].value_counts(normalize = True).reset_index()\n",
    "doses_proportion.columns = [\"dose\", \"proportion\"]\n",
    "\n",
    "vaccines_proportion = data[\"vacina\"].value_counts(normalize = True).reset_index()\n",
    "vaccines_proportion.columns = [\"vaccine\", \"proportion\"]\n",
    "\n",
    "groups_proportion = data[\"grupo\"].value_counts(normalize = True).reset_index()\n",
    "groups_proportion.columns = [\"group\", \"proportion\"]"
   ]
  },
  {
   "cell_type": "code",
   "execution_count": 16,
   "id": "2cb37a50",
   "metadata": {},
   "outputs": [
    {
     "data": {
      "text/plain": [
       "Text(0.5, 1.0, 'Groups proportion')"
      ]
     },
     "execution_count": 16,
     "metadata": {},
     "output_type": "execute_result"
    },
    {
     "data": {
      "image/png": "[encoded data removed]",
      "text/plain": [
       "<Figure size 1296x576 with 3 Axes>"
      ]
     },
     "metadata": {
      "needs_background": "light"
     },
     "output_type": "display_data"
    }
   ],
   "source": [
    "    # figure and axes config\n",
    "fig, axes = plt.subplots(ncols = 3, figsize = (18, 8))\n",
    "sns.set_style(\"darkgrid\")\n",
    "sns.set_palette(sns.color_palette(\"husl\", 4))\n",
    "fig.suptitle(\"Classes proportions\", size = 20)\n",
    "\n",
    "    # bar plots\n",
    "sns.barplot(x = \"dose\", y = \"proportion\", data = doses_proportion, ax = axes[0])\n",
    "sns.barplot(x = \"vaccine\", y = \"proportion\", data = vaccines_proportion, ax = axes[1])\n",
    "sns.barplot(x = \"group\", y = \"proportion\", data = groups_proportion[:4], ax = axes[2]) # I'm gonna show \n",
    "                                                                                       # only the top 4 groups\n",
    "\n",
    "    # bar plots' titles\n",
    "axes[0].set_title(\"Doses proportion\")\n",
    "axes[1].set_title(\"Vaccines proportion\")\n",
    "axes[2].set_title(\"Groups proportion\")"
   ]
  },
  {
   "cell_type": "markdown",
   "id": "72e55682",
   "metadata": {},
   "source": [
    "### we can infer the proportion of first dose is higher than the second dose now because half the adult population is vaccinated."
   ]
  },
  {
   "cell_type": "markdown",
   "id": "94a0210e",
   "metadata": {},
   "source": [
    "### as we can see in the vaccines proportion bar plot, CHADOX1NCOV-19 is the most used vaccine in the city."
   ]
  },
  {
   "cell_type": "code",
   "execution_count": 17,
   "id": "0eae5f9b",
   "metadata": {},
   "outputs": [],
   "source": [
    "    # absolute values of the classes\n",
    "doses_frequency = data[\"dose\"].value_counts().reset_index()\n",
    "doses_frequency.columns = [\"dose\", \"frequency\"]\n",
    "\n",
    "vaccines_frequency = data[\"vacina\"].value_counts().reset_index()\n",
    "vaccines_frequency.columns = [\"vaccine\", \"frequency\"]\n",
    "\n",
    "groups_frequency = data[\"grupo\"].value_counts().reset_index()\n",
    "groups_frequency.columns = [\"group\", \"frequency\"]"
   ]
  },
  {
   "cell_type": "code",
   "execution_count": 18,
   "id": "1d9a0645",
   "metadata": {},
   "outputs": [
    {
     "data": {
      "image/png": "[encoded data removed]",
      "text/plain": [
       "<Figure size 720x504 with 1 Axes>"
      ]
     },
     "metadata": {},
     "output_type": "display_data"
    }
   ],
   "source": [
    "fig, axis = plt.subplots(figsize = (10, 7))\n",
    "sns.set_style(\"darkgrid\")\n",
    "sns.set_palette(sns.color_palette(\"Set2\", 4))\n",
    "\n",
    "sns.barplot(x = \"dose\", y = \"frequency\", data = doses_frequency, ax = axis)\n",
    "\n",
    "plt.title(\"Frequency of Doses Applied\", fontsize = 20)\n",
    "plt.xlabel(\"Dose\", fontsize = 15)\n",
    "plt.ylabel(\"Frequency\", fontsize = 15)\n",
    "\n",
    "for index, row in doses_frequency.iterrows():\n",
    "    axis.text(index, row[\"frequency\"], \"{}\".format(row[\"frequency\"]), color = \"black\", ha = \"center\", fontsize = 15)\n",
    "\n",
    "plt.show()"
   ]
  },
  {
   "cell_type": "code",
   "execution_count": 19,
   "id": "d37a2f4a",
   "metadata": {},
   "outputs": [
    {
     "data": {
      "image/png": "[encoded data removed]",
      "text/plain": [
       "<Figure size 720x504 with 1 Axes>"
      ]
     },
     "metadata": {},
     "output_type": "display_data"
    }
   ],
   "source": [
    "fig, axis = plt.subplots(figsize = (10, 7))\n",
    "sns.set_style(\"darkgrid\")\n",
    "sns.set_palette(sns.color_palette(\"husl\", 4))\n",
    "\n",
    "sns.barplot(x = \"vaccine\", y = \"frequency\", data = vaccines_frequency, ax = axis)\n",
    "\n",
    "plt.title(\"Frequency of Vaccines Applied\", fontsize = 20)\n",
    "plt.xlabel(\"Vaccine\", fontsize = 15)\n",
    "plt.ylabel(\"Frequency\", fontsize = 15)\n",
    "\n",
    "for index, row in vaccines_frequency.iterrows():\n",
    "    axis.text(index, row[\"frequency\"], \"{}\".format(row[\"frequency\"]), color = \"black\", ha = \"center\", fontsize = 15)\n",
    "\n",
    "plt.show()"
   ]
  },
  {
   "cell_type": "code",
   "execution_count": 20,
   "id": "2e3803fc",
   "metadata": {},
   "outputs": [
    {
     "data": {
      "image/png": "[encoded data removed]",
      "text/plain": [
       "<Figure size 720x504 with 1 Axes>"
      ]
     },
     "metadata": {},
     "output_type": "display_data"
    }
   ],
   "source": [
    "fig, axis = plt.subplots(figsize = (10, 7))\n",
    "sns.set_style(\"dark\")\n",
    "sns.set_palette(sns.color_palette(\"pastel\", 4))\n",
    "\n",
    "sns.barplot(x = \"group\", y = \"frequency\", data = groups_frequency[:4], ax = axis) # I'm gonna show \n",
    "                                                                                  # only the top 4 groups\n",
    "\n",
    "plt.title(\"Frequency of Vaccinated Groups\", fontsize = 20)\n",
    "plt.xlabel(\"Group\", fontsize = 15)\n",
    "plt.ylabel(\"Frequency\", fontsize = 15)\n",
    "\n",
    "for index, row in groups_frequency[:4].iterrows():\n",
    "    axis.text(index, row[\"frequency\"], \"{}\".format(row[\"frequency\"]), color = \"black\", ha = \"center\", fontsize = 15)\n",
    "\n",
    "plt.show()"
   ]
  },
  {
   "cell_type": "markdown",
   "id": "cc61ec7c",
   "metadata": {},
   "source": [
    "# doses linechart"
   ]
  },
  {
   "cell_type": "code",
   "execution_count": 21,
   "id": "79dfe1bb",
   "metadata": {},
   "outputs": [
    {
     "data": {
      "text/html": [
       "<div>\n",
       "<style scoped>\n",
       "    .dataframe tbody tr th:only-of-type {\n",
       "        vertical-align: middle;\n",
       "    }\n",
       "\n",
       "    .dataframe tbody tr th {\n",
       "        vertical-align: top;\n",
       "    }\n",
       "\n",
       "    .dataframe thead th {\n",
       "        text-align: right;\n",
       "    }\n",
       "</style>\n",
       "<table border=\"1\" class=\"dataframe\">\n",
       "  <thead>\n",
       "    <tr style=\"text-align: right;\">\n",
       "      <th></th>\n",
       "      <th>cpf</th>\n",
       "      <th>grupo</th>\n",
       "      <th>vacina</th>\n",
       "      <th>dose</th>\n",
       "      <th>data_vacinacao</th>\n",
       "      <th>sexo</th>\n",
       "    </tr>\n",
       "  </thead>\n",
       "  <tbody>\n",
       "    <tr>\n",
       "      <th>0</th>\n",
       "      <td>***.574.544-**</td>\n",
       "      <td>TRABALHADORES INDUSTRIAIS E BANCÁRIOS</td>\n",
       "      <td>CHADOX1NCOV-19</td>\n",
       "      <td>1</td>\n",
       "      <td>26/07/2021</td>\n",
       "      <td>MASCULINO</td>\n",
       "    </tr>\n",
       "    <tr>\n",
       "      <th>1</th>\n",
       "      <td>***.886.964-**</td>\n",
       "      <td>TRABALHADORES DA SAÚDE</td>\n",
       "      <td>CORONAVAC</td>\n",
       "      <td>2</td>\n",
       "      <td>04/03/2021</td>\n",
       "      <td>FEMININO</td>\n",
       "    </tr>\n",
       "    <tr>\n",
       "      <th>2</th>\n",
       "      <td>***.886.964-**</td>\n",
       "      <td>TRABALHADORES DA SAÚDE</td>\n",
       "      <td>CORONAVAC</td>\n",
       "      <td>1</td>\n",
       "      <td>11/02/2021</td>\n",
       "      <td>FEMININO</td>\n",
       "    </tr>\n",
       "    <tr>\n",
       "      <th>3</th>\n",
       "      <td>***.405.524-**</td>\n",
       "      <td>PÚBLICO EM GERAL (18 a 59 anos)</td>\n",
       "      <td>COMIRNATY</td>\n",
       "      <td>1</td>\n",
       "      <td>21/08/2021</td>\n",
       "      <td>FEMININO</td>\n",
       "    </tr>\n",
       "    <tr>\n",
       "      <th>4</th>\n",
       "      <td>***.695.200-**</td>\n",
       "      <td>IDOSOS</td>\n",
       "      <td>CORONAVAC</td>\n",
       "      <td>2</td>\n",
       "      <td>31/03/2021</td>\n",
       "      <td>MASCULINO</td>\n",
       "    </tr>\n",
       "  </tbody>\n",
       "</table>\n",
       "</div>"
      ],
      "text/plain": [
       "              cpf                                  grupo          vacina  \\\n",
       "0  ***.574.544-**  TRABALHADORES INDUSTRIAIS E BANCÁRIOS  CHADOX1NCOV-19   \n",
       "1  ***.886.964-**                 TRABALHADORES DA SAÚDE       CORONAVAC   \n",
       "2  ***.886.964-**                 TRABALHADORES DA SAÚDE       CORONAVAC   \n",
       "3  ***.405.524-**        PÚBLICO EM GERAL (18 a 59 anos)       COMIRNATY   \n",
       "4  ***.695.200-**                                 IDOSOS       CORONAVAC   \n",
       "\n",
       "   dose data_vacinacao       sexo  \n",
       "0     1     26/07/2021  MASCULINO  \n",
       "1     2     04/03/2021   FEMININO  \n",
       "2     1     11/02/2021   FEMININO  \n",
       "3     1     21/08/2021   FEMININO  \n",
       "4     2     31/03/2021  MASCULINO  "
      ]
     },
     "execution_count": 21,
     "metadata": {},
     "output_type": "execute_result"
    }
   ],
   "source": [
    "data.head()"
   ]
  },
  {
   "cell_type": "code",
   "execution_count": 22,
   "id": "a4f1464f",
   "metadata": {},
   "outputs": [
    {
     "data": {
      "text/html": [
       "<div>\n",
       "<style scoped>\n",
       "    .dataframe tbody tr th:only-of-type {\n",
       "        vertical-align: middle;\n",
       "    }\n",
       "\n",
       "    .dataframe tbody tr th {\n",
       "        vertical-align: top;\n",
       "    }\n",
       "\n",
       "    .dataframe thead th {\n",
       "        text-align: right;\n",
       "    }\n",
       "</style>\n",
       "<table border=\"1\" class=\"dataframe\">\n",
       "  <thead>\n",
       "    <tr style=\"text-align: right;\">\n",
       "      <th></th>\n",
       "      <th>cpf</th>\n",
       "      <th>grupo</th>\n",
       "      <th>vacina</th>\n",
       "      <th>dose</th>\n",
       "      <th>sexo</th>\n",
       "    </tr>\n",
       "    <tr>\n",
       "      <th>data_vacinacao</th>\n",
       "      <th></th>\n",
       "      <th></th>\n",
       "      <th></th>\n",
       "      <th></th>\n",
       "      <th></th>\n",
       "    </tr>\n",
       "  </thead>\n",
       "  <tbody>\n",
       "    <tr>\n",
       "      <th>2021-07-26</th>\n",
       "      <td>***.574.544-**</td>\n",
       "      <td>TRABALHADORES INDUSTRIAIS E BANCÁRIOS</td>\n",
       "      <td>CHADOX1NCOV-19</td>\n",
       "      <td>1</td>\n",
       "      <td>MASCULINO</td>\n",
       "    </tr>\n",
       "    <tr>\n",
       "      <th>2021-04-03</th>\n",
       "      <td>***.886.964-**</td>\n",
       "      <td>TRABALHADORES DA SAÚDE</td>\n",
       "      <td>CORONAVAC</td>\n",
       "      <td>2</td>\n",
       "      <td>FEMININO</td>\n",
       "    </tr>\n",
       "    <tr>\n",
       "      <th>2021-11-02</th>\n",
       "      <td>***.886.964-**</td>\n",
       "      <td>TRABALHADORES DA SAÚDE</td>\n",
       "      <td>CORONAVAC</td>\n",
       "      <td>1</td>\n",
       "      <td>FEMININO</td>\n",
       "    </tr>\n",
       "    <tr>\n",
       "      <th>2021-08-21</th>\n",
       "      <td>***.405.524-**</td>\n",
       "      <td>PÚBLICO EM GERAL (18 a 59 anos)</td>\n",
       "      <td>COMIRNATY</td>\n",
       "      <td>1</td>\n",
       "      <td>FEMININO</td>\n",
       "    </tr>\n",
       "    <tr>\n",
       "      <th>2021-03-31</th>\n",
       "      <td>***.695.200-**</td>\n",
       "      <td>IDOSOS</td>\n",
       "      <td>CORONAVAC</td>\n",
       "      <td>2</td>\n",
       "      <td>MASCULINO</td>\n",
       "    </tr>\n",
       "  </tbody>\n",
       "</table>\n",
       "</div>"
      ],
      "text/plain": [
       "                           cpf                                  grupo  \\\n",
       "data_vacinacao                                                          \n",
       "2021-07-26      ***.574.544-**  TRABALHADORES INDUSTRIAIS E BANCÁRIOS   \n",
       "2021-04-03      ***.886.964-**                 TRABALHADORES DA SAÚDE   \n",
       "2021-11-02      ***.886.964-**                 TRABALHADORES DA SAÚDE   \n",
       "2021-08-21      ***.405.524-**        PÚBLICO EM GERAL (18 a 59 anos)   \n",
       "2021-03-31      ***.695.200-**                                 IDOSOS   \n",
       "\n",
       "                        vacina  dose       sexo  \n",
       "data_vacinacao                                   \n",
       "2021-07-26      CHADOX1NCOV-19     1  MASCULINO  \n",
       "2021-04-03           CORONAVAC     2   FEMININO  \n",
       "2021-11-02           CORONAVAC     1   FEMININO  \n",
       "2021-08-21           COMIRNATY     1   FEMININO  \n",
       "2021-03-31           CORONAVAC     2  MASCULINO  "
      ]
     },
     "execution_count": 22,
     "metadata": {},
     "output_type": "execute_result"
    }
   ],
   "source": [
    "time_series = data\n",
    "\n",
    "# ordering data by date\n",
    "time_series[\"data_vacinacao\"] = pd.to_datetime(time_series[\"data_vacinacao\"])\n",
    "time_series = time_series.sort_values(by = \"data_vacinacao\")\n",
    "\n",
    "# creating a time series so we can plot a line chart\n",
    "time_series = data.set_index(\"data_vacinacao\")\n",
    "time_series.head()"
   ]
  },
  {
   "cell_type": "code",
   "execution_count": 23,
   "id": "3a27eb20",
   "metadata": {},
   "outputs": [
    {
     "name": "stderr",
     "output_type": "stream",
     "text": [
      "/usr/lib/python3/dist-packages/pandas/plotting/_matplotlib/converter.py:103: FutureWarning: Using an implicitly registered datetime converter for a matplotlib plotting method. The converter was registered by pandas on import. Future versions of pandas will require you to explicitly register matplotlib converters.\n",
      "\n",
      "To register the converters:\n",
      "\t>>> from pandas.plotting import register_matplotlib_converters\n",
      "\t>>> register_matplotlib_converters()\n",
      "  warnings.warn(msg, FutureWarning)\n"
     ]
    },
    {
     "data": {
      "text/plain": [
       "<matplotlib.axes._subplots.AxesSubplot at 0x7fbc3672fd90>"
      ]
     },
     "execution_count": 23,
     "metadata": {},
     "output_type": "execute_result"
    },
    {
     "data": {
      "image/png": "[encoded data removed]",
      "text/plain": [
       "<Figure size 1008x432 with 1 Axes>"
      ]
     },
     "metadata": {},
     "output_type": "display_data"
    }
   ],
   "source": [
    "plt.figure(figsize = (14,6))\n",
    "sns.set_style(\"dark\")\n",
    "sns.lineplot(data = time_series[\"dose\"], label = \"Dose\")"
   ]
  },
  {
   "cell_type": "markdown",
   "id": "603f197c",
   "metadata": {},
   "source": [
    "### that's not a good way to understand how the doses were managed, but we got a line chart, uhu?"
   ]
  },
  {
   "cell_type": "markdown",
   "id": "9639f285",
   "metadata": {},
   "source": [
    "# groupwise analysis"
   ]
  },
  {
   "cell_type": "code",
   "execution_count": 24,
   "id": "3c7f5642",
   "metadata": {},
   "outputs": [
    {
     "data": {
      "text/plain": [
       "grupo\n",
       " PÚBLICO EM GERAL - MENOR DE 18 ANOS                                                    COMIRNATY\n",
       "CAMINHONEIROS                                                                      CHADOX1NCOV-19\n",
       "GESTANTES E PUÉRPERAS                                                                   COMIRNATY\n",
       "GESTANTES E PUÉRPERAS - 12 A 17 ANOS                                                    COMIRNATY\n",
       "GESTANTES E PUÉRPERAS NÃO RESIDENTES EM RECIFE                                          COMIRNATY\n",
       "IDOSOS                                                                                  CORONAVAC\n",
       "OUTRAS PRIORIDADES                                                                 CHADOX1NCOV-19\n",
       "PESSOAS COM COMORBIDADES                                                           CHADOX1NCOV-19\n",
       "PESSOAS COM COMORBIDADES - 12 A 17 ANOS                                                 COMIRNATY\n",
       "PESSOAS COM DEFICIÊNCIA - 12 A 17 ANOS                                                  COMIRNATY\n",
       "PESSOAS COM VIAGEM PARA EXTERIOR (ESTUDO/PESQUISA/TRABALHO/TRATAMENTO DE SAÚDE)           JANSSEN\n",
       "PESSOAS EM SITUAÇÃO DE RUA                                                                JANSSEN\n",
       "PÚBLICO EM GERAL (18 a 59 anos)                                                    CHADOX1NCOV-19\n",
       "TRABALHADORES DA ASSISTÊNCIA SOCIAL                                                CHADOX1NCOV-19\n",
       "TRABALHADORES DA EDUCAÇÃO                                                          CHADOX1NCOV-19\n",
       "TRABALHADORES DA LIMPEZA URBANA                                                    CHADOX1NCOV-19\n",
       "TRABALHADORES DA SAÚDE                                                                  CORONAVAC\n",
       "TRABALHADORES DE TRANSPORTE AQUAVIÁRIO                                             CHADOX1NCOV-19\n",
       "TRABALHADORES DE TRANSPORTE AÉREO                                                  CHADOX1NCOV-19\n",
       "TRABALHADORES DE TRANSPORTE COLETIVO RODOVIÁRIO                                    CHADOX1NCOV-19\n",
       "TRABALHADORES DE TRANSPORTE METROVIÁRIO E FERROVIÁRIO                              CHADOX1NCOV-19\n",
       "TRABALHADORES INDUSTRIAIS E BANCÁRIOS                                              CHADOX1NCOV-19\n",
       "TRABALHADORES PORTUÁRIOS                                                           CHADOX1NCOV-19\n",
       "dtype: object"
      ]
     },
     "execution_count": 24,
     "metadata": {},
     "output_type": "execute_result"
    }
   ],
   "source": [
    "data.groupby(\"grupo\").apply(lambda df: df[\"vacina\"].value_counts().idxmax())"
   ]
  },
  {
   "cell_type": "markdown",
   "id": "037294d6",
   "metadata": {},
   "source": [
    "### as we can see, the most used vaccine in Recife was CHADOX1NCOV-19 from the pharmaceutical and biotechnology company AstraZeneca."
   ]
  },
  {
   "cell_type": "code",
   "execution_count": 25,
   "id": "160af2ae",
   "metadata": {},
   "outputs": [
    {
     "data": {
      "text/plain": [
       "grupo\n",
       " PÚBLICO EM GERAL - MENOR DE 18 ANOS                                               1.000000\n",
       "CAMINHONEIROS                                                                      1.280015\n",
       "GESTANTES E PUÉRPERAS                                                              1.333883\n",
       "GESTANTES E PUÉRPERAS - 12 A 17 ANOS                                               1.000000\n",
       "GESTANTES E PUÉRPERAS NÃO RESIDENTES EM RECIFE                                     1.228261\n",
       "IDOSOS                                                                             1.477962\n",
       "OUTRAS PRIORIDADES                                                                 1.375936\n",
       "PESSOAS COM COMORBIDADES                                                           1.423666\n",
       "PESSOAS COM COMORBIDADES - 12 A 17 ANOS                                            1.000000\n",
       "PESSOAS COM DEFICIÊNCIA - 12 A 17 ANOS                                             1.000000\n",
       "PESSOAS COM VIAGEM PARA EXTERIOR (ESTUDO/PESQUISA/TRABALHO/TRATAMENTO DE SAÚDE)    1.000000\n",
       "PESSOAS EM SITUAÇÃO DE RUA                                                         1.126207\n",
       "PÚBLICO EM GERAL (18 a 59 anos)                                                    1.145340\n",
       "TRABALHADORES DA ASSISTÊNCIA SOCIAL                                                1.327470\n",
       "TRABALHADORES DA EDUCAÇÃO                                                          1.421652\n",
       "TRABALHADORES DA LIMPEZA URBANA                                                    1.150933\n",
       "TRABALHADORES DA SAÚDE                                                             1.467793\n",
       "TRABALHADORES DE TRANSPORTE AQUAVIÁRIO                                             1.217391\n",
       "TRABALHADORES DE TRANSPORTE AÉREO                                                  1.378720\n",
       "TRABALHADORES DE TRANSPORTE COLETIVO RODOVIÁRIO                                    1.228429\n",
       "TRABALHADORES DE TRANSPORTE METROVIÁRIO E FERROVIÁRIO                              1.325415\n",
       "TRABALHADORES INDUSTRIAIS E BANCÁRIOS                                              1.113215\n",
       "TRABALHADORES PORTUÁRIOS                                                           1.402482\n",
       "dtype: float64"
      ]
     },
     "execution_count": 25,
     "metadata": {},
     "output_type": "execute_result"
    }
   ],
   "source": [
    "average_doses = data.groupby(\"grupo\").apply(lambda df: df[\"dose\"].mean())\n",
    "average_doses"
   ]
  },
  {
   "cell_type": "code",
   "execution_count": 26,
   "id": "b8f1b361",
   "metadata": {},
   "outputs": [
    {
     "data": {
      "text/plain": [
       "'IDOSOS'"
      ]
     },
     "execution_count": 26,
     "metadata": {},
     "output_type": "execute_result"
    }
   ],
   "source": [
    "average_doses.idxmax()"
   ]
  },
  {
   "cell_type": "markdown",
   "id": "d9861cb9",
   "metadata": {},
   "source": [
    "### I checked above that the most vacinnated group are the elder group."
   ]
  }
 ],
 "metadata": {
  "kernelspec": {
   "display_name": "Python 3 (ipykernel)",
   "language": "python",
   "name": "python3"
  },
  "language_info": {
   "codemirror_mode": {
    "name": "ipython",
    "version": 3
   },
   "file_extension": ".py",
   "mimetype": "text/x-python",
   "name": "python",
   "nbconvert_exporter": "python",
   "pygments_lexer": "ipython3",
   "version": "3.8.10"
  }
 },
 "nbformat": 4,
 "nbformat_minor": 5
}
